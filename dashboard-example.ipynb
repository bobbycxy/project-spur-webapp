{
 "cells": [
  {
   "cell_type": "code",
   "execution_count": 1,
   "metadata": {},
   "outputs": [],
   "source": [
    "## import libraries\n",
    "\n",
    "import boto3\n",
    "import pandas as pd\n",
    "import numpy as np\n",
    "import dash\n",
    "import creds"
   ]
  },
  {
   "cell_type": "code",
   "execution_count": 2,
   "metadata": {},
   "outputs": [],
   "source": [
    "## get the data from Dynamodb\n",
    "db_client = boto3.resource('dynamodb',aws_access_key_id=creds.AWS_ACCESS_KEY,aws_secret_access_key=creds.AWS_SECRET_ACCESS_KEY)\n"
   ]
  },
  {
   "cell_type": "code",
   "execution_count": 3,
   "metadata": {},
   "outputs": [
    {
     "data": {
      "text/html": [
       "<div>\n",
       "<style scoped>\n",
       "    .dataframe tbody tr th:only-of-type {\n",
       "        vertical-align: middle;\n",
       "    }\n",
       "\n",
       "    .dataframe tbody tr th {\n",
       "        vertical-align: top;\n",
       "    }\n",
       "\n",
       "    .dataframe thead th {\n",
       "        text-align: right;\n",
       "    }\n",
       "</style>\n",
       "<table border=\"1\" class=\"dataframe\">\n",
       "  <thead>\n",
       "    <tr style=\"text-align: right;\">\n",
       "      <th></th>\n",
       "      <th>event_type</th>\n",
       "      <th>cell_group</th>\n",
       "      <th>date_attended</th>\n",
       "      <th>name</th>\n",
       "      <th>attendance_type</th>\n",
       "    </tr>\n",
       "  </thead>\n",
       "  <tbody>\n",
       "    <tr>\n",
       "      <th>0</th>\n",
       "      <td>Cell Group</td>\n",
       "      <td>ONE</td>\n",
       "      <td>2024-04-05 00:00:00</td>\n",
       "      <td>Aaron Chiang</td>\n",
       "      <td>Absent Valid</td>\n",
       "    </tr>\n",
       "    <tr>\n",
       "      <th>1</th>\n",
       "      <td>Cell Group</td>\n",
       "      <td>Bouquet</td>\n",
       "      <td>2024-04-05 00:00:00</td>\n",
       "      <td>Ade-Lyn Tay</td>\n",
       "      <td>Present</td>\n",
       "    </tr>\n",
       "    <tr>\n",
       "      <th>2</th>\n",
       "      <td>Cell Group</td>\n",
       "      <td>Bouquet</td>\n",
       "      <td>2024-04-05 00:00:00</td>\n",
       "      <td>Andrew Chen</td>\n",
       "      <td>Present</td>\n",
       "    </tr>\n",
       "    <tr>\n",
       "      <th>3</th>\n",
       "      <td>Cell Group</td>\n",
       "      <td>ONE</td>\n",
       "      <td>2024-04-05 00:00:00</td>\n",
       "      <td>Bobby Cheng</td>\n",
       "      <td>Present</td>\n",
       "    </tr>\n",
       "    <tr>\n",
       "      <th>4</th>\n",
       "      <td>Cell Group</td>\n",
       "      <td>ONE</td>\n",
       "      <td>2024-04-05 00:00:00</td>\n",
       "      <td>Bryan Yau</td>\n",
       "      <td>Present</td>\n",
       "    </tr>\n",
       "    <tr>\n",
       "      <th>...</th>\n",
       "      <td>...</td>\n",
       "      <td>...</td>\n",
       "      <td>...</td>\n",
       "      <td>...</td>\n",
       "      <td>...</td>\n",
       "    </tr>\n",
       "    <tr>\n",
       "      <th>393</th>\n",
       "      <td>Cell Group</td>\n",
       "      <td>Kadesh</td>\n",
       "      <td>2024-02-16 00:00:00</td>\n",
       "      <td>Ryder Wong</td>\n",
       "      <td>Absent Valid</td>\n",
       "    </tr>\n",
       "    <tr>\n",
       "      <th>394</th>\n",
       "      <td>Cell Group</td>\n",
       "      <td>ONE</td>\n",
       "      <td>2024-02-16 00:00:00</td>\n",
       "      <td>Samuel Pupella</td>\n",
       "      <td>Present</td>\n",
       "    </tr>\n",
       "    <tr>\n",
       "      <th>395</th>\n",
       "      <td>Cell Group</td>\n",
       "      <td>Bouquet</td>\n",
       "      <td>2024-02-16 00:00:00</td>\n",
       "      <td>Teo Jia En</td>\n",
       "      <td>Present</td>\n",
       "    </tr>\n",
       "    <tr>\n",
       "      <th>396</th>\n",
       "      <td>Cell Group</td>\n",
       "      <td>ONE</td>\n",
       "      <td>2024-02-16 00:00:00</td>\n",
       "      <td>Timothy Tan</td>\n",
       "      <td>Present</td>\n",
       "    </tr>\n",
       "    <tr>\n",
       "      <th>397</th>\n",
       "      <td>Cell Group</td>\n",
       "      <td>Bouquet</td>\n",
       "      <td>2024-02-16 00:00:00</td>\n",
       "      <td>Yap Jun Hong</td>\n",
       "      <td>Absent Valid</td>\n",
       "    </tr>\n",
       "  </tbody>\n",
       "</table>\n",
       "<p>398 rows × 5 columns</p>\n",
       "</div>"
      ],
      "text/plain": [
       "     event_type cell_group        date_attended            name  \\\n",
       "0    Cell Group        ONE  2024-04-05 00:00:00    Aaron Chiang   \n",
       "1    Cell Group    Bouquet  2024-04-05 00:00:00     Ade-Lyn Tay   \n",
       "2    Cell Group    Bouquet  2024-04-05 00:00:00     Andrew Chen   \n",
       "3    Cell Group        ONE  2024-04-05 00:00:00     Bobby Cheng   \n",
       "4    Cell Group        ONE  2024-04-05 00:00:00       Bryan Yau   \n",
       "..          ...        ...                  ...             ...   \n",
       "393  Cell Group     Kadesh  2024-02-16 00:00:00      Ryder Wong   \n",
       "394  Cell Group        ONE  2024-02-16 00:00:00  Samuel Pupella   \n",
       "395  Cell Group    Bouquet  2024-02-16 00:00:00      Teo Jia En   \n",
       "396  Cell Group        ONE  2024-02-16 00:00:00     Timothy Tan   \n",
       "397  Cell Group    Bouquet  2024-02-16 00:00:00    Yap Jun Hong   \n",
       "\n",
       "    attendance_type  \n",
       "0      Absent Valid  \n",
       "1           Present  \n",
       "2           Present  \n",
       "3           Present  \n",
       "4           Present  \n",
       "..              ...  \n",
       "393    Absent Valid  \n",
       "394         Present  \n",
       "395         Present  \n",
       "396         Present  \n",
       "397    Absent Valid  \n",
       "\n",
       "[398 rows x 5 columns]"
      ]
     },
     "execution_count": 3,
     "metadata": {},
     "output_type": "execute_result"
    }
   ],
   "source": [
    "attendance = db_client.Table('attendance').scan()\n",
    "attendance = pd.DataFrame(attendance['Items'])\n",
    "attendance\n"
   ]
  },
  {
   "cell_type": "code",
   "execution_count": 14,
   "metadata": {},
   "outputs": [],
   "source": [
    "def get_data(table_name, db_client):\n",
    "    data = pd.DataFrame(db_client.Table(table_name).scan()['Items'])\n",
    "    return data"
   ]
  },
  {
   "cell_type": "code",
   "execution_count": 15,
   "metadata": {},
   "outputs": [
    {
     "name": "stdout",
     "output_type": "stream",
     "text": [
      "shape of attendance: (398, 5)\n",
      "shape of members: (79, 5)\n"
     ]
    }
   ],
   "source": [
    "attendance = get_data('attendance',db_client)\n",
    "members = get_data('person',db_client)\n",
    "\n",
    "print('shape of attendance:',attendance.shape)\n",
    "print('shape of members:',members.shape)\n"
   ]
  },
  {
   "cell_type": "code",
   "execution_count": 16,
   "metadata": {},
   "outputs": [
    {
     "data": {
      "text/html": [
       "<div>\n",
       "<style scoped>\n",
       "    .dataframe tbody tr th:only-of-type {\n",
       "        vertical-align: middle;\n",
       "    }\n",
       "\n",
       "    .dataframe tbody tr th {\n",
       "        vertical-align: top;\n",
       "    }\n",
       "\n",
       "    .dataframe thead th {\n",
       "        text-align: right;\n",
       "    }\n",
       "</style>\n",
       "<table border=\"1\" class=\"dataframe\">\n",
       "  <thead>\n",
       "    <tr style=\"text-align: right;\">\n",
       "      <th></th>\n",
       "      <th>event_type</th>\n",
       "      <th>cell_group</th>\n",
       "      <th>date_attended</th>\n",
       "      <th>role</th>\n",
       "      <th>name</th>\n",
       "      <th>attendance_type</th>\n",
       "    </tr>\n",
       "  </thead>\n",
       "  <tbody>\n",
       "    <tr>\n",
       "      <th>0</th>\n",
       "      <td>Cell Group</td>\n",
       "      <td>ONE</td>\n",
       "      <td>2024-04-05 00:00:00</td>\n",
       "      <td>New Friend</td>\n",
       "      <td>Matthias Chan</td>\n",
       "      <td>Present</td>\n",
       "    </tr>\n",
       "    <tr>\n",
       "      <th>1</th>\n",
       "      <td>Cell Group</td>\n",
       "      <td>ONE</td>\n",
       "      <td>2024-04-05 00:00:00</td>\n",
       "      <td>Member</td>\n",
       "      <td>Jonathan Teo</td>\n",
       "      <td>Present</td>\n",
       "    </tr>\n",
       "    <tr>\n",
       "      <th>2</th>\n",
       "      <td>Cell Group</td>\n",
       "      <td>ONE</td>\n",
       "      <td>2024-04-05 00:00:00</td>\n",
       "      <td>New Friend</td>\n",
       "      <td>Isabelle (Jon’s friend)</td>\n",
       "      <td>Absent Invalid</td>\n",
       "    </tr>\n",
       "    <tr>\n",
       "      <th>3</th>\n",
       "      <td>Cell Group</td>\n",
       "      <td>ONE</td>\n",
       "      <td>2024-04-05 00:00:00</td>\n",
       "      <td>Member</td>\n",
       "      <td>Bryan Yau</td>\n",
       "      <td>Present</td>\n",
       "    </tr>\n",
       "    <tr>\n",
       "      <th>4</th>\n",
       "      <td>Cell Group</td>\n",
       "      <td>ONE</td>\n",
       "      <td>2024-04-05 00:00:00</td>\n",
       "      <td>Leader</td>\n",
       "      <td>Caleb Chan</td>\n",
       "      <td>Absent Valid</td>\n",
       "    </tr>\n",
       "    <tr>\n",
       "      <th>...</th>\n",
       "      <td>...</td>\n",
       "      <td>...</td>\n",
       "      <td>...</td>\n",
       "      <td>...</td>\n",
       "      <td>...</td>\n",
       "      <td>...</td>\n",
       "    </tr>\n",
       "    <tr>\n",
       "      <th>875</th>\n",
       "      <td>Sunday Service</td>\n",
       "      <td>Gilead</td>\n",
       "      <td>2024-03-17 00:00:00</td>\n",
       "      <td>Member</td>\n",
       "      <td>Pierson Png</td>\n",
       "      <td>Absent Valid</td>\n",
       "    </tr>\n",
       "    <tr>\n",
       "      <th>876</th>\n",
       "      <td>Sunday Service</td>\n",
       "      <td>Gilead</td>\n",
       "      <td>2024-03-17 00:00:00</td>\n",
       "      <td>Member</td>\n",
       "      <td>Kayden Lim</td>\n",
       "      <td>Absent Valid</td>\n",
       "    </tr>\n",
       "    <tr>\n",
       "      <th>877</th>\n",
       "      <td>Sunday Service</td>\n",
       "      <td>Gilead</td>\n",
       "      <td>2024-03-17 00:00:00</td>\n",
       "      <td>Leader</td>\n",
       "      <td>Ryan Wong</td>\n",
       "      <td>Present</td>\n",
       "    </tr>\n",
       "    <tr>\n",
       "      <th>878</th>\n",
       "      <td>Sunday Service</td>\n",
       "      <td>Gilead</td>\n",
       "      <td>2024-03-17 00:00:00</td>\n",
       "      <td>Member</td>\n",
       "      <td>Joshua Teo</td>\n",
       "      <td>Present</td>\n",
       "    </tr>\n",
       "    <tr>\n",
       "      <th>879</th>\n",
       "      <td>Sunday Service</td>\n",
       "      <td>Gilead</td>\n",
       "      <td>2024-03-17 00:00:00</td>\n",
       "      <td>Leader</td>\n",
       "      <td>Mark Chua</td>\n",
       "      <td>Present</td>\n",
       "    </tr>\n",
       "  </tbody>\n",
       "</table>\n",
       "<p>880 rows × 6 columns</p>\n",
       "</div>"
      ],
      "text/plain": [
       "         event_type cell_group        date_attended        role  \\\n",
       "0        Cell Group        ONE  2024-04-05 00:00:00  New Friend   \n",
       "1        Cell Group        ONE  2024-04-05 00:00:00      Member   \n",
       "2        Cell Group        ONE  2024-04-05 00:00:00  New Friend   \n",
       "3        Cell Group        ONE  2024-04-05 00:00:00      Member   \n",
       "4        Cell Group        ONE  2024-04-05 00:00:00      Leader   \n",
       "..              ...        ...                  ...         ...   \n",
       "875  Sunday Service     Gilead  2024-03-17 00:00:00      Member   \n",
       "876  Sunday Service     Gilead  2024-03-17 00:00:00      Member   \n",
       "877  Sunday Service     Gilead  2024-03-17 00:00:00      Leader   \n",
       "878  Sunday Service     Gilead  2024-03-17 00:00:00      Member   \n",
       "879  Sunday Service     Gilead  2024-03-17 00:00:00      Leader   \n",
       "\n",
       "                        name attendance_type  \n",
       "0              Matthias Chan         Present  \n",
       "1               Jonathan Teo         Present  \n",
       "2    Isabelle (Jon’s friend)  Absent Invalid  \n",
       "3                  Bryan Yau         Present  \n",
       "4                 Caleb Chan    Absent Valid  \n",
       "..                       ...             ...  \n",
       "875              Pierson Png    Absent Valid  \n",
       "876               Kayden Lim    Absent Valid  \n",
       "877                Ryan Wong         Present  \n",
       "878               Joshua Teo         Present  \n",
       "879                Mark Chua         Present  \n",
       "\n",
       "[880 rows x 6 columns]"
      ]
     },
     "execution_count": 16,
     "metadata": {},
     "output_type": "execute_result"
    }
   ],
   "source": [
    "full_list = attendance[['event_type','cell_group','date_attended']].drop_duplicates().merge(members[['cell_group','role','name']], on = ['cell_group'], how = 'outer')\n",
    "full_list = full_list.merge(attendance, on = ['event_type','cell_group','date_attended','name'], how = 'left')\n",
    "full_list['attendance_type'] = np.where(full_list['attendance_type'].isna(), 'Absent Invalid', full_list['attendance_type'])\n",
    "full_list"
   ]
  },
  {
   "cell_type": "code",
   "execution_count": 17,
   "metadata": {},
   "outputs": [
    {
     "data": {
      "text/html": [
       "<div>\n",
       "<style scoped>\n",
       "    .dataframe tbody tr th:only-of-type {\n",
       "        vertical-align: middle;\n",
       "    }\n",
       "\n",
       "    .dataframe tbody tr th {\n",
       "        vertical-align: top;\n",
       "    }\n",
       "\n",
       "    .dataframe thead th {\n",
       "        text-align: right;\n",
       "    }\n",
       "</style>\n",
       "<table border=\"1\" class=\"dataframe\">\n",
       "  <thead>\n",
       "    <tr style=\"text-align: right;\">\n",
       "      <th></th>\n",
       "      <th>event_type</th>\n",
       "      <th>cell_group</th>\n",
       "      <th>date_attended</th>\n",
       "      <th>role</th>\n",
       "      <th>name</th>\n",
       "      <th>attendance_type</th>\n",
       "    </tr>\n",
       "  </thead>\n",
       "  <tbody>\n",
       "    <tr>\n",
       "      <th>297</th>\n",
       "      <td>Cell Group</td>\n",
       "      <td>ONE</td>\n",
       "      <td>2024-03-01 00:00:00</td>\n",
       "      <td>New Friend</td>\n",
       "      <td>Matthias Chan</td>\n",
       "      <td>Present</td>\n",
       "    </tr>\n",
       "    <tr>\n",
       "      <th>298</th>\n",
       "      <td>Cell Group</td>\n",
       "      <td>ONE</td>\n",
       "      <td>2024-03-01 00:00:00</td>\n",
       "      <td>Member</td>\n",
       "      <td>Jonathan Teo</td>\n",
       "      <td>Present</td>\n",
       "    </tr>\n",
       "    <tr>\n",
       "      <th>299</th>\n",
       "      <td>Cell Group</td>\n",
       "      <td>ONE</td>\n",
       "      <td>2024-03-01 00:00:00</td>\n",
       "      <td>New Friend</td>\n",
       "      <td>Isabelle (Jon’s friend)</td>\n",
       "      <td>Absent Invalid</td>\n",
       "    </tr>\n",
       "    <tr>\n",
       "      <th>300</th>\n",
       "      <td>Cell Group</td>\n",
       "      <td>ONE</td>\n",
       "      <td>2024-03-01 00:00:00</td>\n",
       "      <td>Member</td>\n",
       "      <td>Bryan Yau</td>\n",
       "      <td>Present</td>\n",
       "    </tr>\n",
       "    <tr>\n",
       "      <th>301</th>\n",
       "      <td>Cell Group</td>\n",
       "      <td>ONE</td>\n",
       "      <td>2024-03-01 00:00:00</td>\n",
       "      <td>Leader</td>\n",
       "      <td>Caleb Chan</td>\n",
       "      <td>Present</td>\n",
       "    </tr>\n",
       "    <tr>\n",
       "      <th>302</th>\n",
       "      <td>Cell Group</td>\n",
       "      <td>ONE</td>\n",
       "      <td>2024-03-01 00:00:00</td>\n",
       "      <td>Member</td>\n",
       "      <td>Caleb Chan</td>\n",
       "      <td>Present</td>\n",
       "    </tr>\n",
       "    <tr>\n",
       "      <th>303</th>\n",
       "      <td>Cell Group</td>\n",
       "      <td>ONE</td>\n",
       "      <td>2024-03-01 00:00:00</td>\n",
       "      <td>Member</td>\n",
       "      <td>Gilia Quek</td>\n",
       "      <td>Present</td>\n",
       "    </tr>\n",
       "    <tr>\n",
       "      <th>304</th>\n",
       "      <td>Cell Group</td>\n",
       "      <td>ONE</td>\n",
       "      <td>2024-03-01 00:00:00</td>\n",
       "      <td>Member</td>\n",
       "      <td>Jasariel Chee</td>\n",
       "      <td>Present</td>\n",
       "    </tr>\n",
       "    <tr>\n",
       "      <th>305</th>\n",
       "      <td>Cell Group</td>\n",
       "      <td>ONE</td>\n",
       "      <td>2024-03-01 00:00:00</td>\n",
       "      <td>Member</td>\n",
       "      <td>Aaron Chiang</td>\n",
       "      <td>Present</td>\n",
       "    </tr>\n",
       "    <tr>\n",
       "      <th>306</th>\n",
       "      <td>Cell Group</td>\n",
       "      <td>ONE</td>\n",
       "      <td>2024-03-01 00:00:00</td>\n",
       "      <td>New Friend</td>\n",
       "      <td>Samuel Pupella</td>\n",
       "      <td>Absent Invalid</td>\n",
       "    </tr>\n",
       "    <tr>\n",
       "      <th>307</th>\n",
       "      <td>Cell Group</td>\n",
       "      <td>ONE</td>\n",
       "      <td>2024-03-01 00:00:00</td>\n",
       "      <td>New Friend</td>\n",
       "      <td>Claire (Timothy’s friend)</td>\n",
       "      <td>Absent Invalid</td>\n",
       "    </tr>\n",
       "    <tr>\n",
       "      <th>308</th>\n",
       "      <td>Cell Group</td>\n",
       "      <td>ONE</td>\n",
       "      <td>2024-03-01 00:00:00</td>\n",
       "      <td>New Friend</td>\n",
       "      <td>Jayden (Jeslyn’s friend)</td>\n",
       "      <td>Absent Invalid</td>\n",
       "    </tr>\n",
       "    <tr>\n",
       "      <th>309</th>\n",
       "      <td>Cell Group</td>\n",
       "      <td>ONE</td>\n",
       "      <td>2024-03-01 00:00:00</td>\n",
       "      <td>Member</td>\n",
       "      <td>Timothy Tan</td>\n",
       "      <td>Present</td>\n",
       "    </tr>\n",
       "    <tr>\n",
       "      <th>310</th>\n",
       "      <td>Cell Group</td>\n",
       "      <td>ONE</td>\n",
       "      <td>2024-03-01 00:00:00</td>\n",
       "      <td>Member</td>\n",
       "      <td>Matthew Wong</td>\n",
       "      <td>Absent Invalid</td>\n",
       "    </tr>\n",
       "    <tr>\n",
       "      <th>311</th>\n",
       "      <td>Cell Group</td>\n",
       "      <td>ONE</td>\n",
       "      <td>2024-03-01 00:00:00</td>\n",
       "      <td>Member</td>\n",
       "      <td>Eliot</td>\n",
       "      <td>Present</td>\n",
       "    </tr>\n",
       "    <tr>\n",
       "      <th>312</th>\n",
       "      <td>Cell Group</td>\n",
       "      <td>ONE</td>\n",
       "      <td>2024-03-01 00:00:00</td>\n",
       "      <td>New Friend</td>\n",
       "      <td>Zoey (TW’s friend)</td>\n",
       "      <td>Absent Invalid</td>\n",
       "    </tr>\n",
       "    <tr>\n",
       "      <th>313</th>\n",
       "      <td>Cell Group</td>\n",
       "      <td>ONE</td>\n",
       "      <td>2024-03-01 00:00:00</td>\n",
       "      <td>Member</td>\n",
       "      <td>Wayne Lee</td>\n",
       "      <td>Absent Invalid</td>\n",
       "    </tr>\n",
       "    <tr>\n",
       "      <th>314</th>\n",
       "      <td>Cell Group</td>\n",
       "      <td>ONE</td>\n",
       "      <td>2024-03-01 00:00:00</td>\n",
       "      <td>Member</td>\n",
       "      <td>Michael Chua</td>\n",
       "      <td>Absent Invalid</td>\n",
       "    </tr>\n",
       "    <tr>\n",
       "      <th>315</th>\n",
       "      <td>Cell Group</td>\n",
       "      <td>ONE</td>\n",
       "      <td>2024-03-01 00:00:00</td>\n",
       "      <td>New Friend</td>\n",
       "      <td>Milton (TW’s friend)</td>\n",
       "      <td>Absent Invalid</td>\n",
       "    </tr>\n",
       "    <tr>\n",
       "      <th>316</th>\n",
       "      <td>Cell Group</td>\n",
       "      <td>ONE</td>\n",
       "      <td>2024-03-01 00:00:00</td>\n",
       "      <td>Member</td>\n",
       "      <td>Joel Lau</td>\n",
       "      <td>Absent Invalid</td>\n",
       "    </tr>\n",
       "    <tr>\n",
       "      <th>317</th>\n",
       "      <td>Cell Group</td>\n",
       "      <td>ONE</td>\n",
       "      <td>2024-03-01 00:00:00</td>\n",
       "      <td>New Friend</td>\n",
       "      <td>Sheena (TW’s friend)</td>\n",
       "      <td>Absent Invalid</td>\n",
       "    </tr>\n",
       "    <tr>\n",
       "      <th>318</th>\n",
       "      <td>Cell Group</td>\n",
       "      <td>ONE</td>\n",
       "      <td>2024-03-01 00:00:00</td>\n",
       "      <td>Leader</td>\n",
       "      <td>Bobby Cheng</td>\n",
       "      <td>Present</td>\n",
       "    </tr>\n",
       "    <tr>\n",
       "      <th>319</th>\n",
       "      <td>Cell Group</td>\n",
       "      <td>ONE</td>\n",
       "      <td>2024-03-01 00:00:00</td>\n",
       "      <td>New Friend</td>\n",
       "      <td>Natalie (Jeslyn’s friend)</td>\n",
       "      <td>Absent Invalid</td>\n",
       "    </tr>\n",
       "    <tr>\n",
       "      <th>320</th>\n",
       "      <td>Cell Group</td>\n",
       "      <td>ONE</td>\n",
       "      <td>2024-03-01 00:00:00</td>\n",
       "      <td>New Friend</td>\n",
       "      <td>Stan (TW’s friend)</td>\n",
       "      <td>Absent Invalid</td>\n",
       "    </tr>\n",
       "    <tr>\n",
       "      <th>321</th>\n",
       "      <td>Cell Group</td>\n",
       "      <td>ONE</td>\n",
       "      <td>2024-03-01 00:00:00</td>\n",
       "      <td>Member</td>\n",
       "      <td>Lee Chen Ye</td>\n",
       "      <td>Present</td>\n",
       "    </tr>\n",
       "    <tr>\n",
       "      <th>322</th>\n",
       "      <td>Cell Group</td>\n",
       "      <td>ONE</td>\n",
       "      <td>2024-03-01 00:00:00</td>\n",
       "      <td>New Friend</td>\n",
       "      <td>Zi Cong (Gilia’s friend)</td>\n",
       "      <td>Absent Invalid</td>\n",
       "    </tr>\n",
       "    <tr>\n",
       "      <th>323</th>\n",
       "      <td>Cell Group</td>\n",
       "      <td>ONE</td>\n",
       "      <td>2024-03-01 00:00:00</td>\n",
       "      <td>Leader</td>\n",
       "      <td>Phoebe Chan</td>\n",
       "      <td>Present</td>\n",
       "    </tr>\n",
       "    <tr>\n",
       "      <th>324</th>\n",
       "      <td>Cell Group</td>\n",
       "      <td>ONE</td>\n",
       "      <td>2024-03-01 00:00:00</td>\n",
       "      <td>Member</td>\n",
       "      <td>Sng Jia Jun</td>\n",
       "      <td>Absent Invalid</td>\n",
       "    </tr>\n",
       "    <tr>\n",
       "      <th>325</th>\n",
       "      <td>Cell Group</td>\n",
       "      <td>ONE</td>\n",
       "      <td>2024-03-01 00:00:00</td>\n",
       "      <td>Member</td>\n",
       "      <td>Nadya Vijay</td>\n",
       "      <td>Absent Valid</td>\n",
       "    </tr>\n",
       "    <tr>\n",
       "      <th>326</th>\n",
       "      <td>Cell Group</td>\n",
       "      <td>ONE</td>\n",
       "      <td>2024-03-01 00:00:00</td>\n",
       "      <td>Member</td>\n",
       "      <td>Chua Ting Wei</td>\n",
       "      <td>Absent Valid</td>\n",
       "    </tr>\n",
       "    <tr>\n",
       "      <th>327</th>\n",
       "      <td>Cell Group</td>\n",
       "      <td>ONE</td>\n",
       "      <td>2024-03-01 00:00:00</td>\n",
       "      <td>Member</td>\n",
       "      <td>Matthias Chan</td>\n",
       "      <td>Absent Invalid</td>\n",
       "    </tr>\n",
       "    <tr>\n",
       "      <th>328</th>\n",
       "      <td>Cell Group</td>\n",
       "      <td>ONE</td>\n",
       "      <td>2024-03-01 00:00:00</td>\n",
       "      <td>Member</td>\n",
       "      <td>Nikita</td>\n",
       "      <td>Absent Invalid</td>\n",
       "    </tr>\n",
       "    <tr>\n",
       "      <th>329</th>\n",
       "      <td>Cell Group</td>\n",
       "      <td>ONE</td>\n",
       "      <td>2024-03-01 00:00:00</td>\n",
       "      <td>New Friend</td>\n",
       "      <td>Jia Ni (Jeslyn’s friend)</td>\n",
       "      <td>Absent Invalid</td>\n",
       "    </tr>\n",
       "  </tbody>\n",
       "</table>\n",
       "</div>"
      ],
      "text/plain": [
       "     event_type cell_group        date_attended        role  \\\n",
       "297  Cell Group        ONE  2024-03-01 00:00:00  New Friend   \n",
       "298  Cell Group        ONE  2024-03-01 00:00:00      Member   \n",
       "299  Cell Group        ONE  2024-03-01 00:00:00  New Friend   \n",
       "300  Cell Group        ONE  2024-03-01 00:00:00      Member   \n",
       "301  Cell Group        ONE  2024-03-01 00:00:00      Leader   \n",
       "302  Cell Group        ONE  2024-03-01 00:00:00      Member   \n",
       "303  Cell Group        ONE  2024-03-01 00:00:00      Member   \n",
       "304  Cell Group        ONE  2024-03-01 00:00:00      Member   \n",
       "305  Cell Group        ONE  2024-03-01 00:00:00      Member   \n",
       "306  Cell Group        ONE  2024-03-01 00:00:00  New Friend   \n",
       "307  Cell Group        ONE  2024-03-01 00:00:00  New Friend   \n",
       "308  Cell Group        ONE  2024-03-01 00:00:00  New Friend   \n",
       "309  Cell Group        ONE  2024-03-01 00:00:00      Member   \n",
       "310  Cell Group        ONE  2024-03-01 00:00:00      Member   \n",
       "311  Cell Group        ONE  2024-03-01 00:00:00      Member   \n",
       "312  Cell Group        ONE  2024-03-01 00:00:00  New Friend   \n",
       "313  Cell Group        ONE  2024-03-01 00:00:00      Member   \n",
       "314  Cell Group        ONE  2024-03-01 00:00:00      Member   \n",
       "315  Cell Group        ONE  2024-03-01 00:00:00  New Friend   \n",
       "316  Cell Group        ONE  2024-03-01 00:00:00      Member   \n",
       "317  Cell Group        ONE  2024-03-01 00:00:00  New Friend   \n",
       "318  Cell Group        ONE  2024-03-01 00:00:00      Leader   \n",
       "319  Cell Group        ONE  2024-03-01 00:00:00  New Friend   \n",
       "320  Cell Group        ONE  2024-03-01 00:00:00  New Friend   \n",
       "321  Cell Group        ONE  2024-03-01 00:00:00      Member   \n",
       "322  Cell Group        ONE  2024-03-01 00:00:00  New Friend   \n",
       "323  Cell Group        ONE  2024-03-01 00:00:00      Leader   \n",
       "324  Cell Group        ONE  2024-03-01 00:00:00      Member   \n",
       "325  Cell Group        ONE  2024-03-01 00:00:00      Member   \n",
       "326  Cell Group        ONE  2024-03-01 00:00:00      Member   \n",
       "327  Cell Group        ONE  2024-03-01 00:00:00      Member   \n",
       "328  Cell Group        ONE  2024-03-01 00:00:00      Member   \n",
       "329  Cell Group        ONE  2024-03-01 00:00:00  New Friend   \n",
       "\n",
       "                          name attendance_type  \n",
       "297              Matthias Chan         Present  \n",
       "298               Jonathan Teo         Present  \n",
       "299    Isabelle (Jon’s friend)  Absent Invalid  \n",
       "300                  Bryan Yau         Present  \n",
       "301                 Caleb Chan         Present  \n",
       "302                 Caleb Chan         Present  \n",
       "303                 Gilia Quek         Present  \n",
       "304              Jasariel Chee         Present  \n",
       "305               Aaron Chiang         Present  \n",
       "306             Samuel Pupella  Absent Invalid  \n",
       "307  Claire (Timothy’s friend)  Absent Invalid  \n",
       "308   Jayden (Jeslyn’s friend)  Absent Invalid  \n",
       "309                Timothy Tan         Present  \n",
       "310               Matthew Wong  Absent Invalid  \n",
       "311                      Eliot         Present  \n",
       "312         Zoey (TW’s friend)  Absent Invalid  \n",
       "313                  Wayne Lee  Absent Invalid  \n",
       "314               Michael Chua  Absent Invalid  \n",
       "315       Milton (TW’s friend)  Absent Invalid  \n",
       "316                  Joel Lau   Absent Invalid  \n",
       "317       Sheena (TW’s friend)  Absent Invalid  \n",
       "318                Bobby Cheng         Present  \n",
       "319  Natalie (Jeslyn’s friend)  Absent Invalid  \n",
       "320         Stan (TW’s friend)  Absent Invalid  \n",
       "321                Lee Chen Ye         Present  \n",
       "322   Zi Cong (Gilia’s friend)  Absent Invalid  \n",
       "323                Phoebe Chan         Present  \n",
       "324                Sng Jia Jun  Absent Invalid  \n",
       "325                Nadya Vijay    Absent Valid  \n",
       "326              Chua Ting Wei    Absent Valid  \n",
       "327             Matthias Chan   Absent Invalid  \n",
       "328                     Nikita  Absent Invalid  \n",
       "329   Jia Ni (Jeslyn’s friend)  Absent Invalid  "
      ]
     },
     "execution_count": 17,
     "metadata": {},
     "output_type": "execute_result"
    }
   ],
   "source": [
    "full_list[(full_list['date_attended']=='2024-03-01 00:00:00')&(full_list['cell_group']=='ONE')]"
   ]
  },
  {
   "cell_type": "code",
   "execution_count": 18,
   "metadata": {},
   "outputs": [
    {
     "data": {
      "text/html": [
       "<div>\n",
       "<style scoped>\n",
       "    .dataframe tbody tr th:only-of-type {\n",
       "        vertical-align: middle;\n",
       "    }\n",
       "\n",
       "    .dataframe tbody tr th {\n",
       "        vertical-align: top;\n",
       "    }\n",
       "\n",
       "    .dataframe thead th {\n",
       "        text-align: right;\n",
       "    }\n",
       "</style>\n",
       "<table border=\"1\" class=\"dataframe\">\n",
       "  <thead>\n",
       "    <tr style=\"text-align: right;\">\n",
       "      <th></th>\n",
       "      <th>event_type</th>\n",
       "      <th>cell_group</th>\n",
       "      <th>date_attended</th>\n",
       "      <th>role</th>\n",
       "      <th>name</th>\n",
       "      <th>attendance_type</th>\n",
       "    </tr>\n",
       "  </thead>\n",
       "  <tbody>\n",
       "    <tr>\n",
       "      <th>0</th>\n",
       "      <td>Cell Group</td>\n",
       "      <td>ONE</td>\n",
       "      <td>2024-04-05 00:00:00</td>\n",
       "      <td>New Friend</td>\n",
       "      <td>Matthias Chan</td>\n",
       "      <td>Present</td>\n",
       "    </tr>\n",
       "    <tr>\n",
       "      <th>1</th>\n",
       "      <td>Cell Group</td>\n",
       "      <td>ONE</td>\n",
       "      <td>2024-04-05 00:00:00</td>\n",
       "      <td>Member</td>\n",
       "      <td>Jonathan Teo</td>\n",
       "      <td>Present</td>\n",
       "    </tr>\n",
       "    <tr>\n",
       "      <th>2</th>\n",
       "      <td>Cell Group</td>\n",
       "      <td>ONE</td>\n",
       "      <td>2024-04-05 00:00:00</td>\n",
       "      <td>New Friend</td>\n",
       "      <td>Isabelle (Jon’s friend)</td>\n",
       "      <td>Absent Invalid</td>\n",
       "    </tr>\n",
       "    <tr>\n",
       "      <th>3</th>\n",
       "      <td>Cell Group</td>\n",
       "      <td>ONE</td>\n",
       "      <td>2024-04-05 00:00:00</td>\n",
       "      <td>Member</td>\n",
       "      <td>Bryan Yau</td>\n",
       "      <td>Present</td>\n",
       "    </tr>\n",
       "    <tr>\n",
       "      <th>4</th>\n",
       "      <td>Cell Group</td>\n",
       "      <td>ONE</td>\n",
       "      <td>2024-04-05 00:00:00</td>\n",
       "      <td>Leader</td>\n",
       "      <td>Caleb Chan</td>\n",
       "      <td>Absent Valid</td>\n",
       "    </tr>\n",
       "    <tr>\n",
       "      <th>...</th>\n",
       "      <td>...</td>\n",
       "      <td>...</td>\n",
       "      <td>...</td>\n",
       "      <td>...</td>\n",
       "      <td>...</td>\n",
       "      <td>...</td>\n",
       "    </tr>\n",
       "    <tr>\n",
       "      <th>875</th>\n",
       "      <td>Sunday Service</td>\n",
       "      <td>Gilead</td>\n",
       "      <td>2024-03-17 00:00:00</td>\n",
       "      <td>Member</td>\n",
       "      <td>Pierson Png</td>\n",
       "      <td>Absent Valid</td>\n",
       "    </tr>\n",
       "    <tr>\n",
       "      <th>876</th>\n",
       "      <td>Sunday Service</td>\n",
       "      <td>Gilead</td>\n",
       "      <td>2024-03-17 00:00:00</td>\n",
       "      <td>Member</td>\n",
       "      <td>Kayden Lim</td>\n",
       "      <td>Absent Valid</td>\n",
       "    </tr>\n",
       "    <tr>\n",
       "      <th>877</th>\n",
       "      <td>Sunday Service</td>\n",
       "      <td>Gilead</td>\n",
       "      <td>2024-03-17 00:00:00</td>\n",
       "      <td>Leader</td>\n",
       "      <td>Ryan Wong</td>\n",
       "      <td>Present</td>\n",
       "    </tr>\n",
       "    <tr>\n",
       "      <th>878</th>\n",
       "      <td>Sunday Service</td>\n",
       "      <td>Gilead</td>\n",
       "      <td>2024-03-17 00:00:00</td>\n",
       "      <td>Member</td>\n",
       "      <td>Joshua Teo</td>\n",
       "      <td>Present</td>\n",
       "    </tr>\n",
       "    <tr>\n",
       "      <th>879</th>\n",
       "      <td>Sunday Service</td>\n",
       "      <td>Gilead</td>\n",
       "      <td>2024-03-17 00:00:00</td>\n",
       "      <td>Leader</td>\n",
       "      <td>Mark Chua</td>\n",
       "      <td>Present</td>\n",
       "    </tr>\n",
       "  </tbody>\n",
       "</table>\n",
       "<p>880 rows × 6 columns</p>\n",
       "</div>"
      ],
      "text/plain": [
       "         event_type cell_group        date_attended        role  \\\n",
       "0        Cell Group        ONE  2024-04-05 00:00:00  New Friend   \n",
       "1        Cell Group        ONE  2024-04-05 00:00:00      Member   \n",
       "2        Cell Group        ONE  2024-04-05 00:00:00  New Friend   \n",
       "3        Cell Group        ONE  2024-04-05 00:00:00      Member   \n",
       "4        Cell Group        ONE  2024-04-05 00:00:00      Leader   \n",
       "..              ...        ...                  ...         ...   \n",
       "875  Sunday Service     Gilead  2024-03-17 00:00:00      Member   \n",
       "876  Sunday Service     Gilead  2024-03-17 00:00:00      Member   \n",
       "877  Sunday Service     Gilead  2024-03-17 00:00:00      Leader   \n",
       "878  Sunday Service     Gilead  2024-03-17 00:00:00      Member   \n",
       "879  Sunday Service     Gilead  2024-03-17 00:00:00      Leader   \n",
       "\n",
       "                        name attendance_type  \n",
       "0              Matthias Chan         Present  \n",
       "1               Jonathan Teo         Present  \n",
       "2    Isabelle (Jon’s friend)  Absent Invalid  \n",
       "3                  Bryan Yau         Present  \n",
       "4                 Caleb Chan    Absent Valid  \n",
       "..                       ...             ...  \n",
       "875              Pierson Png    Absent Valid  \n",
       "876               Kayden Lim    Absent Valid  \n",
       "877                Ryan Wong         Present  \n",
       "878               Joshua Teo         Present  \n",
       "879                Mark Chua         Present  \n",
       "\n",
       "[880 rows x 6 columns]"
      ]
     },
     "execution_count": 18,
     "metadata": {},
     "output_type": "execute_result"
    }
   ],
   "source": [
    "df"
   ]
  },
  {
   "cell_type": "code",
   "execution_count": 19,
   "metadata": {},
   "outputs": [
    {
     "data": {
      "text/html": [
       "<div>\n",
       "<style scoped>\n",
       "    .dataframe tbody tr th:only-of-type {\n",
       "        vertical-align: middle;\n",
       "    }\n",
       "\n",
       "    .dataframe tbody tr th {\n",
       "        vertical-align: top;\n",
       "    }\n",
       "\n",
       "    .dataframe thead th {\n",
       "        text-align: right;\n",
       "    }\n",
       "</style>\n",
       "<table border=\"1\" class=\"dataframe\">\n",
       "  <thead>\n",
       "    <tr style=\"text-align: right;\">\n",
       "      <th></th>\n",
       "      <th>date_attended</th>\n",
       "      <th>name_x</th>\n",
       "      <th>name_y</th>\n",
       "      <th>percentage</th>\n",
       "    </tr>\n",
       "  </thead>\n",
       "  <tbody>\n",
       "    <tr>\n",
       "      <th>0</th>\n",
       "      <td>2024-02-16 00:00:00</td>\n",
       "      <td>6</td>\n",
       "      <td>16</td>\n",
       "      <td>37.5</td>\n",
       "    </tr>\n",
       "    <tr>\n",
       "      <th>1</th>\n",
       "      <td>2024-02-18 00:00:00</td>\n",
       "      <td>10</td>\n",
       "      <td>16</td>\n",
       "      <td>62.5</td>\n",
       "    </tr>\n",
       "    <tr>\n",
       "      <th>2</th>\n",
       "      <td>2024-02-23 00:00:00</td>\n",
       "      <td>3</td>\n",
       "      <td>16</td>\n",
       "      <td>18.8</td>\n",
       "    </tr>\n",
       "    <tr>\n",
       "      <th>3</th>\n",
       "      <td>2024-02-25 00:00:00</td>\n",
       "      <td>5</td>\n",
       "      <td>16</td>\n",
       "      <td>31.2</td>\n",
       "    </tr>\n",
       "    <tr>\n",
       "      <th>4</th>\n",
       "      <td>2024-03-01 00:00:00</td>\n",
       "      <td>6</td>\n",
       "      <td>16</td>\n",
       "      <td>37.5</td>\n",
       "    </tr>\n",
       "    <tr>\n",
       "      <th>5</th>\n",
       "      <td>2024-03-15 00:00:00</td>\n",
       "      <td>7</td>\n",
       "      <td>16</td>\n",
       "      <td>43.8</td>\n",
       "    </tr>\n",
       "    <tr>\n",
       "      <th>6</th>\n",
       "      <td>2024-03-17 00:00:00</td>\n",
       "      <td>6</td>\n",
       "      <td>16</td>\n",
       "      <td>37.5</td>\n",
       "    </tr>\n",
       "    <tr>\n",
       "      <th>7</th>\n",
       "      <td>2024-03-22 00:00:00</td>\n",
       "      <td>5</td>\n",
       "      <td>16</td>\n",
       "      <td>31.2</td>\n",
       "    </tr>\n",
       "    <tr>\n",
       "      <th>8</th>\n",
       "      <td>2024-03-24 00:00:00</td>\n",
       "      <td>6</td>\n",
       "      <td>16</td>\n",
       "      <td>37.5</td>\n",
       "    </tr>\n",
       "    <tr>\n",
       "      <th>9</th>\n",
       "      <td>2024-03-29 00:00:00</td>\n",
       "      <td>10</td>\n",
       "      <td>16</td>\n",
       "      <td>62.5</td>\n",
       "    </tr>\n",
       "    <tr>\n",
       "      <th>10</th>\n",
       "      <td>2024-03-31 00:00:00</td>\n",
       "      <td>11</td>\n",
       "      <td>16</td>\n",
       "      <td>68.8</td>\n",
       "    </tr>\n",
       "    <tr>\n",
       "      <th>11</th>\n",
       "      <td>2024-04-05 00:00:00</td>\n",
       "      <td>4</td>\n",
       "      <td>16</td>\n",
       "      <td>25.0</td>\n",
       "    </tr>\n",
       "  </tbody>\n",
       "</table>\n",
       "</div>"
      ],
      "text/plain": [
       "          date_attended  name_x  name_y  percentage\n",
       "0   2024-02-16 00:00:00       6      16        37.5\n",
       "1   2024-02-18 00:00:00      10      16        62.5\n",
       "2   2024-02-23 00:00:00       3      16        18.8\n",
       "3   2024-02-25 00:00:00       5      16        31.2\n",
       "4   2024-03-01 00:00:00       6      16        37.5\n",
       "5   2024-03-15 00:00:00       7      16        43.8\n",
       "6   2024-03-17 00:00:00       6      16        37.5\n",
       "7   2024-03-22 00:00:00       5      16        31.2\n",
       "8   2024-03-24 00:00:00       6      16        37.5\n",
       "9   2024-03-29 00:00:00      10      16        62.5\n",
       "10  2024-03-31 00:00:00      11      16        68.8\n",
       "11  2024-04-05 00:00:00       4      16        25.0"
      ]
     },
     "execution_count": 19,
     "metadata": {},
     "output_type": "execute_result"
    }
   ],
   "source": [
    "df = full_list.copy()\n",
    "\n",
    "## present the data for the percentages of members\n",
    "cell_group = 'Bouquet'\n",
    "event_type = 'ALL'\n",
    "attendance_type = 'Present'\n",
    "role = 'Member'\n",
    "\n",
    "if cell_group == 'ALL':\n",
    "    cell_group = df['cell_group'].unique()\n",
    "else:\n",
    "    cell_group = [cell_group]\n",
    "\n",
    "if event_type == 'ALL':\n",
    "    event_type = df['event_type'].unique()\n",
    "else:\n",
    "    event_type = [event_type]\n",
    "\n",
    "if attendance_type == 'ALL':\n",
    "    attendance_type = df['attendance_type'].unique()\n",
    "else:\n",
    "    attendance_type = [attendance_type]\n",
    "\n",
    "if role == 'ALL':\n",
    "    role = df['role'].unique()\n",
    "else:\n",
    "    role = [role]\n",
    "\n",
    "filtered_df = df[\n",
    "    (df['cell_group'].isin(list(cell_group)))&\n",
    "    (df['event_type'].isin(list(event_type)))&\n",
    "    (df['attendance_type'].isin(list(attendance_type)))&\n",
    "    (df['role'].isin(list(role)))\n",
    "]\n",
    "\n",
    "denominator_df = df[\n",
    "    (df['cell_group'].isin(list(cell_group)))&\n",
    "    (df['event_type'].isin(list(event_type)))&\n",
    "    # (df['attendance_type'].isin(list(attendance_type)))&\n",
    "    (df['role'].isin(list(role)))\n",
    "]\n",
    "\n",
    "temp = filtered_df.groupby(['date_attended']).agg({'name':'count'}).reset_index()\n",
    "denom = denominator_df.groupby(['date_attended']).agg({'name':'count'}).reset_index()\n",
    "\n",
    "res = temp.merge(denom, on = 'date_attended', how = 'outer')\n",
    "res.fillna(0.0, inplace = True)\n",
    "res['percentage'] = round(res['name_x']/res['name_y']*100,1)\n",
    "res"
   ]
  },
  {
   "cell_type": "code",
   "execution_count": null,
   "metadata": {},
   "outputs": [],
   "source": []
  },
  {
   "cell_type": "code",
   "execution_count": 31,
   "metadata": {},
   "outputs": [
    {
     "data": {
      "application/vnd.plotly.v1+json": {
       "config": {
        "plotlyServerURL": "https://plot.ly"
       },
       "data": [
        {
         "coloraxis": "coloraxis",
         "hovertemplate": "x: %{x}<br>y: %{y}<br>color: %{z}<extra></extra>",
         "name": "0",
         "text": [
          [
           6,
           null,
           6,
           7,
           5,
           null,
           4
          ],
          [
           null,
           3,
           null,
           null,
           null,
           10,
           null
          ],
          [
           10,
           5,
           null,
           6,
           6,
           11,
           null
          ]
         ],
         "texttemplate": "%{text}",
         "type": "heatmap",
         "x": [
          "CW 7",
          "CW 8",
          "CW 9",
          "CW 11",
          "CW 12",
          "CW 13",
          "CW 14"
         ],
         "xaxis": "x",
         "y": [
          "Cell Group",
          "Sunday Service",
          "Others"
         ],
         "yaxis": "y",
         "z": [
          [
           6,
           null,
           6,
           7,
           5,
           null,
           4
          ],
          [
           null,
           3,
           null,
           null,
           null,
           10,
           null
          ],
          [
           10,
           5,
           null,
           6,
           6,
           11,
           null
          ]
         ]
        }
       ],
       "layout": {
        "coloraxis": {
         "colorscale": [
          [
           0,
           "rgb(247,252,253)"
          ],
          [
           0.125,
           "rgb(229,245,249)"
          ],
          [
           0.25,
           "rgb(204,236,230)"
          ],
          [
           0.375,
           "rgb(153,216,201)"
          ],
          [
           0.5,
           "rgb(102,194,164)"
          ],
          [
           0.625,
           "rgb(65,174,118)"
          ],
          [
           0.75,
           "rgb(35,139,69)"
          ],
          [
           0.875,
           "rgb(0,109,44)"
          ],
          [
           1,
           "rgb(0,68,27)"
          ]
         ]
        },
        "margin": {
         "t": 60
        },
        "template": {
         "data": {
          "bar": [
           {
            "error_x": {
             "color": "#2a3f5f"
            },
            "error_y": {
             "color": "#2a3f5f"
            },
            "marker": {
             "line": {
              "color": "#E5ECF6",
              "width": 0.5
             },
             "pattern": {
              "fillmode": "overlay",
              "size": 10,
              "solidity": 0.2
             }
            },
            "type": "bar"
           }
          ],
          "barpolar": [
           {
            "marker": {
             "line": {
              "color": "#E5ECF6",
              "width": 0.5
             },
             "pattern": {
              "fillmode": "overlay",
              "size": 10,
              "solidity": 0.2
             }
            },
            "type": "barpolar"
           }
          ],
          "carpet": [
           {
            "aaxis": {
             "endlinecolor": "#2a3f5f",
             "gridcolor": "white",
             "linecolor": "white",
             "minorgridcolor": "white",
             "startlinecolor": "#2a3f5f"
            },
            "baxis": {
             "endlinecolor": "#2a3f5f",
             "gridcolor": "white",
             "linecolor": "white",
             "minorgridcolor": "white",
             "startlinecolor": "#2a3f5f"
            },
            "type": "carpet"
           }
          ],
          "choropleth": [
           {
            "colorbar": {
             "outlinewidth": 0,
             "ticks": ""
            },
            "type": "choropleth"
           }
          ],
          "contour": [
           {
            "colorbar": {
             "outlinewidth": 0,
             "ticks": ""
            },
            "colorscale": [
             [
              0,
              "#0d0887"
             ],
             [
              0.1111111111111111,
              "#46039f"
             ],
             [
              0.2222222222222222,
              "#7201a8"
             ],
             [
              0.3333333333333333,
              "#9c179e"
             ],
             [
              0.4444444444444444,
              "#bd3786"
             ],
             [
              0.5555555555555556,
              "#d8576b"
             ],
             [
              0.6666666666666666,
              "#ed7953"
             ],
             [
              0.7777777777777778,
              "#fb9f3a"
             ],
             [
              0.8888888888888888,
              "#fdca26"
             ],
             [
              1,
              "#f0f921"
             ]
            ],
            "type": "contour"
           }
          ],
          "contourcarpet": [
           {
            "colorbar": {
             "outlinewidth": 0,
             "ticks": ""
            },
            "type": "contourcarpet"
           }
          ],
          "heatmap": [
           {
            "colorbar": {
             "outlinewidth": 0,
             "ticks": ""
            },
            "colorscale": [
             [
              0,
              "#0d0887"
             ],
             [
              0.1111111111111111,
              "#46039f"
             ],
             [
              0.2222222222222222,
              "#7201a8"
             ],
             [
              0.3333333333333333,
              "#9c179e"
             ],
             [
              0.4444444444444444,
              "#bd3786"
             ],
             [
              0.5555555555555556,
              "#d8576b"
             ],
             [
              0.6666666666666666,
              "#ed7953"
             ],
             [
              0.7777777777777778,
              "#fb9f3a"
             ],
             [
              0.8888888888888888,
              "#fdca26"
             ],
             [
              1,
              "#f0f921"
             ]
            ],
            "type": "heatmap"
           }
          ],
          "heatmapgl": [
           {
            "colorbar": {
             "outlinewidth": 0,
             "ticks": ""
            },
            "colorscale": [
             [
              0,
              "#0d0887"
             ],
             [
              0.1111111111111111,
              "#46039f"
             ],
             [
              0.2222222222222222,
              "#7201a8"
             ],
             [
              0.3333333333333333,
              "#9c179e"
             ],
             [
              0.4444444444444444,
              "#bd3786"
             ],
             [
              0.5555555555555556,
              "#d8576b"
             ],
             [
              0.6666666666666666,
              "#ed7953"
             ],
             [
              0.7777777777777778,
              "#fb9f3a"
             ],
             [
              0.8888888888888888,
              "#fdca26"
             ],
             [
              1,
              "#f0f921"
             ]
            ],
            "type": "heatmapgl"
           }
          ],
          "histogram": [
           {
            "marker": {
             "pattern": {
              "fillmode": "overlay",
              "size": 10,
              "solidity": 0.2
             }
            },
            "type": "histogram"
           }
          ],
          "histogram2d": [
           {
            "colorbar": {
             "outlinewidth": 0,
             "ticks": ""
            },
            "colorscale": [
             [
              0,
              "#0d0887"
             ],
             [
              0.1111111111111111,
              "#46039f"
             ],
             [
              0.2222222222222222,
              "#7201a8"
             ],
             [
              0.3333333333333333,
              "#9c179e"
             ],
             [
              0.4444444444444444,
              "#bd3786"
             ],
             [
              0.5555555555555556,
              "#d8576b"
             ],
             [
              0.6666666666666666,
              "#ed7953"
             ],
             [
              0.7777777777777778,
              "#fb9f3a"
             ],
             [
              0.8888888888888888,
              "#fdca26"
             ],
             [
              1,
              "#f0f921"
             ]
            ],
            "type": "histogram2d"
           }
          ],
          "histogram2dcontour": [
           {
            "colorbar": {
             "outlinewidth": 0,
             "ticks": ""
            },
            "colorscale": [
             [
              0,
              "#0d0887"
             ],
             [
              0.1111111111111111,
              "#46039f"
             ],
             [
              0.2222222222222222,
              "#7201a8"
             ],
             [
              0.3333333333333333,
              "#9c179e"
             ],
             [
              0.4444444444444444,
              "#bd3786"
             ],
             [
              0.5555555555555556,
              "#d8576b"
             ],
             [
              0.6666666666666666,
              "#ed7953"
             ],
             [
              0.7777777777777778,
              "#fb9f3a"
             ],
             [
              0.8888888888888888,
              "#fdca26"
             ],
             [
              1,
              "#f0f921"
             ]
            ],
            "type": "histogram2dcontour"
           }
          ],
          "mesh3d": [
           {
            "colorbar": {
             "outlinewidth": 0,
             "ticks": ""
            },
            "type": "mesh3d"
           }
          ],
          "parcoords": [
           {
            "line": {
             "colorbar": {
              "outlinewidth": 0,
              "ticks": ""
             }
            },
            "type": "parcoords"
           }
          ],
          "pie": [
           {
            "automargin": true,
            "type": "pie"
           }
          ],
          "scatter": [
           {
            "fillpattern": {
             "fillmode": "overlay",
             "size": 10,
             "solidity": 0.2
            },
            "type": "scatter"
           }
          ],
          "scatter3d": [
           {
            "line": {
             "colorbar": {
              "outlinewidth": 0,
              "ticks": ""
             }
            },
            "marker": {
             "colorbar": {
              "outlinewidth": 0,
              "ticks": ""
             }
            },
            "type": "scatter3d"
           }
          ],
          "scattercarpet": [
           {
            "marker": {
             "colorbar": {
              "outlinewidth": 0,
              "ticks": ""
             }
            },
            "type": "scattercarpet"
           }
          ],
          "scattergeo": [
           {
            "marker": {
             "colorbar": {
              "outlinewidth": 0,
              "ticks": ""
             }
            },
            "type": "scattergeo"
           }
          ],
          "scattergl": [
           {
            "marker": {
             "colorbar": {
              "outlinewidth": 0,
              "ticks": ""
             }
            },
            "type": "scattergl"
           }
          ],
          "scattermapbox": [
           {
            "marker": {
             "colorbar": {
              "outlinewidth": 0,
              "ticks": ""
             }
            },
            "type": "scattermapbox"
           }
          ],
          "scatterpolar": [
           {
            "marker": {
             "colorbar": {
              "outlinewidth": 0,
              "ticks": ""
             }
            },
            "type": "scatterpolar"
           }
          ],
          "scatterpolargl": [
           {
            "marker": {
             "colorbar": {
              "outlinewidth": 0,
              "ticks": ""
             }
            },
            "type": "scatterpolargl"
           }
          ],
          "scatterternary": [
           {
            "marker": {
             "colorbar": {
              "outlinewidth": 0,
              "ticks": ""
             }
            },
            "type": "scatterternary"
           }
          ],
          "surface": [
           {
            "colorbar": {
             "outlinewidth": 0,
             "ticks": ""
            },
            "colorscale": [
             [
              0,
              "#0d0887"
             ],
             [
              0.1111111111111111,
              "#46039f"
             ],
             [
              0.2222222222222222,
              "#7201a8"
             ],
             [
              0.3333333333333333,
              "#9c179e"
             ],
             [
              0.4444444444444444,
              "#bd3786"
             ],
             [
              0.5555555555555556,
              "#d8576b"
             ],
             [
              0.6666666666666666,
              "#ed7953"
             ],
             [
              0.7777777777777778,
              "#fb9f3a"
             ],
             [
              0.8888888888888888,
              "#fdca26"
             ],
             [
              1,
              "#f0f921"
             ]
            ],
            "type": "surface"
           }
          ],
          "table": [
           {
            "cells": {
             "fill": {
              "color": "#EBF0F8"
             },
             "line": {
              "color": "white"
             }
            },
            "header": {
             "fill": {
              "color": "#C8D4E3"
             },
             "line": {
              "color": "white"
             }
            },
            "type": "table"
           }
          ]
         },
         "layout": {
          "annotationdefaults": {
           "arrowcolor": "#2a3f5f",
           "arrowhead": 0,
           "arrowwidth": 1
          },
          "autotypenumbers": "strict",
          "coloraxis": {
           "colorbar": {
            "outlinewidth": 0,
            "ticks": ""
           }
          },
          "colorscale": {
           "diverging": [
            [
             0,
             "#8e0152"
            ],
            [
             0.1,
             "#c51b7d"
            ],
            [
             0.2,
             "#de77ae"
            ],
            [
             0.3,
             "#f1b6da"
            ],
            [
             0.4,
             "#fde0ef"
            ],
            [
             0.5,
             "#f7f7f7"
            ],
            [
             0.6,
             "#e6f5d0"
            ],
            [
             0.7,
             "#b8e186"
            ],
            [
             0.8,
             "#7fbc41"
            ],
            [
             0.9,
             "#4d9221"
            ],
            [
             1,
             "#276419"
            ]
           ],
           "sequential": [
            [
             0,
             "#0d0887"
            ],
            [
             0.1111111111111111,
             "#46039f"
            ],
            [
             0.2222222222222222,
             "#7201a8"
            ],
            [
             0.3333333333333333,
             "#9c179e"
            ],
            [
             0.4444444444444444,
             "#bd3786"
            ],
            [
             0.5555555555555556,
             "#d8576b"
            ],
            [
             0.6666666666666666,
             "#ed7953"
            ],
            [
             0.7777777777777778,
             "#fb9f3a"
            ],
            [
             0.8888888888888888,
             "#fdca26"
            ],
            [
             1,
             "#f0f921"
            ]
           ],
           "sequentialminus": [
            [
             0,
             "#0d0887"
            ],
            [
             0.1111111111111111,
             "#46039f"
            ],
            [
             0.2222222222222222,
             "#7201a8"
            ],
            [
             0.3333333333333333,
             "#9c179e"
            ],
            [
             0.4444444444444444,
             "#bd3786"
            ],
            [
             0.5555555555555556,
             "#d8576b"
            ],
            [
             0.6666666666666666,
             "#ed7953"
            ],
            [
             0.7777777777777778,
             "#fb9f3a"
            ],
            [
             0.8888888888888888,
             "#fdca26"
            ],
            [
             1,
             "#f0f921"
            ]
           ]
          },
          "colorway": [
           "#636efa",
           "#EF553B",
           "#00cc96",
           "#ab63fa",
           "#FFA15A",
           "#19d3f3",
           "#FF6692",
           "#B6E880",
           "#FF97FF",
           "#FECB52"
          ],
          "font": {
           "color": "#2a3f5f"
          },
          "geo": {
           "bgcolor": "white",
           "lakecolor": "white",
           "landcolor": "#E5ECF6",
           "showlakes": true,
           "showland": true,
           "subunitcolor": "white"
          },
          "hoverlabel": {
           "align": "left"
          },
          "hovermode": "closest",
          "mapbox": {
           "style": "light"
          },
          "paper_bgcolor": "white",
          "plot_bgcolor": "#E5ECF6",
          "polar": {
           "angularaxis": {
            "gridcolor": "white",
            "linecolor": "white",
            "ticks": ""
           },
           "bgcolor": "#E5ECF6",
           "radialaxis": {
            "gridcolor": "white",
            "linecolor": "white",
            "ticks": ""
           }
          },
          "scene": {
           "xaxis": {
            "backgroundcolor": "#E5ECF6",
            "gridcolor": "white",
            "gridwidth": 2,
            "linecolor": "white",
            "showbackground": true,
            "ticks": "",
            "zerolinecolor": "white"
           },
           "yaxis": {
            "backgroundcolor": "#E5ECF6",
            "gridcolor": "white",
            "gridwidth": 2,
            "linecolor": "white",
            "showbackground": true,
            "ticks": "",
            "zerolinecolor": "white"
           },
           "zaxis": {
            "backgroundcolor": "#E5ECF6",
            "gridcolor": "white",
            "gridwidth": 2,
            "linecolor": "white",
            "showbackground": true,
            "ticks": "",
            "zerolinecolor": "white"
           }
          },
          "shapedefaults": {
           "line": {
            "color": "#2a3f5f"
           }
          },
          "ternary": {
           "aaxis": {
            "gridcolor": "white",
            "linecolor": "white",
            "ticks": ""
           },
           "baxis": {
            "gridcolor": "white",
            "linecolor": "white",
            "ticks": ""
           },
           "bgcolor": "#E5ECF6",
           "caxis": {
            "gridcolor": "white",
            "linecolor": "white",
            "ticks": ""
           }
          },
          "title": {
           "x": 0.05
          },
          "xaxis": {
           "automargin": true,
           "gridcolor": "white",
           "linecolor": "white",
           "ticks": "",
           "title": {
            "standoff": 15
           },
           "zerolinecolor": "white",
           "zerolinewidth": 2
          },
          "yaxis": {
           "automargin": true,
           "gridcolor": "white",
           "linecolor": "white",
           "ticks": "",
           "title": {
            "standoff": 15
           },
           "zerolinecolor": "white",
           "zerolinewidth": 2
          }
         }
        },
        "xaxis": {
         "anchor": "y",
         "domain": [
          0,
          1
         ],
         "side": "top"
        },
        "yaxis": {
         "anchor": "x",
         "autorange": "reversed",
         "domain": [
          0,
          1
         ]
        }
       }
      }
     },
     "metadata": {},
     "output_type": "display_data"
    }
   ],
   "source": [
    "test = filtered_df.groupby(['event_type','week_number']).agg({'name':'count'}).reset_index().sort_values('week_number')\n",
    "\n",
    "values = test.pivot(index='event_type',columns='week_number',values='name').values\n",
    "y = test['event_type'].unique()\n",
    "x = ['CW '+ value for value in test['week_number'].unique().astype(str)]\n",
    "\n",
    "import plotly.express as px\n",
    "\n",
    "fig = px.imshow(values, x=x, y=y, color_continuous_scale='BuGn', aspect=\"auto\")\n",
    "fig.update_traces(text = values, texttemplate=\"%{text}\")\n",
    "fig.update_xaxes(side=\"top\")\n",
    "fig"
   ]
  },
  {
   "cell_type": "code",
   "execution_count": 47,
   "metadata": {},
   "outputs": [
    {
     "data": {
      "text/plain": [
       "[array([ 6., nan,  6.,  7.,  5., nan,  4.]),\n",
       " array([nan,  3., nan, nan, nan, 10., nan]),\n",
       " array([10.,  5., nan,  6.,  6., 11., nan])]"
      ]
     },
     "execution_count": 47,
     "metadata": {},
     "output_type": "execute_result"
    }
   ],
   "source": [
    "values"
   ]
  },
  {
   "cell_type": "code",
   "execution_count": 41,
   "metadata": {},
   "outputs": [
    {
     "data": {
      "text/plain": [
       "array(['Cell Group', 'Others', 'Sunday Service'], dtype=object)"
      ]
     },
     "execution_count": 41,
     "metadata": {},
     "output_type": "execute_result"
    }
   ],
   "source": [
    "x"
   ]
  },
  {
   "cell_type": "code",
   "execution_count": 45,
   "metadata": {},
   "outputs": [
    {
     "data": {
      "text/plain": [
       "numpy.ndarray"
      ]
     },
     "execution_count": 45,
     "metadata": {},
     "output_type": "execute_result"
    }
   ],
   "source": [
    "type(values)"
   ]
  },
  {
   "cell_type": "code",
   "execution_count": 23,
   "metadata": {},
   "outputs": [
    {
     "name": "stderr",
     "output_type": "stream",
     "text": [
      "/var/folders/2p/zj7y6jln2cx01_2bx3tcsmy80000gn/T/ipykernel_7704/3107612618.py:1: SettingWithCopyWarning:\n",
      "\n",
      "\n",
      "A value is trying to be set on a copy of a slice from a DataFrame.\n",
      "Try using .loc[row_indexer,col_indexer] = value instead\n",
      "\n",
      "See the caveats in the documentation: https://pandas.pydata.org/pandas-docs/stable/user_guide/indexing.html#returning-a-view-versus-a-copy\n",
      "\n"
     ]
    },
    {
     "data": {
      "text/html": [
       "<div>\n",
       "<style scoped>\n",
       "    .dataframe tbody tr th:only-of-type {\n",
       "        vertical-align: middle;\n",
       "    }\n",
       "\n",
       "    .dataframe tbody tr th {\n",
       "        vertical-align: top;\n",
       "    }\n",
       "\n",
       "    .dataframe thead th {\n",
       "        text-align: right;\n",
       "    }\n",
       "</style>\n",
       "<table border=\"1\" class=\"dataframe\">\n",
       "  <thead>\n",
       "    <tr style=\"text-align: right;\">\n",
       "      <th></th>\n",
       "      <th>event_type</th>\n",
       "      <th>cell_group</th>\n",
       "      <th>date_attended</th>\n",
       "      <th>role</th>\n",
       "      <th>name</th>\n",
       "      <th>attendance_type</th>\n",
       "      <th>week_number</th>\n",
       "    </tr>\n",
       "  </thead>\n",
       "  <tbody>\n",
       "    <tr>\n",
       "      <th>429</th>\n",
       "      <td>Cell Group</td>\n",
       "      <td>Bouquet</td>\n",
       "      <td>2024-04-05 00:00:00</td>\n",
       "      <td>Member</td>\n",
       "      <td>Andrew Chen</td>\n",
       "      <td>Present</td>\n",
       "      <td>14</td>\n",
       "    </tr>\n",
       "    <tr>\n",
       "      <th>433</th>\n",
       "      <td>Cell Group</td>\n",
       "      <td>Bouquet</td>\n",
       "      <td>2024-04-05 00:00:00</td>\n",
       "      <td>Member</td>\n",
       "      <td>Luke Wong</td>\n",
       "      <td>Present</td>\n",
       "      <td>14</td>\n",
       "    </tr>\n",
       "    <tr>\n",
       "      <th>439</th>\n",
       "      <td>Cell Group</td>\n",
       "      <td>Bouquet</td>\n",
       "      <td>2024-04-05 00:00:00</td>\n",
       "      <td>Member</td>\n",
       "      <td>Ade-Lyn Tay</td>\n",
       "      <td>Present</td>\n",
       "      <td>14</td>\n",
       "    </tr>\n",
       "    <tr>\n",
       "      <th>447</th>\n",
       "      <td>Cell Group</td>\n",
       "      <td>Bouquet</td>\n",
       "      <td>2024-04-05 00:00:00</td>\n",
       "      <td>Member</td>\n",
       "      <td>Emily Ng</td>\n",
       "      <td>Present</td>\n",
       "      <td>14</td>\n",
       "    </tr>\n",
       "    <tr>\n",
       "      <th>455</th>\n",
       "      <td>Sunday Service</td>\n",
       "      <td>Bouquet</td>\n",
       "      <td>2024-02-18 00:00:00</td>\n",
       "      <td>Member</td>\n",
       "      <td>Andrew Chen</td>\n",
       "      <td>Present</td>\n",
       "      <td>7</td>\n",
       "    </tr>\n",
       "    <tr>\n",
       "      <th>...</th>\n",
       "      <td>...</td>\n",
       "      <td>...</td>\n",
       "      <td>...</td>\n",
       "      <td>...</td>\n",
       "      <td>...</td>\n",
       "      <td>...</td>\n",
       "      <td>...</td>\n",
       "    </tr>\n",
       "    <tr>\n",
       "      <th>719</th>\n",
       "      <td>Cell Group</td>\n",
       "      <td>Bouquet</td>\n",
       "      <td>2024-02-16 00:00:00</td>\n",
       "      <td>Member</td>\n",
       "      <td>Luke Wong</td>\n",
       "      <td>Present</td>\n",
       "      <td>7</td>\n",
       "    </tr>\n",
       "    <tr>\n",
       "      <th>725</th>\n",
       "      <td>Cell Group</td>\n",
       "      <td>Bouquet</td>\n",
       "      <td>2024-02-16 00:00:00</td>\n",
       "      <td>Member</td>\n",
       "      <td>Ade-Lyn Tay</td>\n",
       "      <td>Present</td>\n",
       "      <td>7</td>\n",
       "    </tr>\n",
       "    <tr>\n",
       "      <th>729</th>\n",
       "      <td>Cell Group</td>\n",
       "      <td>Bouquet</td>\n",
       "      <td>2024-02-16 00:00:00</td>\n",
       "      <td>Member</td>\n",
       "      <td>Chelsea Teo</td>\n",
       "      <td>Present</td>\n",
       "      <td>7</td>\n",
       "    </tr>\n",
       "    <tr>\n",
       "      <th>737</th>\n",
       "      <td>Cell Group</td>\n",
       "      <td>Bouquet</td>\n",
       "      <td>2024-02-16 00:00:00</td>\n",
       "      <td>Member</td>\n",
       "      <td>Chloe Low</td>\n",
       "      <td>Present</td>\n",
       "      <td>7</td>\n",
       "    </tr>\n",
       "    <tr>\n",
       "      <th>739</th>\n",
       "      <td>Cell Group</td>\n",
       "      <td>Bouquet</td>\n",
       "      <td>2024-02-16 00:00:00</td>\n",
       "      <td>Member</td>\n",
       "      <td>Jie Wei</td>\n",
       "      <td>Present</td>\n",
       "      <td>7</td>\n",
       "    </tr>\n",
       "  </tbody>\n",
       "</table>\n",
       "<p>79 rows × 7 columns</p>\n",
       "</div>"
      ],
      "text/plain": [
       "         event_type cell_group        date_attended    role         name  \\\n",
       "429      Cell Group    Bouquet  2024-04-05 00:00:00  Member  Andrew Chen   \n",
       "433      Cell Group    Bouquet  2024-04-05 00:00:00  Member    Luke Wong   \n",
       "439      Cell Group    Bouquet  2024-04-05 00:00:00  Member  Ade-Lyn Tay   \n",
       "447      Cell Group    Bouquet  2024-04-05 00:00:00  Member     Emily Ng   \n",
       "455  Sunday Service    Bouquet  2024-02-18 00:00:00  Member  Andrew Chen   \n",
       "..              ...        ...                  ...     ...          ...   \n",
       "719      Cell Group    Bouquet  2024-02-16 00:00:00  Member    Luke Wong   \n",
       "725      Cell Group    Bouquet  2024-02-16 00:00:00  Member  Ade-Lyn Tay   \n",
       "729      Cell Group    Bouquet  2024-02-16 00:00:00  Member  Chelsea Teo   \n",
       "737      Cell Group    Bouquet  2024-02-16 00:00:00  Member    Chloe Low   \n",
       "739      Cell Group    Bouquet  2024-02-16 00:00:00  Member      Jie Wei   \n",
       "\n",
       "    attendance_type  week_number  \n",
       "429         Present           14  \n",
       "433         Present           14  \n",
       "439         Present           14  \n",
       "447         Present           14  \n",
       "455         Present            7  \n",
       "..              ...          ...  \n",
       "719         Present            7  \n",
       "725         Present            7  \n",
       "729         Present            7  \n",
       "737         Present            7  \n",
       "739         Present            7  \n",
       "\n",
       "[79 rows x 7 columns]"
      ]
     },
     "execution_count": 23,
     "metadata": {},
     "output_type": "execute_result"
    }
   ],
   "source": [
    "filtered_df['week_number'] = pd.to_datetime(filtered_df['date_attended']).dt.isocalendar().week\n",
    "filtered_df"
   ]
  },
  {
   "cell_type": "code",
   "execution_count": 12,
   "metadata": {},
   "outputs": [
    {
     "data": {
      "text/plain": [
       "429    2024-04-05 00:00:00\n",
       "433    2024-04-05 00:00:00\n",
       "439    2024-04-05 00:00:00\n",
       "447    2024-04-05 00:00:00\n",
       "455    2024-02-18 00:00:00\n",
       "              ...         \n",
       "719    2024-02-16 00:00:00\n",
       "725    2024-02-16 00:00:00\n",
       "729    2024-02-16 00:00:00\n",
       "737    2024-02-16 00:00:00\n",
       "739    2024-02-16 00:00:00\n",
       "Name: date_attended, Length: 79, dtype: object"
      ]
     },
     "execution_count": 12,
     "metadata": {},
     "output_type": "execute_result"
    }
   ],
   "source": [
    "filtered_df['date_attended']"
   ]
  },
  {
   "cell_type": "code",
   "execution_count": 15,
   "metadata": {},
   "outputs": [
    {
     "data": {
      "application/vnd.plotly.v1+json": {
       "config": {
        "plotlyServerURL": "https://plot.ly"
       },
       "data": [
        {
         "coloraxis": "coloraxis",
         "hovertemplate": "x: %{x}<br>y: %{y}<br>color: %{z}<extra></extra>",
         "name": "0",
         "text": [
          [
           "Win",
           "Lose",
           "Win"
          ],
          [
           "Lose",
           "Lose",
           "Win"
          ],
          [
           "Win",
           "Win",
           "Lose"
          ]
         ],
         "texttemplate": "%{text}",
         "type": "heatmap",
         "x": [
          "Team A",
          "Team B",
          "Team C"
         ],
         "xaxis": "x",
         "y": [
          "Game One",
          "Game Two",
          "Game Three"
         ],
         "yaxis": "y",
         "z": [
          [
           0.1,
           0.3,
           0.5
          ],
          [
           1,
           0.8,
           0.6
          ],
          [
           0.6,
           0.4,
           0.2
          ]
         ]
        }
       ],
       "layout": {
        "coloraxis": {
         "colorscale": [
          [
           0,
           "#440154"
          ],
          [
           0.1111111111111111,
           "#482878"
          ],
          [
           0.2222222222222222,
           "#3e4989"
          ],
          [
           0.3333333333333333,
           "#31688e"
          ],
          [
           0.4444444444444444,
           "#26828e"
          ],
          [
           0.5555555555555556,
           "#1f9e89"
          ],
          [
           0.6666666666666666,
           "#35b779"
          ],
          [
           0.7777777777777778,
           "#6ece58"
          ],
          [
           0.8888888888888888,
           "#b5de2b"
          ],
          [
           1,
           "#fde725"
          ]
         ]
        },
        "margin": {
         "t": 60
        },
        "template": {
         "data": {
          "bar": [
           {
            "error_x": {
             "color": "#2a3f5f"
            },
            "error_y": {
             "color": "#2a3f5f"
            },
            "marker": {
             "line": {
              "color": "#E5ECF6",
              "width": 0.5
             },
             "pattern": {
              "fillmode": "overlay",
              "size": 10,
              "solidity": 0.2
             }
            },
            "type": "bar"
           }
          ],
          "barpolar": [
           {
            "marker": {
             "line": {
              "color": "#E5ECF6",
              "width": 0.5
             },
             "pattern": {
              "fillmode": "overlay",
              "size": 10,
              "solidity": 0.2
             }
            },
            "type": "barpolar"
           }
          ],
          "carpet": [
           {
            "aaxis": {
             "endlinecolor": "#2a3f5f",
             "gridcolor": "white",
             "linecolor": "white",
             "minorgridcolor": "white",
             "startlinecolor": "#2a3f5f"
            },
            "baxis": {
             "endlinecolor": "#2a3f5f",
             "gridcolor": "white",
             "linecolor": "white",
             "minorgridcolor": "white",
             "startlinecolor": "#2a3f5f"
            },
            "type": "carpet"
           }
          ],
          "choropleth": [
           {
            "colorbar": {
             "outlinewidth": 0,
             "ticks": ""
            },
            "type": "choropleth"
           }
          ],
          "contour": [
           {
            "colorbar": {
             "outlinewidth": 0,
             "ticks": ""
            },
            "colorscale": [
             [
              0,
              "#0d0887"
             ],
             [
              0.1111111111111111,
              "#46039f"
             ],
             [
              0.2222222222222222,
              "#7201a8"
             ],
             [
              0.3333333333333333,
              "#9c179e"
             ],
             [
              0.4444444444444444,
              "#bd3786"
             ],
             [
              0.5555555555555556,
              "#d8576b"
             ],
             [
              0.6666666666666666,
              "#ed7953"
             ],
             [
              0.7777777777777778,
              "#fb9f3a"
             ],
             [
              0.8888888888888888,
              "#fdca26"
             ],
             [
              1,
              "#f0f921"
             ]
            ],
            "type": "contour"
           }
          ],
          "contourcarpet": [
           {
            "colorbar": {
             "outlinewidth": 0,
             "ticks": ""
            },
            "type": "contourcarpet"
           }
          ],
          "heatmap": [
           {
            "colorbar": {
             "outlinewidth": 0,
             "ticks": ""
            },
            "colorscale": [
             [
              0,
              "#0d0887"
             ],
             [
              0.1111111111111111,
              "#46039f"
             ],
             [
              0.2222222222222222,
              "#7201a8"
             ],
             [
              0.3333333333333333,
              "#9c179e"
             ],
             [
              0.4444444444444444,
              "#bd3786"
             ],
             [
              0.5555555555555556,
              "#d8576b"
             ],
             [
              0.6666666666666666,
              "#ed7953"
             ],
             [
              0.7777777777777778,
              "#fb9f3a"
             ],
             [
              0.8888888888888888,
              "#fdca26"
             ],
             [
              1,
              "#f0f921"
             ]
            ],
            "type": "heatmap"
           }
          ],
          "heatmapgl": [
           {
            "colorbar": {
             "outlinewidth": 0,
             "ticks": ""
            },
            "colorscale": [
             [
              0,
              "#0d0887"
             ],
             [
              0.1111111111111111,
              "#46039f"
             ],
             [
              0.2222222222222222,
              "#7201a8"
             ],
             [
              0.3333333333333333,
              "#9c179e"
             ],
             [
              0.4444444444444444,
              "#bd3786"
             ],
             [
              0.5555555555555556,
              "#d8576b"
             ],
             [
              0.6666666666666666,
              "#ed7953"
             ],
             [
              0.7777777777777778,
              "#fb9f3a"
             ],
             [
              0.8888888888888888,
              "#fdca26"
             ],
             [
              1,
              "#f0f921"
             ]
            ],
            "type": "heatmapgl"
           }
          ],
          "histogram": [
           {
            "marker": {
             "pattern": {
              "fillmode": "overlay",
              "size": 10,
              "solidity": 0.2
             }
            },
            "type": "histogram"
           }
          ],
          "histogram2d": [
           {
            "colorbar": {
             "outlinewidth": 0,
             "ticks": ""
            },
            "colorscale": [
             [
              0,
              "#0d0887"
             ],
             [
              0.1111111111111111,
              "#46039f"
             ],
             [
              0.2222222222222222,
              "#7201a8"
             ],
             [
              0.3333333333333333,
              "#9c179e"
             ],
             [
              0.4444444444444444,
              "#bd3786"
             ],
             [
              0.5555555555555556,
              "#d8576b"
             ],
             [
              0.6666666666666666,
              "#ed7953"
             ],
             [
              0.7777777777777778,
              "#fb9f3a"
             ],
             [
              0.8888888888888888,
              "#fdca26"
             ],
             [
              1,
              "#f0f921"
             ]
            ],
            "type": "histogram2d"
           }
          ],
          "histogram2dcontour": [
           {
            "colorbar": {
             "outlinewidth": 0,
             "ticks": ""
            },
            "colorscale": [
             [
              0,
              "#0d0887"
             ],
             [
              0.1111111111111111,
              "#46039f"
             ],
             [
              0.2222222222222222,
              "#7201a8"
             ],
             [
              0.3333333333333333,
              "#9c179e"
             ],
             [
              0.4444444444444444,
              "#bd3786"
             ],
             [
              0.5555555555555556,
              "#d8576b"
             ],
             [
              0.6666666666666666,
              "#ed7953"
             ],
             [
              0.7777777777777778,
              "#fb9f3a"
             ],
             [
              0.8888888888888888,
              "#fdca26"
             ],
             [
              1,
              "#f0f921"
             ]
            ],
            "type": "histogram2dcontour"
           }
          ],
          "mesh3d": [
           {
            "colorbar": {
             "outlinewidth": 0,
             "ticks": ""
            },
            "type": "mesh3d"
           }
          ],
          "parcoords": [
           {
            "line": {
             "colorbar": {
              "outlinewidth": 0,
              "ticks": ""
             }
            },
            "type": "parcoords"
           }
          ],
          "pie": [
           {
            "automargin": true,
            "type": "pie"
           }
          ],
          "scatter": [
           {
            "fillpattern": {
             "fillmode": "overlay",
             "size": 10,
             "solidity": 0.2
            },
            "type": "scatter"
           }
          ],
          "scatter3d": [
           {
            "line": {
             "colorbar": {
              "outlinewidth": 0,
              "ticks": ""
             }
            },
            "marker": {
             "colorbar": {
              "outlinewidth": 0,
              "ticks": ""
             }
            },
            "type": "scatter3d"
           }
          ],
          "scattercarpet": [
           {
            "marker": {
             "colorbar": {
              "outlinewidth": 0,
              "ticks": ""
             }
            },
            "type": "scattercarpet"
           }
          ],
          "scattergeo": [
           {
            "marker": {
             "colorbar": {
              "outlinewidth": 0,
              "ticks": ""
             }
            },
            "type": "scattergeo"
           }
          ],
          "scattergl": [
           {
            "marker": {
             "colorbar": {
              "outlinewidth": 0,
              "ticks": ""
             }
            },
            "type": "scattergl"
           }
          ],
          "scattermapbox": [
           {
            "marker": {
             "colorbar": {
              "outlinewidth": 0,
              "ticks": ""
             }
            },
            "type": "scattermapbox"
           }
          ],
          "scatterpolar": [
           {
            "marker": {
             "colorbar": {
              "outlinewidth": 0,
              "ticks": ""
             }
            },
            "type": "scatterpolar"
           }
          ],
          "scatterpolargl": [
           {
            "marker": {
             "colorbar": {
              "outlinewidth": 0,
              "ticks": ""
             }
            },
            "type": "scatterpolargl"
           }
          ],
          "scatterternary": [
           {
            "marker": {
             "colorbar": {
              "outlinewidth": 0,
              "ticks": ""
             }
            },
            "type": "scatterternary"
           }
          ],
          "surface": [
           {
            "colorbar": {
             "outlinewidth": 0,
             "ticks": ""
            },
            "colorscale": [
             [
              0,
              "#0d0887"
             ],
             [
              0.1111111111111111,
              "#46039f"
             ],
             [
              0.2222222222222222,
              "#7201a8"
             ],
             [
              0.3333333333333333,
              "#9c179e"
             ],
             [
              0.4444444444444444,
              "#bd3786"
             ],
             [
              0.5555555555555556,
              "#d8576b"
             ],
             [
              0.6666666666666666,
              "#ed7953"
             ],
             [
              0.7777777777777778,
              "#fb9f3a"
             ],
             [
              0.8888888888888888,
              "#fdca26"
             ],
             [
              1,
              "#f0f921"
             ]
            ],
            "type": "surface"
           }
          ],
          "table": [
           {
            "cells": {
             "fill": {
              "color": "#EBF0F8"
             },
             "line": {
              "color": "white"
             }
            },
            "header": {
             "fill": {
              "color": "#C8D4E3"
             },
             "line": {
              "color": "white"
             }
            },
            "type": "table"
           }
          ]
         },
         "layout": {
          "annotationdefaults": {
           "arrowcolor": "#2a3f5f",
           "arrowhead": 0,
           "arrowwidth": 1
          },
          "autotypenumbers": "strict",
          "coloraxis": {
           "colorbar": {
            "outlinewidth": 0,
            "ticks": ""
           }
          },
          "colorscale": {
           "diverging": [
            [
             0,
             "#8e0152"
            ],
            [
             0.1,
             "#c51b7d"
            ],
            [
             0.2,
             "#de77ae"
            ],
            [
             0.3,
             "#f1b6da"
            ],
            [
             0.4,
             "#fde0ef"
            ],
            [
             0.5,
             "#f7f7f7"
            ],
            [
             0.6,
             "#e6f5d0"
            ],
            [
             0.7,
             "#b8e186"
            ],
            [
             0.8,
             "#7fbc41"
            ],
            [
             0.9,
             "#4d9221"
            ],
            [
             1,
             "#276419"
            ]
           ],
           "sequential": [
            [
             0,
             "#0d0887"
            ],
            [
             0.1111111111111111,
             "#46039f"
            ],
            [
             0.2222222222222222,
             "#7201a8"
            ],
            [
             0.3333333333333333,
             "#9c179e"
            ],
            [
             0.4444444444444444,
             "#bd3786"
            ],
            [
             0.5555555555555556,
             "#d8576b"
            ],
            [
             0.6666666666666666,
             "#ed7953"
            ],
            [
             0.7777777777777778,
             "#fb9f3a"
            ],
            [
             0.8888888888888888,
             "#fdca26"
            ],
            [
             1,
             "#f0f921"
            ]
           ],
           "sequentialminus": [
            [
             0,
             "#0d0887"
            ],
            [
             0.1111111111111111,
             "#46039f"
            ],
            [
             0.2222222222222222,
             "#7201a8"
            ],
            [
             0.3333333333333333,
             "#9c179e"
            ],
            [
             0.4444444444444444,
             "#bd3786"
            ],
            [
             0.5555555555555556,
             "#d8576b"
            ],
            [
             0.6666666666666666,
             "#ed7953"
            ],
            [
             0.7777777777777778,
             "#fb9f3a"
            ],
            [
             0.8888888888888888,
             "#fdca26"
            ],
            [
             1,
             "#f0f921"
            ]
           ]
          },
          "colorway": [
           "#636efa",
           "#EF553B",
           "#00cc96",
           "#ab63fa",
           "#FFA15A",
           "#19d3f3",
           "#FF6692",
           "#B6E880",
           "#FF97FF",
           "#FECB52"
          ],
          "font": {
           "color": "#2a3f5f"
          },
          "geo": {
           "bgcolor": "white",
           "lakecolor": "white",
           "landcolor": "#E5ECF6",
           "showlakes": true,
           "showland": true,
           "subunitcolor": "white"
          },
          "hoverlabel": {
           "align": "left"
          },
          "hovermode": "closest",
          "mapbox": {
           "style": "light"
          },
          "paper_bgcolor": "white",
          "plot_bgcolor": "#E5ECF6",
          "polar": {
           "angularaxis": {
            "gridcolor": "white",
            "linecolor": "white",
            "ticks": ""
           },
           "bgcolor": "#E5ECF6",
           "radialaxis": {
            "gridcolor": "white",
            "linecolor": "white",
            "ticks": ""
           }
          },
          "scene": {
           "xaxis": {
            "backgroundcolor": "#E5ECF6",
            "gridcolor": "white",
            "gridwidth": 2,
            "linecolor": "white",
            "showbackground": true,
            "ticks": "",
            "zerolinecolor": "white"
           },
           "yaxis": {
            "backgroundcolor": "#E5ECF6",
            "gridcolor": "white",
            "gridwidth": 2,
            "linecolor": "white",
            "showbackground": true,
            "ticks": "",
            "zerolinecolor": "white"
           },
           "zaxis": {
            "backgroundcolor": "#E5ECF6",
            "gridcolor": "white",
            "gridwidth": 2,
            "linecolor": "white",
            "showbackground": true,
            "ticks": "",
            "zerolinecolor": "white"
           }
          },
          "shapedefaults": {
           "line": {
            "color": "#2a3f5f"
           }
          },
          "ternary": {
           "aaxis": {
            "gridcolor": "white",
            "linecolor": "white",
            "ticks": ""
           },
           "baxis": {
            "gridcolor": "white",
            "linecolor": "white",
            "ticks": ""
           },
           "bgcolor": "#E5ECF6",
           "caxis": {
            "gridcolor": "white",
            "linecolor": "white",
            "ticks": ""
           }
          },
          "title": {
           "x": 0.05
          },
          "xaxis": {
           "automargin": true,
           "gridcolor": "white",
           "linecolor": "white",
           "ticks": "",
           "title": {
            "standoff": 15
           },
           "zerolinecolor": "white",
           "zerolinewidth": 2
          },
          "yaxis": {
           "automargin": true,
           "gridcolor": "white",
           "linecolor": "white",
           "ticks": "",
           "title": {
            "standoff": 15
           },
           "zerolinecolor": "white",
           "zerolinewidth": 2
          }
         }
        },
        "xaxis": {
         "anchor": "y",
         "domain": [
          0,
          1
         ],
         "side": "top"
        },
        "yaxis": {
         "anchor": "x",
         "autorange": "reversed",
         "domain": [
          0,
          1
         ]
        }
       }
      }
     },
     "metadata": {},
     "output_type": "display_data"
    }
   ],
   "source": [
    "import plotly.express as px\n",
    "\n",
    "x = ['Team A', 'Team B', 'Team C']\n",
    "y = ['Game One', 'Game Two', 'Game Three']\n",
    "\n",
    "z = [[.1, .3, .5],\n",
    "     [1.0, .8, .6],\n",
    "     [.6, .4, .2]]\n",
    "\n",
    "z_text = [['Win', 'Lose', 'Win'],\n",
    "          ['Lose', 'Lose', 'Win'],\n",
    "          ['Win', 'Win', 'Lose']]\n",
    "\n",
    "fig = px.imshow(z, x=x, y=y, color_continuous_scale='Viridis', aspect=\"auto\")\n",
    "fig.update_traces(text=z_text, texttemplate=\"%{text}\")\n",
    "fig.update_xaxes(side=\"top\")\n",
    "fig.show()"
   ]
  },
  {
   "cell_type": "code",
   "execution_count": 5,
   "metadata": {},
   "outputs": [
    {
     "data": {
      "application/vnd.plotly.v1+json": {
       "config": {
        "plotlyServerURL": "https://plot.ly"
       },
       "data": [
        {
         "coloraxis": "coloraxis",
         "hovertemplate": "x: %{x}<br>y: %{y}<br>color: %{z}<extra></extra>",
         "name": "0",
         "text": [
          [
           "99%"
          ]
         ],
         "texttemplate": "%{text}",
         "type": "heatmap",
         "x": [
          ""
         ],
         "xaxis": "x",
         "y": [
          ""
         ],
         "yaxis": "y",
         "z": [
          [
           0
          ]
         ]
        }
       ],
       "layout": {
        "coloraxis": {
         "colorscale": [
          [
           0,
           "rgb(84,48,5)"
          ],
          [
           0.1,
           "rgb(140,81,10)"
          ],
          [
           0.2,
           "rgb(191,129,45)"
          ],
          [
           0.3,
           "rgb(223,194,125)"
          ],
          [
           0.4,
           "rgb(246,232,195)"
          ],
          [
           0.5,
           "rgb(245,245,245)"
          ],
          [
           0.6,
           "rgb(199,234,229)"
          ],
          [
           0.7,
           "rgb(128,205,193)"
          ],
          [
           0.8,
           "rgb(53,151,143)"
          ],
          [
           0.9,
           "rgb(1,102,94)"
          ],
          [
           1,
           "rgb(0,60,48)"
          ]
         ],
         "showscale": false
        },
        "font": {
         "size": 18
        },
        "margin": {
         "t": 60
        },
        "template": {
         "data": {
          "bar": [
           {
            "error_x": {
             "color": "#2a3f5f"
            },
            "error_y": {
             "color": "#2a3f5f"
            },
            "marker": {
             "line": {
              "color": "#E5ECF6",
              "width": 0.5
             },
             "pattern": {
              "fillmode": "overlay",
              "size": 10,
              "solidity": 0.2
             }
            },
            "type": "bar"
           }
          ],
          "barpolar": [
           {
            "marker": {
             "line": {
              "color": "#E5ECF6",
              "width": 0.5
             },
             "pattern": {
              "fillmode": "overlay",
              "size": 10,
              "solidity": 0.2
             }
            },
            "type": "barpolar"
           }
          ],
          "carpet": [
           {
            "aaxis": {
             "endlinecolor": "#2a3f5f",
             "gridcolor": "white",
             "linecolor": "white",
             "minorgridcolor": "white",
             "startlinecolor": "#2a3f5f"
            },
            "baxis": {
             "endlinecolor": "#2a3f5f",
             "gridcolor": "white",
             "linecolor": "white",
             "minorgridcolor": "white",
             "startlinecolor": "#2a3f5f"
            },
            "type": "carpet"
           }
          ],
          "choropleth": [
           {
            "colorbar": {
             "outlinewidth": 0,
             "ticks": ""
            },
            "type": "choropleth"
           }
          ],
          "contour": [
           {
            "colorbar": {
             "outlinewidth": 0,
             "ticks": ""
            },
            "colorscale": [
             [
              0,
              "#0d0887"
             ],
             [
              0.1111111111111111,
              "#46039f"
             ],
             [
              0.2222222222222222,
              "#7201a8"
             ],
             [
              0.3333333333333333,
              "#9c179e"
             ],
             [
              0.4444444444444444,
              "#bd3786"
             ],
             [
              0.5555555555555556,
              "#d8576b"
             ],
             [
              0.6666666666666666,
              "#ed7953"
             ],
             [
              0.7777777777777778,
              "#fb9f3a"
             ],
             [
              0.8888888888888888,
              "#fdca26"
             ],
             [
              1,
              "#f0f921"
             ]
            ],
            "type": "contour"
           }
          ],
          "contourcarpet": [
           {
            "colorbar": {
             "outlinewidth": 0,
             "ticks": ""
            },
            "type": "contourcarpet"
           }
          ],
          "heatmap": [
           {
            "colorbar": {
             "outlinewidth": 0,
             "ticks": ""
            },
            "colorscale": [
             [
              0,
              "#0d0887"
             ],
             [
              0.1111111111111111,
              "#46039f"
             ],
             [
              0.2222222222222222,
              "#7201a8"
             ],
             [
              0.3333333333333333,
              "#9c179e"
             ],
             [
              0.4444444444444444,
              "#bd3786"
             ],
             [
              0.5555555555555556,
              "#d8576b"
             ],
             [
              0.6666666666666666,
              "#ed7953"
             ],
             [
              0.7777777777777778,
              "#fb9f3a"
             ],
             [
              0.8888888888888888,
              "#fdca26"
             ],
             [
              1,
              "#f0f921"
             ]
            ],
            "type": "heatmap"
           }
          ],
          "heatmapgl": [
           {
            "colorbar": {
             "outlinewidth": 0,
             "ticks": ""
            },
            "colorscale": [
             [
              0,
              "#0d0887"
             ],
             [
              0.1111111111111111,
              "#46039f"
             ],
             [
              0.2222222222222222,
              "#7201a8"
             ],
             [
              0.3333333333333333,
              "#9c179e"
             ],
             [
              0.4444444444444444,
              "#bd3786"
             ],
             [
              0.5555555555555556,
              "#d8576b"
             ],
             [
              0.6666666666666666,
              "#ed7953"
             ],
             [
              0.7777777777777778,
              "#fb9f3a"
             ],
             [
              0.8888888888888888,
              "#fdca26"
             ],
             [
              1,
              "#f0f921"
             ]
            ],
            "type": "heatmapgl"
           }
          ],
          "histogram": [
           {
            "marker": {
             "pattern": {
              "fillmode": "overlay",
              "size": 10,
              "solidity": 0.2
             }
            },
            "type": "histogram"
           }
          ],
          "histogram2d": [
           {
            "colorbar": {
             "outlinewidth": 0,
             "ticks": ""
            },
            "colorscale": [
             [
              0,
              "#0d0887"
             ],
             [
              0.1111111111111111,
              "#46039f"
             ],
             [
              0.2222222222222222,
              "#7201a8"
             ],
             [
              0.3333333333333333,
              "#9c179e"
             ],
             [
              0.4444444444444444,
              "#bd3786"
             ],
             [
              0.5555555555555556,
              "#d8576b"
             ],
             [
              0.6666666666666666,
              "#ed7953"
             ],
             [
              0.7777777777777778,
              "#fb9f3a"
             ],
             [
              0.8888888888888888,
              "#fdca26"
             ],
             [
              1,
              "#f0f921"
             ]
            ],
            "type": "histogram2d"
           }
          ],
          "histogram2dcontour": [
           {
            "colorbar": {
             "outlinewidth": 0,
             "ticks": ""
            },
            "colorscale": [
             [
              0,
              "#0d0887"
             ],
             [
              0.1111111111111111,
              "#46039f"
             ],
             [
              0.2222222222222222,
              "#7201a8"
             ],
             [
              0.3333333333333333,
              "#9c179e"
             ],
             [
              0.4444444444444444,
              "#bd3786"
             ],
             [
              0.5555555555555556,
              "#d8576b"
             ],
             [
              0.6666666666666666,
              "#ed7953"
             ],
             [
              0.7777777777777778,
              "#fb9f3a"
             ],
             [
              0.8888888888888888,
              "#fdca26"
             ],
             [
              1,
              "#f0f921"
             ]
            ],
            "type": "histogram2dcontour"
           }
          ],
          "mesh3d": [
           {
            "colorbar": {
             "outlinewidth": 0,
             "ticks": ""
            },
            "type": "mesh3d"
           }
          ],
          "parcoords": [
           {
            "line": {
             "colorbar": {
              "outlinewidth": 0,
              "ticks": ""
             }
            },
            "type": "parcoords"
           }
          ],
          "pie": [
           {
            "automargin": true,
            "type": "pie"
           }
          ],
          "scatter": [
           {
            "fillpattern": {
             "fillmode": "overlay",
             "size": 10,
             "solidity": 0.2
            },
            "type": "scatter"
           }
          ],
          "scatter3d": [
           {
            "line": {
             "colorbar": {
              "outlinewidth": 0,
              "ticks": ""
             }
            },
            "marker": {
             "colorbar": {
              "outlinewidth": 0,
              "ticks": ""
             }
            },
            "type": "scatter3d"
           }
          ],
          "scattercarpet": [
           {
            "marker": {
             "colorbar": {
              "outlinewidth": 0,
              "ticks": ""
             }
            },
            "type": "scattercarpet"
           }
          ],
          "scattergeo": [
           {
            "marker": {
             "colorbar": {
              "outlinewidth": 0,
              "ticks": ""
             }
            },
            "type": "scattergeo"
           }
          ],
          "scattergl": [
           {
            "marker": {
             "colorbar": {
              "outlinewidth": 0,
              "ticks": ""
             }
            },
            "type": "scattergl"
           }
          ],
          "scattermapbox": [
           {
            "marker": {
             "colorbar": {
              "outlinewidth": 0,
              "ticks": ""
             }
            },
            "type": "scattermapbox"
           }
          ],
          "scatterpolar": [
           {
            "marker": {
             "colorbar": {
              "outlinewidth": 0,
              "ticks": ""
             }
            },
            "type": "scatterpolar"
           }
          ],
          "scatterpolargl": [
           {
            "marker": {
             "colorbar": {
              "outlinewidth": 0,
              "ticks": ""
             }
            },
            "type": "scatterpolargl"
           }
          ],
          "scatterternary": [
           {
            "marker": {
             "colorbar": {
              "outlinewidth": 0,
              "ticks": ""
             }
            },
            "type": "scatterternary"
           }
          ],
          "surface": [
           {
            "colorbar": {
             "outlinewidth": 0,
             "ticks": ""
            },
            "colorscale": [
             [
              0,
              "#0d0887"
             ],
             [
              0.1111111111111111,
              "#46039f"
             ],
             [
              0.2222222222222222,
              "#7201a8"
             ],
             [
              0.3333333333333333,
              "#9c179e"
             ],
             [
              0.4444444444444444,
              "#bd3786"
             ],
             [
              0.5555555555555556,
              "#d8576b"
             ],
             [
              0.6666666666666666,
              "#ed7953"
             ],
             [
              0.7777777777777778,
              "#fb9f3a"
             ],
             [
              0.8888888888888888,
              "#fdca26"
             ],
             [
              1,
              "#f0f921"
             ]
            ],
            "type": "surface"
           }
          ],
          "table": [
           {
            "cells": {
             "fill": {
              "color": "#EBF0F8"
             },
             "line": {
              "color": "white"
             }
            },
            "header": {
             "fill": {
              "color": "#C8D4E3"
             },
             "line": {
              "color": "white"
             }
            },
            "type": "table"
           }
          ]
         },
         "layout": {
          "annotationdefaults": {
           "arrowcolor": "#2a3f5f",
           "arrowhead": 0,
           "arrowwidth": 1
          },
          "autotypenumbers": "strict",
          "coloraxis": {
           "colorbar": {
            "outlinewidth": 0,
            "ticks": ""
           }
          },
          "colorscale": {
           "diverging": [
            [
             0,
             "#8e0152"
            ],
            [
             0.1,
             "#c51b7d"
            ],
            [
             0.2,
             "#de77ae"
            ],
            [
             0.3,
             "#f1b6da"
            ],
            [
             0.4,
             "#fde0ef"
            ],
            [
             0.5,
             "#f7f7f7"
            ],
            [
             0.6,
             "#e6f5d0"
            ],
            [
             0.7,
             "#b8e186"
            ],
            [
             0.8,
             "#7fbc41"
            ],
            [
             0.9,
             "#4d9221"
            ],
            [
             1,
             "#276419"
            ]
           ],
           "sequential": [
            [
             0,
             "#0d0887"
            ],
            [
             0.1111111111111111,
             "#46039f"
            ],
            [
             0.2222222222222222,
             "#7201a8"
            ],
            [
             0.3333333333333333,
             "#9c179e"
            ],
            [
             0.4444444444444444,
             "#bd3786"
            ],
            [
             0.5555555555555556,
             "#d8576b"
            ],
            [
             0.6666666666666666,
             "#ed7953"
            ],
            [
             0.7777777777777778,
             "#fb9f3a"
            ],
            [
             0.8888888888888888,
             "#fdca26"
            ],
            [
             1,
             "#f0f921"
            ]
           ],
           "sequentialminus": [
            [
             0,
             "#0d0887"
            ],
            [
             0.1111111111111111,
             "#46039f"
            ],
            [
             0.2222222222222222,
             "#7201a8"
            ],
            [
             0.3333333333333333,
             "#9c179e"
            ],
            [
             0.4444444444444444,
             "#bd3786"
            ],
            [
             0.5555555555555556,
             "#d8576b"
            ],
            [
             0.6666666666666666,
             "#ed7953"
            ],
            [
             0.7777777777777778,
             "#fb9f3a"
            ],
            [
             0.8888888888888888,
             "#fdca26"
            ],
            [
             1,
             "#f0f921"
            ]
           ]
          },
          "colorway": [
           "#636efa",
           "#EF553B",
           "#00cc96",
           "#ab63fa",
           "#FFA15A",
           "#19d3f3",
           "#FF6692",
           "#B6E880",
           "#FF97FF",
           "#FECB52"
          ],
          "font": {
           "color": "#2a3f5f"
          },
          "geo": {
           "bgcolor": "white",
           "lakecolor": "white",
           "landcolor": "#E5ECF6",
           "showlakes": true,
           "showland": true,
           "subunitcolor": "white"
          },
          "hoverlabel": {
           "align": "left"
          },
          "hovermode": "closest",
          "mapbox": {
           "style": "light"
          },
          "paper_bgcolor": "white",
          "plot_bgcolor": "#E5ECF6",
          "polar": {
           "angularaxis": {
            "gridcolor": "white",
            "linecolor": "white",
            "ticks": ""
           },
           "bgcolor": "#E5ECF6",
           "radialaxis": {
            "gridcolor": "white",
            "linecolor": "white",
            "ticks": ""
           }
          },
          "scene": {
           "xaxis": {
            "backgroundcolor": "#E5ECF6",
            "gridcolor": "white",
            "gridwidth": 2,
            "linecolor": "white",
            "showbackground": true,
            "ticks": "",
            "zerolinecolor": "white"
           },
           "yaxis": {
            "backgroundcolor": "#E5ECF6",
            "gridcolor": "white",
            "gridwidth": 2,
            "linecolor": "white",
            "showbackground": true,
            "ticks": "",
            "zerolinecolor": "white"
           },
           "zaxis": {
            "backgroundcolor": "#E5ECF6",
            "gridcolor": "white",
            "gridwidth": 2,
            "linecolor": "white",
            "showbackground": true,
            "ticks": "",
            "zerolinecolor": "white"
           }
          },
          "shapedefaults": {
           "line": {
            "color": "#2a3f5f"
           }
          },
          "ternary": {
           "aaxis": {
            "gridcolor": "white",
            "linecolor": "white",
            "ticks": ""
           },
           "baxis": {
            "gridcolor": "white",
            "linecolor": "white",
            "ticks": ""
           },
           "bgcolor": "#E5ECF6",
           "caxis": {
            "gridcolor": "white",
            "linecolor": "white",
            "ticks": ""
           }
          },
          "title": {
           "x": 0.05
          },
          "xaxis": {
           "automargin": true,
           "gridcolor": "white",
           "linecolor": "white",
           "ticks": "",
           "title": {
            "standoff": 15
           },
           "zerolinecolor": "white",
           "zerolinewidth": 2
          },
          "yaxis": {
           "automargin": true,
           "gridcolor": "white",
           "linecolor": "white",
           "ticks": "",
           "title": {
            "standoff": 15
           },
           "zerolinecolor": "white",
           "zerolinewidth": 2
          }
         }
        },
        "xaxis": {
         "anchor": "y",
         "domain": [
          0,
          1
         ],
         "side": "top"
        },
        "yaxis": {
         "anchor": "x",
         "autorange": "reversed",
         "domain": [
          0,
          1
         ]
        }
       }
      }
     },
     "metadata": {},
     "output_type": "display_data"
    }
   ],
   "source": [
    "import plotly.express as px\n",
    "\n",
    "x = ['']\n",
    "y = ['']\n",
    "\n",
    "z = [[0.0]]\n",
    "\n",
    "z_text = [['99%']]\n",
    "\n",
    "fig = px.imshow(z, x=x, y=y, color_continuous_scale='BrBG', aspect = 'auto')#, color_continuous_scale='Viridis', aspect=\"auto\")\n",
    "fig.update_traces(text=z_text, texttemplate=\"%{text}\")\n",
    "fig.update_xaxes(side=\"top\")\n",
    "fig.update_coloraxes(showscale=False)\n",
    "fig.update_layout(font=dict(size=18))\n",
    "fig.show()"
   ]
  },
  {
   "cell_type": "code",
   "execution_count": 51,
   "metadata": {},
   "outputs": [],
   "source": [
    "members = db_client.Table('person')\n",
    "members_response = members.scan()\n",
    "members_df = pd.DataFrame(members_response['Items'])"
   ]
  },
  {
   "cell_type": "code",
   "execution_count": 52,
   "metadata": {},
   "outputs": [
    {
     "data": {
      "text/plain": [
       "dynamodb.Table(name='person')"
      ]
     },
     "execution_count": 52,
     "metadata": {},
     "output_type": "execute_result"
    }
   ],
   "source": [
    "table = db_client.Table('attendance')\n",
    "members = db_client.Table('person')\n",
    "members"
   ]
  },
  {
   "cell_type": "code",
   "execution_count": 53,
   "metadata": {},
   "outputs": [
    {
     "data": {
      "text/html": [
       "<div>\n",
       "<style scoped>\n",
       "    .dataframe tbody tr th:only-of-type {\n",
       "        vertical-align: middle;\n",
       "    }\n",
       "\n",
       "    .dataframe tbody tr th {\n",
       "        vertical-align: top;\n",
       "    }\n",
       "\n",
       "    .dataframe thead th {\n",
       "        text-align: right;\n",
       "    }\n",
       "</style>\n",
       "<table border=\"1\" class=\"dataframe\">\n",
       "  <thead>\n",
       "    <tr style=\"text-align: right;\">\n",
       "      <th></th>\n",
       "      <th>birth_date</th>\n",
       "      <th>cell_group</th>\n",
       "      <th>role</th>\n",
       "      <th>name</th>\n",
       "      <th>telegram_id</th>\n",
       "    </tr>\n",
       "  </thead>\n",
       "  <tbody>\n",
       "    <tr>\n",
       "      <th>0</th>\n",
       "      <td>01-01-2000</td>\n",
       "      <td>Bouquet</td>\n",
       "      <td>Member</td>\n",
       "      <td>Andrew Chen</td>\n",
       "      <td>None</td>\n",
       "    </tr>\n",
       "    <tr>\n",
       "      <th>1</th>\n",
       "      <td>01-01-2000</td>\n",
       "      <td>Gilead</td>\n",
       "      <td>Leader</td>\n",
       "      <td>Matthias Chan</td>\n",
       "      <td>None</td>\n",
       "    </tr>\n",
       "    <tr>\n",
       "      <th>2</th>\n",
       "      <td>01-01-2000</td>\n",
       "      <td>ONE</td>\n",
       "      <td>Member</td>\n",
       "      <td>Jonathan Teo</td>\n",
       "      <td>None</td>\n",
       "    </tr>\n",
       "    <tr>\n",
       "      <th>3</th>\n",
       "      <td>01-01-2000</td>\n",
       "      <td>Bouquet</td>\n",
       "      <td>New Friend</td>\n",
       "      <td>Shin Ying (Chloe’s friend)</td>\n",
       "      <td>None</td>\n",
       "    </tr>\n",
       "    <tr>\n",
       "      <th>4</th>\n",
       "      <td>01-01-2000</td>\n",
       "      <td>ONE</td>\n",
       "      <td>Member</td>\n",
       "      <td>Bryan Yau</td>\n",
       "      <td>None</td>\n",
       "    </tr>\n",
       "    <tr>\n",
       "      <th>...</th>\n",
       "      <td>...</td>\n",
       "      <td>...</td>\n",
       "      <td>...</td>\n",
       "      <td>...</td>\n",
       "      <td>...</td>\n",
       "    </tr>\n",
       "    <tr>\n",
       "      <th>63</th>\n",
       "      <td>01-01-2000</td>\n",
       "      <td>Bouquet</td>\n",
       "      <td>New Friend</td>\n",
       "      <td>Wen Jin (Chloe’s friend)</td>\n",
       "      <td>None</td>\n",
       "    </tr>\n",
       "    <tr>\n",
       "      <th>64</th>\n",
       "      <td>01-01-2000</td>\n",
       "      <td>Bouquet</td>\n",
       "      <td>Member</td>\n",
       "      <td>Jie Wei</td>\n",
       "      <td>None</td>\n",
       "    </tr>\n",
       "    <tr>\n",
       "      <th>65</th>\n",
       "      <td>01-01-2000</td>\n",
       "      <td>ONE</td>\n",
       "      <td>Member</td>\n",
       "      <td>Nikita</td>\n",
       "      <td>None</td>\n",
       "    </tr>\n",
       "    <tr>\n",
       "      <th>66</th>\n",
       "      <td>01-01-2000</td>\n",
       "      <td>Bouquet</td>\n",
       "      <td>New Friend</td>\n",
       "      <td>Seth (Chloe’s friend)</td>\n",
       "      <td>None</td>\n",
       "    </tr>\n",
       "    <tr>\n",
       "      <th>67</th>\n",
       "      <td>01-01-2000</td>\n",
       "      <td>Gilead</td>\n",
       "      <td>Leader</td>\n",
       "      <td>Mark Chua</td>\n",
       "      <td>None</td>\n",
       "    </tr>\n",
       "  </tbody>\n",
       "</table>\n",
       "<p>68 rows × 5 columns</p>\n",
       "</div>"
      ],
      "text/plain": [
       "    birth_date cell_group        role                        name telegram_id\n",
       "0   01-01-2000    Bouquet      Member                 Andrew Chen        None\n",
       "1   01-01-2000     Gilead      Leader               Matthias Chan        None\n",
       "2   01-01-2000        ONE      Member                Jonathan Teo        None\n",
       "3   01-01-2000    Bouquet  New Friend  Shin Ying (Chloe’s friend)        None\n",
       "4   01-01-2000        ONE      Member                   Bryan Yau        None\n",
       "..         ...        ...         ...                         ...         ...\n",
       "63  01-01-2000    Bouquet  New Friend    Wen Jin (Chloe’s friend)        None\n",
       "64  01-01-2000    Bouquet      Member                     Jie Wei        None\n",
       "65  01-01-2000        ONE      Member                      Nikita        None\n",
       "66  01-01-2000    Bouquet  New Friend       Seth (Chloe’s friend)        None\n",
       "67  01-01-2000     Gilead      Leader                   Mark Chua        None\n",
       "\n",
       "[68 rows x 5 columns]"
      ]
     },
     "execution_count": 53,
     "metadata": {},
     "output_type": "execute_result"
    }
   ],
   "source": [
    "members_response = members.scan()\n",
    "members_df = pd.DataFrame(members_response['Items'])\n",
    "members_df"
   ]
  },
  {
   "cell_type": "code",
   "execution_count": 54,
   "metadata": {},
   "outputs": [
    {
     "data": {
      "text/html": [
       "<div>\n",
       "<style scoped>\n",
       "    .dataframe tbody tr th:only-of-type {\n",
       "        vertical-align: middle;\n",
       "    }\n",
       "\n",
       "    .dataframe tbody tr th {\n",
       "        vertical-align: top;\n",
       "    }\n",
       "\n",
       "    .dataframe thead th {\n",
       "        text-align: right;\n",
       "    }\n",
       "</style>\n",
       "<table border=\"1\" class=\"dataframe\">\n",
       "  <thead>\n",
       "    <tr style=\"text-align: right;\">\n",
       "      <th></th>\n",
       "      <th>event_type</th>\n",
       "      <th>cell_group</th>\n",
       "      <th>date_attended</th>\n",
       "      <th>name</th>\n",
       "      <th>attendance_type</th>\n",
       "    </tr>\n",
       "  </thead>\n",
       "  <tbody>\n",
       "    <tr>\n",
       "      <th>0</th>\n",
       "      <td>Sunday Service</td>\n",
       "      <td>ONE</td>\n",
       "      <td>2024-03-03 00:00:00</td>\n",
       "      <td>Aaron Chiang</td>\n",
       "      <td>Present</td>\n",
       "    </tr>\n",
       "    <tr>\n",
       "      <th>1</th>\n",
       "      <td>Sunday Service</td>\n",
       "      <td>ONE</td>\n",
       "      <td>2024-03-03 00:00:00</td>\n",
       "      <td>Bobby Cheng</td>\n",
       "      <td>Present</td>\n",
       "    </tr>\n",
       "    <tr>\n",
       "      <th>2</th>\n",
       "      <td>Sunday Service</td>\n",
       "      <td>ONE</td>\n",
       "      <td>2024-03-03 00:00:00</td>\n",
       "      <td>Chua Ting Wei</td>\n",
       "      <td>Present</td>\n",
       "    </tr>\n",
       "    <tr>\n",
       "      <th>3</th>\n",
       "      <td>Sunday Service</td>\n",
       "      <td>ONE</td>\n",
       "      <td>2024-03-03 00:00:00</td>\n",
       "      <td>Gilia Quek</td>\n",
       "      <td>Present</td>\n",
       "    </tr>\n",
       "    <tr>\n",
       "      <th>4</th>\n",
       "      <td>Sunday Service</td>\n",
       "      <td>ONE</td>\n",
       "      <td>2024-03-03 00:00:00</td>\n",
       "      <td>Jasariel Chee</td>\n",
       "      <td>Present</td>\n",
       "    </tr>\n",
       "    <tr>\n",
       "      <th>...</th>\n",
       "      <td>...</td>\n",
       "      <td>...</td>\n",
       "      <td>...</td>\n",
       "      <td>...</td>\n",
       "      <td>...</td>\n",
       "    </tr>\n",
       "    <tr>\n",
       "      <th>339</th>\n",
       "      <td>Cell Group</td>\n",
       "      <td>Kadesh</td>\n",
       "      <td>2024-02-16 00:00:00</td>\n",
       "      <td>Ryder Wong</td>\n",
       "      <td>Absent Valid</td>\n",
       "    </tr>\n",
       "    <tr>\n",
       "      <th>340</th>\n",
       "      <td>Cell Group</td>\n",
       "      <td>ONE</td>\n",
       "      <td>2024-02-16 00:00:00</td>\n",
       "      <td>Samuel Pupella</td>\n",
       "      <td>Present</td>\n",
       "    </tr>\n",
       "    <tr>\n",
       "      <th>341</th>\n",
       "      <td>Cell Group</td>\n",
       "      <td>Bouquet</td>\n",
       "      <td>2024-02-16 00:00:00</td>\n",
       "      <td>Teo Jia En</td>\n",
       "      <td>Present</td>\n",
       "    </tr>\n",
       "    <tr>\n",
       "      <th>342</th>\n",
       "      <td>Cell Group</td>\n",
       "      <td>ONE</td>\n",
       "      <td>2024-02-16 00:00:00</td>\n",
       "      <td>Timothy Tan</td>\n",
       "      <td>Present</td>\n",
       "    </tr>\n",
       "    <tr>\n",
       "      <th>343</th>\n",
       "      <td>Cell Group</td>\n",
       "      <td>Bouquet</td>\n",
       "      <td>2024-02-16 00:00:00</td>\n",
       "      <td>Yap Jun Hong</td>\n",
       "      <td>Absent Valid</td>\n",
       "    </tr>\n",
       "  </tbody>\n",
       "</table>\n",
       "<p>344 rows × 5 columns</p>\n",
       "</div>"
      ],
      "text/plain": [
       "         event_type cell_group        date_attended            name  \\\n",
       "0    Sunday Service        ONE  2024-03-03 00:00:00    Aaron Chiang   \n",
       "1    Sunday Service        ONE  2024-03-03 00:00:00     Bobby Cheng   \n",
       "2    Sunday Service        ONE  2024-03-03 00:00:00   Chua Ting Wei   \n",
       "3    Sunday Service        ONE  2024-03-03 00:00:00      Gilia Quek   \n",
       "4    Sunday Service        ONE  2024-03-03 00:00:00   Jasariel Chee   \n",
       "..              ...        ...                  ...             ...   \n",
       "339      Cell Group     Kadesh  2024-02-16 00:00:00      Ryder Wong   \n",
       "340      Cell Group        ONE  2024-02-16 00:00:00  Samuel Pupella   \n",
       "341      Cell Group    Bouquet  2024-02-16 00:00:00      Teo Jia En   \n",
       "342      Cell Group        ONE  2024-02-16 00:00:00     Timothy Tan   \n",
       "343      Cell Group    Bouquet  2024-02-16 00:00:00    Yap Jun Hong   \n",
       "\n",
       "    attendance_type  \n",
       "0           Present  \n",
       "1           Present  \n",
       "2           Present  \n",
       "3           Present  \n",
       "4           Present  \n",
       "..              ...  \n",
       "339    Absent Valid  \n",
       "340         Present  \n",
       "341         Present  \n",
       "342         Present  \n",
       "343    Absent Valid  \n",
       "\n",
       "[344 rows x 5 columns]"
      ]
     },
     "execution_count": 54,
     "metadata": {},
     "output_type": "execute_result"
    }
   ],
   "source": [
    "response = table.scan()\n",
    "items = pd.DataFrame(response['Items'])\n",
    "items"
   ]
  },
  {
   "cell_type": "code",
   "execution_count": 55,
   "metadata": {},
   "outputs": [
    {
     "data": {
      "text/html": [
       "<div>\n",
       "<style scoped>\n",
       "    .dataframe tbody tr th:only-of-type {\n",
       "        vertical-align: middle;\n",
       "    }\n",
       "\n",
       "    .dataframe tbody tr th {\n",
       "        vertical-align: top;\n",
       "    }\n",
       "\n",
       "    .dataframe thead th {\n",
       "        text-align: right;\n",
       "    }\n",
       "</style>\n",
       "<table border=\"1\" class=\"dataframe\">\n",
       "  <thead>\n",
       "    <tr style=\"text-align: right;\">\n",
       "      <th></th>\n",
       "      <th>event_type</th>\n",
       "      <th>cell_group</th>\n",
       "      <th>date_attended</th>\n",
       "      <th>name</th>\n",
       "      <th>attendance_type</th>\n",
       "      <th>role</th>\n",
       "    </tr>\n",
       "  </thead>\n",
       "  <tbody>\n",
       "    <tr>\n",
       "      <th>0</th>\n",
       "      <td>Sunday Service</td>\n",
       "      <td>ONE</td>\n",
       "      <td>2024-03-03 00:00:00</td>\n",
       "      <td>Aaron Chiang</td>\n",
       "      <td>Present</td>\n",
       "      <td>Member</td>\n",
       "    </tr>\n",
       "    <tr>\n",
       "      <th>1</th>\n",
       "      <td>Cell Group</td>\n",
       "      <td>ONE</td>\n",
       "      <td>2024-03-15 00:00:00</td>\n",
       "      <td>Aaron Chiang</td>\n",
       "      <td>Absent Valid</td>\n",
       "      <td>Member</td>\n",
       "    </tr>\n",
       "    <tr>\n",
       "      <th>2</th>\n",
       "      <td>Others</td>\n",
       "      <td>ONE</td>\n",
       "      <td>2024-03-08 00:00:00</td>\n",
       "      <td>Aaron Chiang</td>\n",
       "      <td>Present</td>\n",
       "      <td>Member</td>\n",
       "    </tr>\n",
       "    <tr>\n",
       "      <th>3</th>\n",
       "      <td>Sunday Service</td>\n",
       "      <td>ONE</td>\n",
       "      <td>2024-02-25 00:00:00</td>\n",
       "      <td>Aaron Chiang</td>\n",
       "      <td>Present</td>\n",
       "      <td>Member</td>\n",
       "    </tr>\n",
       "    <tr>\n",
       "      <th>4</th>\n",
       "      <td>Others</td>\n",
       "      <td>ONE</td>\n",
       "      <td>2024-02-23 00:00:00</td>\n",
       "      <td>Aaron Chiang</td>\n",
       "      <td>Absent Valid</td>\n",
       "      <td>Member</td>\n",
       "    </tr>\n",
       "    <tr>\n",
       "      <th>...</th>\n",
       "      <td>...</td>\n",
       "      <td>...</td>\n",
       "      <td>...</td>\n",
       "      <td>...</td>\n",
       "      <td>...</td>\n",
       "      <td>...</td>\n",
       "    </tr>\n",
       "    <tr>\n",
       "      <th>340</th>\n",
       "      <td>Cell Group</td>\n",
       "      <td>Bouquet</td>\n",
       "      <td>2024-03-22 00:00:00</td>\n",
       "      <td>Jolize</td>\n",
       "      <td>Present</td>\n",
       "      <td>New Friend</td>\n",
       "    </tr>\n",
       "    <tr>\n",
       "      <th>341</th>\n",
       "      <td>Sunday Service</td>\n",
       "      <td>Kadesh</td>\n",
       "      <td>2024-03-17 00:00:00</td>\n",
       "      <td>Jonah Ng</td>\n",
       "      <td>Present</td>\n",
       "      <td>Member</td>\n",
       "    </tr>\n",
       "    <tr>\n",
       "      <th>342</th>\n",
       "      <td>Cell Group</td>\n",
       "      <td>ONE</td>\n",
       "      <td>2024-02-16 00:00:00</td>\n",
       "      <td>Matthew Wong</td>\n",
       "      <td>Absent Valid</td>\n",
       "      <td>Member</td>\n",
       "    </tr>\n",
       "    <tr>\n",
       "      <th>343</th>\n",
       "      <td>Cell Group</td>\n",
       "      <td>ONE</td>\n",
       "      <td>2024-02-16 00:00:00</td>\n",
       "      <td>Nikita</td>\n",
       "      <td>Absent Valid</td>\n",
       "      <td>Member</td>\n",
       "    </tr>\n",
       "    <tr>\n",
       "      <th>344</th>\n",
       "      <td>Cell Group</td>\n",
       "      <td>ONE</td>\n",
       "      <td>2024-02-16 00:00:00</td>\n",
       "      <td>Samuel Pupella</td>\n",
       "      <td>Present</td>\n",
       "      <td>New Friend</td>\n",
       "    </tr>\n",
       "  </tbody>\n",
       "</table>\n",
       "<p>345 rows × 6 columns</p>\n",
       "</div>"
      ],
      "text/plain": [
       "         event_type cell_group        date_attended            name  \\\n",
       "0    Sunday Service        ONE  2024-03-03 00:00:00    Aaron Chiang   \n",
       "1        Cell Group        ONE  2024-03-15 00:00:00    Aaron Chiang   \n",
       "2            Others        ONE  2024-03-08 00:00:00    Aaron Chiang   \n",
       "3    Sunday Service        ONE  2024-02-25 00:00:00    Aaron Chiang   \n",
       "4            Others        ONE  2024-02-23 00:00:00    Aaron Chiang   \n",
       "..              ...        ...                  ...             ...   \n",
       "340      Cell Group    Bouquet  2024-03-22 00:00:00          Jolize   \n",
       "341  Sunday Service     Kadesh  2024-03-17 00:00:00        Jonah Ng   \n",
       "342      Cell Group        ONE  2024-02-16 00:00:00    Matthew Wong   \n",
       "343      Cell Group        ONE  2024-02-16 00:00:00          Nikita   \n",
       "344      Cell Group        ONE  2024-02-16 00:00:00  Samuel Pupella   \n",
       "\n",
       "    attendance_type        role  \n",
       "0           Present      Member  \n",
       "1      Absent Valid      Member  \n",
       "2           Present      Member  \n",
       "3           Present      Member  \n",
       "4      Absent Valid      Member  \n",
       "..              ...         ...  \n",
       "340         Present  New Friend  \n",
       "341         Present      Member  \n",
       "342    Absent Valid      Member  \n",
       "343    Absent Valid      Member  \n",
       "344         Present  New Friend  \n",
       "\n",
       "[345 rows x 6 columns]"
      ]
     },
     "execution_count": 55,
     "metadata": {},
     "output_type": "execute_result"
    }
   ],
   "source": [
    "combined = items.merge(members_df[['cell_group','name','role']], on = ['cell_group','name'])\n",
    "combined"
   ]
  },
  {
   "cell_type": "code",
   "execution_count": 56,
   "metadata": {},
   "outputs": [
    {
     "data": {
      "text/html": [
       "<div>\n",
       "<style scoped>\n",
       "    .dataframe tbody tr th:only-of-type {\n",
       "        vertical-align: middle;\n",
       "    }\n",
       "\n",
       "    .dataframe tbody tr th {\n",
       "        vertical-align: top;\n",
       "    }\n",
       "\n",
       "    .dataframe thead th {\n",
       "        text-align: right;\n",
       "    }\n",
       "</style>\n",
       "<table border=\"1\" class=\"dataframe\">\n",
       "  <thead>\n",
       "    <tr style=\"text-align: right;\">\n",
       "      <th></th>\n",
       "      <th>date_attended</th>\n",
       "      <th>role</th>\n",
       "      <th>name</th>\n",
       "      <th>avg_percentage</th>\n",
       "    </tr>\n",
       "  </thead>\n",
       "  <tbody>\n",
       "    <tr>\n",
       "      <th>0</th>\n",
       "      <td>2024-02-18 00:00:00</td>\n",
       "      <td>3</td>\n",
       "      <td>6</td>\n",
       "      <td>0.500000</td>\n",
       "    </tr>\n",
       "    <tr>\n",
       "      <th>1</th>\n",
       "      <td>2024-02-25 00:00:00</td>\n",
       "      <td>4</td>\n",
       "      <td>7</td>\n",
       "      <td>0.571429</td>\n",
       "    </tr>\n",
       "    <tr>\n",
       "      <th>2</th>\n",
       "      <td>2024-03-17 00:00:00</td>\n",
       "      <td>1</td>\n",
       "      <td>4</td>\n",
       "      <td>0.250000</td>\n",
       "    </tr>\n",
       "    <tr>\n",
       "      <th>3</th>\n",
       "      <td>2024-03-24 00:00:00</td>\n",
       "      <td>3</td>\n",
       "      <td>5</td>\n",
       "      <td>0.600000</td>\n",
       "    </tr>\n",
       "    <tr>\n",
       "      <th>4</th>\n",
       "      <td>2024-03-31 00:00:00</td>\n",
       "      <td>4</td>\n",
       "      <td>7</td>\n",
       "      <td>0.571429</td>\n",
       "    </tr>\n",
       "  </tbody>\n",
       "</table>\n",
       "</div>"
      ],
      "text/plain": [
       "         date_attended  role  name  avg_percentage\n",
       "0  2024-02-18 00:00:00     3     6        0.500000\n",
       "1  2024-02-25 00:00:00     4     7        0.571429\n",
       "2  2024-03-17 00:00:00     1     4        0.250000\n",
       "3  2024-03-24 00:00:00     3     5        0.600000\n",
       "4  2024-03-31 00:00:00     4     7        0.571429"
      ]
     },
     "execution_count": 56,
     "metadata": {},
     "output_type": "execute_result"
    }
   ],
   "source": [
    "temp = combined[(combined['attendance_type']=='Present')&(combined['cell_group']=='Gilead')].groupby(['date_attended']).agg({'role':lambda x: (x == 'Member').sum(),\n",
    "                                         'name':'count'}).reset_index()\n",
    "temp['avg_percentage'] = temp['role']/temp['name']\n",
    "temp"
   ]
  },
  {
   "cell_type": "code",
   "execution_count": 57,
   "metadata": {},
   "outputs": [
    {
     "data": {
      "text/plain": [
       "{'Matthias', 'Matthias '}"
      ]
     },
     "execution_count": 57,
     "metadata": {},
     "output_type": "execute_result"
    }
   ],
   "source": [
    "set(['Matthias ','Matthias'])"
   ]
  },
  {
   "cell_type": "code",
   "execution_count": 58,
   "metadata": {},
   "outputs": [
    {
     "data": {
      "text/html": [
       "<div>\n",
       "<style scoped>\n",
       "    .dataframe tbody tr th:only-of-type {\n",
       "        vertical-align: middle;\n",
       "    }\n",
       "\n",
       "    .dataframe tbody tr th {\n",
       "        vertical-align: top;\n",
       "    }\n",
       "\n",
       "    .dataframe thead th {\n",
       "        text-align: right;\n",
       "    }\n",
       "</style>\n",
       "<table border=\"1\" class=\"dataframe\">\n",
       "  <thead>\n",
       "    <tr style=\"text-align: right;\">\n",
       "      <th></th>\n",
       "      <th>event_type</th>\n",
       "      <th>cell_group</th>\n",
       "      <th>date_attended</th>\n",
       "      <th>name</th>\n",
       "      <th>attendance_type</th>\n",
       "    </tr>\n",
       "  </thead>\n",
       "  <tbody>\n",
       "    <tr>\n",
       "      <th>0</th>\n",
       "      <td>Sunday Service</td>\n",
       "      <td>ONE</td>\n",
       "      <td>2024-03-03 00:00:00</td>\n",
       "      <td>Aaron Chiang</td>\n",
       "      <td>Present</td>\n",
       "    </tr>\n",
       "    <tr>\n",
       "      <th>1</th>\n",
       "      <td>Sunday Service</td>\n",
       "      <td>ONE</td>\n",
       "      <td>2024-03-03 00:00:00</td>\n",
       "      <td>Bobby Cheng</td>\n",
       "      <td>Present</td>\n",
       "    </tr>\n",
       "    <tr>\n",
       "      <th>2</th>\n",
       "      <td>Sunday Service</td>\n",
       "      <td>ONE</td>\n",
       "      <td>2024-03-03 00:00:00</td>\n",
       "      <td>Chua Ting Wei</td>\n",
       "      <td>Present</td>\n",
       "    </tr>\n",
       "    <tr>\n",
       "      <th>3</th>\n",
       "      <td>Sunday Service</td>\n",
       "      <td>ONE</td>\n",
       "      <td>2024-03-03 00:00:00</td>\n",
       "      <td>Gilia Quek</td>\n",
       "      <td>Present</td>\n",
       "    </tr>\n",
       "    <tr>\n",
       "      <th>4</th>\n",
       "      <td>Sunday Service</td>\n",
       "      <td>ONE</td>\n",
       "      <td>2024-03-03 00:00:00</td>\n",
       "      <td>Jasariel Chee</td>\n",
       "      <td>Present</td>\n",
       "    </tr>\n",
       "    <tr>\n",
       "      <th>...</th>\n",
       "      <td>...</td>\n",
       "      <td>...</td>\n",
       "      <td>...</td>\n",
       "      <td>...</td>\n",
       "      <td>...</td>\n",
       "    </tr>\n",
       "    <tr>\n",
       "      <th>339</th>\n",
       "      <td>Cell Group</td>\n",
       "      <td>Kadesh</td>\n",
       "      <td>2024-02-16 00:00:00</td>\n",
       "      <td>Ryder Wong</td>\n",
       "      <td>Absent Valid</td>\n",
       "    </tr>\n",
       "    <tr>\n",
       "      <th>340</th>\n",
       "      <td>Cell Group</td>\n",
       "      <td>ONE</td>\n",
       "      <td>2024-02-16 00:00:00</td>\n",
       "      <td>Samuel Pupella</td>\n",
       "      <td>Present</td>\n",
       "    </tr>\n",
       "    <tr>\n",
       "      <th>341</th>\n",
       "      <td>Cell Group</td>\n",
       "      <td>Bouquet</td>\n",
       "      <td>2024-02-16 00:00:00</td>\n",
       "      <td>Teo Jia En</td>\n",
       "      <td>Present</td>\n",
       "    </tr>\n",
       "    <tr>\n",
       "      <th>342</th>\n",
       "      <td>Cell Group</td>\n",
       "      <td>ONE</td>\n",
       "      <td>2024-02-16 00:00:00</td>\n",
       "      <td>Timothy Tan</td>\n",
       "      <td>Present</td>\n",
       "    </tr>\n",
       "    <tr>\n",
       "      <th>343</th>\n",
       "      <td>Cell Group</td>\n",
       "      <td>Bouquet</td>\n",
       "      <td>2024-02-16 00:00:00</td>\n",
       "      <td>Yap Jun Hong</td>\n",
       "      <td>Absent Valid</td>\n",
       "    </tr>\n",
       "  </tbody>\n",
       "</table>\n",
       "<p>344 rows × 5 columns</p>\n",
       "</div>"
      ],
      "text/plain": [
       "         event_type cell_group        date_attended            name  \\\n",
       "0    Sunday Service        ONE  2024-03-03 00:00:00    Aaron Chiang   \n",
       "1    Sunday Service        ONE  2024-03-03 00:00:00     Bobby Cheng   \n",
       "2    Sunday Service        ONE  2024-03-03 00:00:00   Chua Ting Wei   \n",
       "3    Sunday Service        ONE  2024-03-03 00:00:00      Gilia Quek   \n",
       "4    Sunday Service        ONE  2024-03-03 00:00:00   Jasariel Chee   \n",
       "..              ...        ...                  ...             ...   \n",
       "339      Cell Group     Kadesh  2024-02-16 00:00:00      Ryder Wong   \n",
       "340      Cell Group        ONE  2024-02-16 00:00:00  Samuel Pupella   \n",
       "341      Cell Group    Bouquet  2024-02-16 00:00:00      Teo Jia En   \n",
       "342      Cell Group        ONE  2024-02-16 00:00:00     Timothy Tan   \n",
       "343      Cell Group    Bouquet  2024-02-16 00:00:00    Yap Jun Hong   \n",
       "\n",
       "    attendance_type  \n",
       "0           Present  \n",
       "1           Present  \n",
       "2           Present  \n",
       "3           Present  \n",
       "4           Present  \n",
       "..              ...  \n",
       "339    Absent Valid  \n",
       "340         Present  \n",
       "341         Present  \n",
       "342         Present  \n",
       "343    Absent Valid  \n",
       "\n",
       "[344 rows x 5 columns]"
      ]
     },
     "execution_count": 58,
     "metadata": {},
     "output_type": "execute_result"
    }
   ],
   "source": [
    "data = pd.DataFrame(items)\n",
    "data"
   ]
  },
  {
   "cell_type": "code",
   "execution_count": 59,
   "metadata": {},
   "outputs": [
    {
     "data": {
      "text/html": [
       "<div>\n",
       "<style scoped>\n",
       "    .dataframe tbody tr th:only-of-type {\n",
       "        vertical-align: middle;\n",
       "    }\n",
       "\n",
       "    .dataframe tbody tr th {\n",
       "        vertical-align: top;\n",
       "    }\n",
       "\n",
       "    .dataframe thead th {\n",
       "        text-align: right;\n",
       "    }\n",
       "</style>\n",
       "<table border=\"1\" class=\"dataframe\">\n",
       "  <thead>\n",
       "    <tr style=\"text-align: right;\">\n",
       "      <th></th>\n",
       "      <th>event_type</th>\n",
       "      <th>cell_group</th>\n",
       "      <th>date_attended</th>\n",
       "      <th>attendance_type</th>\n",
       "      <th>name</th>\n",
       "    </tr>\n",
       "  </thead>\n",
       "  <tbody>\n",
       "    <tr>\n",
       "      <th>0</th>\n",
       "      <td>Cell Group</td>\n",
       "      <td>Bouquet</td>\n",
       "      <td>2024-02-16 00:00:00</td>\n",
       "      <td>Absent Valid</td>\n",
       "      <td>3</td>\n",
       "    </tr>\n",
       "    <tr>\n",
       "      <th>1</th>\n",
       "      <td>Cell Group</td>\n",
       "      <td>Bouquet</td>\n",
       "      <td>2024-02-16 00:00:00</td>\n",
       "      <td>Present</td>\n",
       "      <td>8</td>\n",
       "    </tr>\n",
       "    <tr>\n",
       "      <th>2</th>\n",
       "      <td>Cell Group</td>\n",
       "      <td>Bouquet</td>\n",
       "      <td>2024-03-01 00:00:00</td>\n",
       "      <td>Present</td>\n",
       "      <td>9</td>\n",
       "    </tr>\n",
       "    <tr>\n",
       "      <th>3</th>\n",
       "      <td>Cell Group</td>\n",
       "      <td>Bouquet</td>\n",
       "      <td>2024-03-15 00:00:00</td>\n",
       "      <td>Absent Valid</td>\n",
       "      <td>4</td>\n",
       "    </tr>\n",
       "    <tr>\n",
       "      <th>4</th>\n",
       "      <td>Cell Group</td>\n",
       "      <td>Bouquet</td>\n",
       "      <td>2024-03-15 00:00:00</td>\n",
       "      <td>Present</td>\n",
       "      <td>10</td>\n",
       "    </tr>\n",
       "    <tr>\n",
       "      <th>5</th>\n",
       "      <td>Cell Group</td>\n",
       "      <td>Bouquet</td>\n",
       "      <td>2024-03-22 00:00:00</td>\n",
       "      <td>Absent Valid</td>\n",
       "      <td>5</td>\n",
       "    </tr>\n",
       "    <tr>\n",
       "      <th>6</th>\n",
       "      <td>Cell Group</td>\n",
       "      <td>Bouquet</td>\n",
       "      <td>2024-03-22 00:00:00</td>\n",
       "      <td>Present</td>\n",
       "      <td>8</td>\n",
       "    </tr>\n",
       "    <tr>\n",
       "      <th>7</th>\n",
       "      <td>Cell Group</td>\n",
       "      <td>Gilead</td>\n",
       "      <td>2024-02-18 00:00:00</td>\n",
       "      <td>Absent Valid</td>\n",
       "      <td>1</td>\n",
       "    </tr>\n",
       "    <tr>\n",
       "      <th>8</th>\n",
       "      <td>Cell Group</td>\n",
       "      <td>Gilead</td>\n",
       "      <td>2024-02-18 00:00:00</td>\n",
       "      <td>Present</td>\n",
       "      <td>6</td>\n",
       "    </tr>\n",
       "    <tr>\n",
       "      <th>9</th>\n",
       "      <td>Cell Group</td>\n",
       "      <td>Gilead</td>\n",
       "      <td>2024-02-25 00:00:00</td>\n",
       "      <td>Present</td>\n",
       "      <td>7</td>\n",
       "    </tr>\n",
       "    <tr>\n",
       "      <th>10</th>\n",
       "      <td>Cell Group</td>\n",
       "      <td>Gilead</td>\n",
       "      <td>2024-03-24 00:00:00</td>\n",
       "      <td>Present</td>\n",
       "      <td>5</td>\n",
       "    </tr>\n",
       "    <tr>\n",
       "      <th>11</th>\n",
       "      <td>Cell Group</td>\n",
       "      <td>Gilead</td>\n",
       "      <td>2024-03-31 00:00:00</td>\n",
       "      <td>Present</td>\n",
       "      <td>7</td>\n",
       "    </tr>\n",
       "    <tr>\n",
       "      <th>12</th>\n",
       "      <td>Cell Group</td>\n",
       "      <td>Kadesh</td>\n",
       "      <td>2024-02-10 00:00:00</td>\n",
       "      <td>Present</td>\n",
       "      <td>3</td>\n",
       "    </tr>\n",
       "    <tr>\n",
       "      <th>13</th>\n",
       "      <td>Cell Group</td>\n",
       "      <td>Kadesh</td>\n",
       "      <td>2024-02-16 00:00:00</td>\n",
       "      <td>Absent Valid</td>\n",
       "      <td>6</td>\n",
       "    </tr>\n",
       "    <tr>\n",
       "      <th>14</th>\n",
       "      <td>Cell Group</td>\n",
       "      <td>Kadesh</td>\n",
       "      <td>2024-02-16 00:00:00</td>\n",
       "      <td>Present</td>\n",
       "      <td>4</td>\n",
       "    </tr>\n",
       "    <tr>\n",
       "      <th>15</th>\n",
       "      <td>Cell Group</td>\n",
       "      <td>Kadesh</td>\n",
       "      <td>2024-03-01 00:00:00</td>\n",
       "      <td>Absent Valid</td>\n",
       "      <td>4</td>\n",
       "    </tr>\n",
       "    <tr>\n",
       "      <th>16</th>\n",
       "      <td>Cell Group</td>\n",
       "      <td>Kadesh</td>\n",
       "      <td>2024-03-01 00:00:00</td>\n",
       "      <td>Present</td>\n",
       "      <td>6</td>\n",
       "    </tr>\n",
       "    <tr>\n",
       "      <th>17</th>\n",
       "      <td>Cell Group</td>\n",
       "      <td>Kadesh</td>\n",
       "      <td>2024-03-31 00:00:00</td>\n",
       "      <td>Present</td>\n",
       "      <td>1</td>\n",
       "    </tr>\n",
       "    <tr>\n",
       "      <th>18</th>\n",
       "      <td>Cell Group</td>\n",
       "      <td>ONE</td>\n",
       "      <td>2024-02-16 00:00:00</td>\n",
       "      <td>Absent Valid</td>\n",
       "      <td>7</td>\n",
       "    </tr>\n",
       "    <tr>\n",
       "      <th>19</th>\n",
       "      <td>Cell Group</td>\n",
       "      <td>ONE</td>\n",
       "      <td>2024-02-16 00:00:00</td>\n",
       "      <td>Present</td>\n",
       "      <td>10</td>\n",
       "    </tr>\n",
       "    <tr>\n",
       "      <th>20</th>\n",
       "      <td>Cell Group</td>\n",
       "      <td>ONE</td>\n",
       "      <td>2024-03-01 00:00:00</td>\n",
       "      <td>Absent Valid</td>\n",
       "      <td>2</td>\n",
       "    </tr>\n",
       "    <tr>\n",
       "      <th>21</th>\n",
       "      <td>Cell Group</td>\n",
       "      <td>ONE</td>\n",
       "      <td>2024-03-01 00:00:00</td>\n",
       "      <td>Present</td>\n",
       "      <td>12</td>\n",
       "    </tr>\n",
       "    <tr>\n",
       "      <th>22</th>\n",
       "      <td>Cell Group</td>\n",
       "      <td>ONE</td>\n",
       "      <td>2024-03-15 00:00:00</td>\n",
       "      <td>Absent Valid</td>\n",
       "      <td>4</td>\n",
       "    </tr>\n",
       "    <tr>\n",
       "      <th>23</th>\n",
       "      <td>Cell Group</td>\n",
       "      <td>ONE</td>\n",
       "      <td>2024-03-15 00:00:00</td>\n",
       "      <td>Present</td>\n",
       "      <td>9</td>\n",
       "    </tr>\n",
       "    <tr>\n",
       "      <th>24</th>\n",
       "      <td>Cell Group</td>\n",
       "      <td>ONE</td>\n",
       "      <td>2024-03-22 00:00:00</td>\n",
       "      <td>Absent Valid</td>\n",
       "      <td>2</td>\n",
       "    </tr>\n",
       "    <tr>\n",
       "      <th>25</th>\n",
       "      <td>Cell Group</td>\n",
       "      <td>ONE</td>\n",
       "      <td>2024-03-22 00:00:00</td>\n",
       "      <td>Present</td>\n",
       "      <td>9</td>\n",
       "    </tr>\n",
       "    <tr>\n",
       "      <th>26</th>\n",
       "      <td>Others</td>\n",
       "      <td>Bouquet</td>\n",
       "      <td>2024-02-23 00:00:00</td>\n",
       "      <td>Present</td>\n",
       "      <td>4</td>\n",
       "    </tr>\n",
       "    <tr>\n",
       "      <th>27</th>\n",
       "      <td>Others</td>\n",
       "      <td>Bouquet</td>\n",
       "      <td>2024-03-29 00:00:00</td>\n",
       "      <td>Absent Valid</td>\n",
       "      <td>2</td>\n",
       "    </tr>\n",
       "    <tr>\n",
       "      <th>28</th>\n",
       "      <td>Others</td>\n",
       "      <td>Bouquet</td>\n",
       "      <td>2024-03-29 00:00:00</td>\n",
       "      <td>Present</td>\n",
       "      <td>17</td>\n",
       "    </tr>\n",
       "    <tr>\n",
       "      <th>29</th>\n",
       "      <td>Others</td>\n",
       "      <td>ONE</td>\n",
       "      <td>2024-02-23 00:00:00</td>\n",
       "      <td>Absent Valid</td>\n",
       "      <td>7</td>\n",
       "    </tr>\n",
       "    <tr>\n",
       "      <th>30</th>\n",
       "      <td>Others</td>\n",
       "      <td>ONE</td>\n",
       "      <td>2024-02-23 00:00:00</td>\n",
       "      <td>Present</td>\n",
       "      <td>7</td>\n",
       "    </tr>\n",
       "    <tr>\n",
       "      <th>31</th>\n",
       "      <td>Others</td>\n",
       "      <td>ONE</td>\n",
       "      <td>2024-03-08 00:00:00</td>\n",
       "      <td>Absent Valid</td>\n",
       "      <td>2</td>\n",
       "    </tr>\n",
       "    <tr>\n",
       "      <th>32</th>\n",
       "      <td>Others</td>\n",
       "      <td>ONE</td>\n",
       "      <td>2024-03-08 00:00:00</td>\n",
       "      <td>Present</td>\n",
       "      <td>10</td>\n",
       "    </tr>\n",
       "    <tr>\n",
       "      <th>33</th>\n",
       "      <td>Sunday Service</td>\n",
       "      <td>Bouquet</td>\n",
       "      <td>2024-02-18 00:00:00</td>\n",
       "      <td>Present</td>\n",
       "      <td>12</td>\n",
       "    </tr>\n",
       "    <tr>\n",
       "      <th>34</th>\n",
       "      <td>Sunday Service</td>\n",
       "      <td>Bouquet</td>\n",
       "      <td>2024-02-25 00:00:00</td>\n",
       "      <td>Present</td>\n",
       "      <td>8</td>\n",
       "    </tr>\n",
       "    <tr>\n",
       "      <th>35</th>\n",
       "      <td>Sunday Service</td>\n",
       "      <td>Bouquet</td>\n",
       "      <td>2024-03-17 00:00:00</td>\n",
       "      <td>Absent Valid</td>\n",
       "      <td>1</td>\n",
       "    </tr>\n",
       "    <tr>\n",
       "      <th>36</th>\n",
       "      <td>Sunday Service</td>\n",
       "      <td>Bouquet</td>\n",
       "      <td>2024-03-17 00:00:00</td>\n",
       "      <td>Present</td>\n",
       "      <td>9</td>\n",
       "    </tr>\n",
       "    <tr>\n",
       "      <th>37</th>\n",
       "      <td>Sunday Service</td>\n",
       "      <td>Bouquet</td>\n",
       "      <td>2024-03-24 00:00:00</td>\n",
       "      <td>Absent Valid</td>\n",
       "      <td>4</td>\n",
       "    </tr>\n",
       "    <tr>\n",
       "      <th>38</th>\n",
       "      <td>Sunday Service</td>\n",
       "      <td>Bouquet</td>\n",
       "      <td>2024-03-24 00:00:00</td>\n",
       "      <td>Present</td>\n",
       "      <td>9</td>\n",
       "    </tr>\n",
       "    <tr>\n",
       "      <th>39</th>\n",
       "      <td>Sunday Service</td>\n",
       "      <td>Bouquet</td>\n",
       "      <td>2024-03-31 00:00:00</td>\n",
       "      <td>Absent Valid</td>\n",
       "      <td>1</td>\n",
       "    </tr>\n",
       "    <tr>\n",
       "      <th>40</th>\n",
       "      <td>Sunday Service</td>\n",
       "      <td>Bouquet</td>\n",
       "      <td>2024-03-31 00:00:00</td>\n",
       "      <td>Present</td>\n",
       "      <td>16</td>\n",
       "    </tr>\n",
       "    <tr>\n",
       "      <th>41</th>\n",
       "      <td>Sunday Service</td>\n",
       "      <td>Gilead</td>\n",
       "      <td>2024-03-17 00:00:00</td>\n",
       "      <td>Absent Valid</td>\n",
       "      <td>3</td>\n",
       "    </tr>\n",
       "    <tr>\n",
       "      <th>42</th>\n",
       "      <td>Sunday Service</td>\n",
       "      <td>Gilead</td>\n",
       "      <td>2024-03-17 00:00:00</td>\n",
       "      <td>Present</td>\n",
       "      <td>4</td>\n",
       "    </tr>\n",
       "    <tr>\n",
       "      <th>43</th>\n",
       "      <td>Sunday Service</td>\n",
       "      <td>Kadesh</td>\n",
       "      <td>2024-02-18 00:00:00</td>\n",
       "      <td>Present</td>\n",
       "      <td>2</td>\n",
       "    </tr>\n",
       "    <tr>\n",
       "      <th>44</th>\n",
       "      <td>Sunday Service</td>\n",
       "      <td>Kadesh</td>\n",
       "      <td>2024-02-25 00:00:00</td>\n",
       "      <td>Absent Valid</td>\n",
       "      <td>4</td>\n",
       "    </tr>\n",
       "    <tr>\n",
       "      <th>45</th>\n",
       "      <td>Sunday Service</td>\n",
       "      <td>Kadesh</td>\n",
       "      <td>2024-02-25 00:00:00</td>\n",
       "      <td>Present</td>\n",
       "      <td>5</td>\n",
       "    </tr>\n",
       "    <tr>\n",
       "      <th>46</th>\n",
       "      <td>Sunday Service</td>\n",
       "      <td>Kadesh</td>\n",
       "      <td>2024-03-17 00:00:00</td>\n",
       "      <td>Absent Valid</td>\n",
       "      <td>5</td>\n",
       "    </tr>\n",
       "    <tr>\n",
       "      <th>47</th>\n",
       "      <td>Sunday Service</td>\n",
       "      <td>Kadesh</td>\n",
       "      <td>2024-03-17 00:00:00</td>\n",
       "      <td>Present</td>\n",
       "      <td>5</td>\n",
       "    </tr>\n",
       "    <tr>\n",
       "      <th>48</th>\n",
       "      <td>Sunday Service</td>\n",
       "      <td>Kadesh</td>\n",
       "      <td>2024-03-24 00:00:00</td>\n",
       "      <td>Absent Valid</td>\n",
       "      <td>4</td>\n",
       "    </tr>\n",
       "    <tr>\n",
       "      <th>49</th>\n",
       "      <td>Sunday Service</td>\n",
       "      <td>Kadesh</td>\n",
       "      <td>2024-03-24 00:00:00</td>\n",
       "      <td>Present</td>\n",
       "      <td>7</td>\n",
       "    </tr>\n",
       "    <tr>\n",
       "      <th>50</th>\n",
       "      <td>Sunday Service</td>\n",
       "      <td>Kadesh</td>\n",
       "      <td>2024-03-31 00:00:00</td>\n",
       "      <td>Absent Valid</td>\n",
       "      <td>2</td>\n",
       "    </tr>\n",
       "    <tr>\n",
       "      <th>51</th>\n",
       "      <td>Sunday Service</td>\n",
       "      <td>Kadesh</td>\n",
       "      <td>2024-03-31 00:00:00</td>\n",
       "      <td>Present</td>\n",
       "      <td>7</td>\n",
       "    </tr>\n",
       "    <tr>\n",
       "      <th>52</th>\n",
       "      <td>Sunday Service</td>\n",
       "      <td>ONE</td>\n",
       "      <td>2024-02-18 00:00:00</td>\n",
       "      <td>Present</td>\n",
       "      <td>7</td>\n",
       "    </tr>\n",
       "    <tr>\n",
       "      <th>53</th>\n",
       "      <td>Sunday Service</td>\n",
       "      <td>ONE</td>\n",
       "      <td>2024-02-25 00:00:00</td>\n",
       "      <td>Absent Valid</td>\n",
       "      <td>2</td>\n",
       "    </tr>\n",
       "    <tr>\n",
       "      <th>54</th>\n",
       "      <td>Sunday Service</td>\n",
       "      <td>ONE</td>\n",
       "      <td>2024-02-25 00:00:00</td>\n",
       "      <td>Present</td>\n",
       "      <td>8</td>\n",
       "    </tr>\n",
       "    <tr>\n",
       "      <th>55</th>\n",
       "      <td>Sunday Service</td>\n",
       "      <td>ONE</td>\n",
       "      <td>2024-03-03 00:00:00</td>\n",
       "      <td>Present</td>\n",
       "      <td>10</td>\n",
       "    </tr>\n",
       "    <tr>\n",
       "      <th>56</th>\n",
       "      <td>Sunday Service</td>\n",
       "      <td>ONE</td>\n",
       "      <td>2024-03-17 00:00:00</td>\n",
       "      <td>Present</td>\n",
       "      <td>8</td>\n",
       "    </tr>\n",
       "  </tbody>\n",
       "</table>\n",
       "</div>"
      ],
      "text/plain": [
       "        event_type cell_group        date_attended attendance_type  name\n",
       "0       Cell Group    Bouquet  2024-02-16 00:00:00    Absent Valid     3\n",
       "1       Cell Group    Bouquet  2024-02-16 00:00:00         Present     8\n",
       "2       Cell Group    Bouquet  2024-03-01 00:00:00         Present     9\n",
       "3       Cell Group    Bouquet  2024-03-15 00:00:00    Absent Valid     4\n",
       "4       Cell Group    Bouquet  2024-03-15 00:00:00         Present    10\n",
       "5       Cell Group    Bouquet  2024-03-22 00:00:00    Absent Valid     5\n",
       "6       Cell Group    Bouquet  2024-03-22 00:00:00         Present     8\n",
       "7       Cell Group     Gilead  2024-02-18 00:00:00    Absent Valid     1\n",
       "8       Cell Group     Gilead  2024-02-18 00:00:00         Present     6\n",
       "9       Cell Group     Gilead  2024-02-25 00:00:00         Present     7\n",
       "10      Cell Group     Gilead  2024-03-24 00:00:00         Present     5\n",
       "11      Cell Group     Gilead  2024-03-31 00:00:00         Present     7\n",
       "12      Cell Group     Kadesh  2024-02-10 00:00:00         Present     3\n",
       "13      Cell Group     Kadesh  2024-02-16 00:00:00    Absent Valid     6\n",
       "14      Cell Group     Kadesh  2024-02-16 00:00:00         Present     4\n",
       "15      Cell Group     Kadesh  2024-03-01 00:00:00    Absent Valid     4\n",
       "16      Cell Group     Kadesh  2024-03-01 00:00:00         Present     6\n",
       "17      Cell Group     Kadesh  2024-03-31 00:00:00         Present     1\n",
       "18      Cell Group        ONE  2024-02-16 00:00:00    Absent Valid     7\n",
       "19      Cell Group        ONE  2024-02-16 00:00:00         Present    10\n",
       "20      Cell Group        ONE  2024-03-01 00:00:00    Absent Valid     2\n",
       "21      Cell Group        ONE  2024-03-01 00:00:00         Present    12\n",
       "22      Cell Group        ONE  2024-03-15 00:00:00    Absent Valid     4\n",
       "23      Cell Group        ONE  2024-03-15 00:00:00         Present     9\n",
       "24      Cell Group        ONE  2024-03-22 00:00:00    Absent Valid     2\n",
       "25      Cell Group        ONE  2024-03-22 00:00:00         Present     9\n",
       "26          Others    Bouquet  2024-02-23 00:00:00         Present     4\n",
       "27          Others    Bouquet  2024-03-29 00:00:00    Absent Valid     2\n",
       "28          Others    Bouquet  2024-03-29 00:00:00         Present    17\n",
       "29          Others        ONE  2024-02-23 00:00:00    Absent Valid     7\n",
       "30          Others        ONE  2024-02-23 00:00:00         Present     7\n",
       "31          Others        ONE  2024-03-08 00:00:00    Absent Valid     2\n",
       "32          Others        ONE  2024-03-08 00:00:00         Present    10\n",
       "33  Sunday Service    Bouquet  2024-02-18 00:00:00         Present    12\n",
       "34  Sunday Service    Bouquet  2024-02-25 00:00:00         Present     8\n",
       "35  Sunday Service    Bouquet  2024-03-17 00:00:00    Absent Valid     1\n",
       "36  Sunday Service    Bouquet  2024-03-17 00:00:00         Present     9\n",
       "37  Sunday Service    Bouquet  2024-03-24 00:00:00    Absent Valid     4\n",
       "38  Sunday Service    Bouquet  2024-03-24 00:00:00         Present     9\n",
       "39  Sunday Service    Bouquet  2024-03-31 00:00:00    Absent Valid     1\n",
       "40  Sunday Service    Bouquet  2024-03-31 00:00:00         Present    16\n",
       "41  Sunday Service     Gilead  2024-03-17 00:00:00    Absent Valid     3\n",
       "42  Sunday Service     Gilead  2024-03-17 00:00:00         Present     4\n",
       "43  Sunday Service     Kadesh  2024-02-18 00:00:00         Present     2\n",
       "44  Sunday Service     Kadesh  2024-02-25 00:00:00    Absent Valid     4\n",
       "45  Sunday Service     Kadesh  2024-02-25 00:00:00         Present     5\n",
       "46  Sunday Service     Kadesh  2024-03-17 00:00:00    Absent Valid     5\n",
       "47  Sunday Service     Kadesh  2024-03-17 00:00:00         Present     5\n",
       "48  Sunday Service     Kadesh  2024-03-24 00:00:00    Absent Valid     4\n",
       "49  Sunday Service     Kadesh  2024-03-24 00:00:00         Present     7\n",
       "50  Sunday Service     Kadesh  2024-03-31 00:00:00    Absent Valid     2\n",
       "51  Sunday Service     Kadesh  2024-03-31 00:00:00         Present     7\n",
       "52  Sunday Service        ONE  2024-02-18 00:00:00         Present     7\n",
       "53  Sunday Service        ONE  2024-02-25 00:00:00    Absent Valid     2\n",
       "54  Sunday Service        ONE  2024-02-25 00:00:00         Present     8\n",
       "55  Sunday Service        ONE  2024-03-03 00:00:00         Present    10\n",
       "56  Sunday Service        ONE  2024-03-17 00:00:00         Present     8"
      ]
     },
     "execution_count": 59,
     "metadata": {},
     "output_type": "execute_result"
    }
   ],
   "source": [
    "data.groupby(['event_type','cell_group','date_attended','attendance_type']).agg({'name':'nunique'}).reset_index()"
   ]
  },
  {
   "cell_type": "code",
   "execution_count": 60,
   "metadata": {},
   "outputs": [
    {
     "data": {
      "text/html": [
       "<div>\n",
       "<style scoped>\n",
       "    .dataframe tbody tr th:only-of-type {\n",
       "        vertical-align: middle;\n",
       "    }\n",
       "\n",
       "    .dataframe tbody tr th {\n",
       "        vertical-align: top;\n",
       "    }\n",
       "\n",
       "    .dataframe thead th {\n",
       "        text-align: right;\n",
       "    }\n",
       "</style>\n",
       "<table border=\"1\" class=\"dataframe\">\n",
       "  <thead>\n",
       "    <tr style=\"text-align: right;\">\n",
       "      <th></th>\n",
       "      <th>event_type</th>\n",
       "      <th>cell_group</th>\n",
       "      <th>date_attended</th>\n",
       "      <th>name</th>\n",
       "      <th>attendance_type</th>\n",
       "      <th>role</th>\n",
       "    </tr>\n",
       "  </thead>\n",
       "  <tbody>\n",
       "    <tr>\n",
       "      <th>0</th>\n",
       "      <td>Sunday Service</td>\n",
       "      <td>ONE</td>\n",
       "      <td>2024-03-03 00:00:00</td>\n",
       "      <td>Aaron Chiang</td>\n",
       "      <td>Present</td>\n",
       "      <td>Member</td>\n",
       "    </tr>\n",
       "    <tr>\n",
       "      <th>1</th>\n",
       "      <td>Cell Group</td>\n",
       "      <td>ONE</td>\n",
       "      <td>2024-03-15 00:00:00</td>\n",
       "      <td>Aaron Chiang</td>\n",
       "      <td>Absent Valid</td>\n",
       "      <td>Member</td>\n",
       "    </tr>\n",
       "    <tr>\n",
       "      <th>2</th>\n",
       "      <td>Others</td>\n",
       "      <td>ONE</td>\n",
       "      <td>2024-03-08 00:00:00</td>\n",
       "      <td>Aaron Chiang</td>\n",
       "      <td>Present</td>\n",
       "      <td>Member</td>\n",
       "    </tr>\n",
       "    <tr>\n",
       "      <th>3</th>\n",
       "      <td>Sunday Service</td>\n",
       "      <td>ONE</td>\n",
       "      <td>2024-02-25 00:00:00</td>\n",
       "      <td>Aaron Chiang</td>\n",
       "      <td>Present</td>\n",
       "      <td>Member</td>\n",
       "    </tr>\n",
       "    <tr>\n",
       "      <th>4</th>\n",
       "      <td>Others</td>\n",
       "      <td>ONE</td>\n",
       "      <td>2024-02-23 00:00:00</td>\n",
       "      <td>Aaron Chiang</td>\n",
       "      <td>Absent Valid</td>\n",
       "      <td>Member</td>\n",
       "    </tr>\n",
       "    <tr>\n",
       "      <th>...</th>\n",
       "      <td>...</td>\n",
       "      <td>...</td>\n",
       "      <td>...</td>\n",
       "      <td>...</td>\n",
       "      <td>...</td>\n",
       "      <td>...</td>\n",
       "    </tr>\n",
       "    <tr>\n",
       "      <th>340</th>\n",
       "      <td>Cell Group</td>\n",
       "      <td>Bouquet</td>\n",
       "      <td>2024-03-22 00:00:00</td>\n",
       "      <td>Jolize</td>\n",
       "      <td>Present</td>\n",
       "      <td>New Friend</td>\n",
       "    </tr>\n",
       "    <tr>\n",
       "      <th>341</th>\n",
       "      <td>Sunday Service</td>\n",
       "      <td>Kadesh</td>\n",
       "      <td>2024-03-17 00:00:00</td>\n",
       "      <td>Jonah Ng</td>\n",
       "      <td>Present</td>\n",
       "      <td>Member</td>\n",
       "    </tr>\n",
       "    <tr>\n",
       "      <th>342</th>\n",
       "      <td>Cell Group</td>\n",
       "      <td>ONE</td>\n",
       "      <td>2024-02-16 00:00:00</td>\n",
       "      <td>Matthew Wong</td>\n",
       "      <td>Absent Valid</td>\n",
       "      <td>Member</td>\n",
       "    </tr>\n",
       "    <tr>\n",
       "      <th>343</th>\n",
       "      <td>Cell Group</td>\n",
       "      <td>ONE</td>\n",
       "      <td>2024-02-16 00:00:00</td>\n",
       "      <td>Nikita</td>\n",
       "      <td>Absent Valid</td>\n",
       "      <td>Member</td>\n",
       "    </tr>\n",
       "    <tr>\n",
       "      <th>344</th>\n",
       "      <td>Cell Group</td>\n",
       "      <td>ONE</td>\n",
       "      <td>2024-02-16 00:00:00</td>\n",
       "      <td>Samuel Pupella</td>\n",
       "      <td>Present</td>\n",
       "      <td>New Friend</td>\n",
       "    </tr>\n",
       "  </tbody>\n",
       "</table>\n",
       "<p>345 rows × 6 columns</p>\n",
       "</div>"
      ],
      "text/plain": [
       "         event_type cell_group        date_attended            name  \\\n",
       "0    Sunday Service        ONE  2024-03-03 00:00:00    Aaron Chiang   \n",
       "1        Cell Group        ONE  2024-03-15 00:00:00    Aaron Chiang   \n",
       "2            Others        ONE  2024-03-08 00:00:00    Aaron Chiang   \n",
       "3    Sunday Service        ONE  2024-02-25 00:00:00    Aaron Chiang   \n",
       "4            Others        ONE  2024-02-23 00:00:00    Aaron Chiang   \n",
       "..              ...        ...                  ...             ...   \n",
       "340      Cell Group    Bouquet  2024-03-22 00:00:00          Jolize   \n",
       "341  Sunday Service     Kadesh  2024-03-17 00:00:00        Jonah Ng   \n",
       "342      Cell Group        ONE  2024-02-16 00:00:00    Matthew Wong   \n",
       "343      Cell Group        ONE  2024-02-16 00:00:00          Nikita   \n",
       "344      Cell Group        ONE  2024-02-16 00:00:00  Samuel Pupella   \n",
       "\n",
       "    attendance_type        role  \n",
       "0           Present      Member  \n",
       "1      Absent Valid      Member  \n",
       "2           Present      Member  \n",
       "3           Present      Member  \n",
       "4      Absent Valid      Member  \n",
       "..              ...         ...  \n",
       "340         Present  New Friend  \n",
       "341         Present      Member  \n",
       "342    Absent Valid      Member  \n",
       "343    Absent Valid      Member  \n",
       "344         Present  New Friend  \n",
       "\n",
       "[345 rows x 6 columns]"
      ]
     },
     "execution_count": 60,
     "metadata": {},
     "output_type": "execute_result"
    }
   ],
   "source": [
    "df = items.merge(members_df[['cell_group','name','role']], on = ['cell_group','name'])\n",
    "df"
   ]
  },
  {
   "cell_type": "code",
   "execution_count": 78,
   "metadata": {},
   "outputs": [
    {
     "data": {
      "text/html": [
       "<div>\n",
       "<style scoped>\n",
       "    .dataframe tbody tr th:only-of-type {\n",
       "        vertical-align: middle;\n",
       "    }\n",
       "\n",
       "    .dataframe tbody tr th {\n",
       "        vertical-align: top;\n",
       "    }\n",
       "\n",
       "    .dataframe thead th {\n",
       "        text-align: right;\n",
       "    }\n",
       "</style>\n",
       "<table border=\"1\" class=\"dataframe\">\n",
       "  <thead>\n",
       "    <tr style=\"text-align: right;\">\n",
       "      <th></th>\n",
       "      <th>date_attended</th>\n",
       "      <th>event_type</th>\n",
       "      <th>cell_group</th>\n",
       "      <th>role</th>\n",
       "      <th>name</th>\n",
       "      <th>avg_percentage</th>\n",
       "    </tr>\n",
       "  </thead>\n",
       "  <tbody>\n",
       "    <tr>\n",
       "      <th>0</th>\n",
       "      <td>2024-02-16 00:00:00</td>\n",
       "      <td>Cell Group</td>\n",
       "      <td>ONE</td>\n",
       "      <td>8</td>\n",
       "      <td>11</td>\n",
       "      <td>73.0</td>\n",
       "    </tr>\n",
       "    <tr>\n",
       "      <th>1</th>\n",
       "      <td>2024-02-18 00:00:00</td>\n",
       "      <td>Sunday Service</td>\n",
       "      <td>ONE</td>\n",
       "      <td>5</td>\n",
       "      <td>7</td>\n",
       "      <td>71.0</td>\n",
       "    </tr>\n",
       "    <tr>\n",
       "      <th>2</th>\n",
       "      <td>2024-02-23 00:00:00</td>\n",
       "      <td>Others</td>\n",
       "      <td>ONE</td>\n",
       "      <td>3</td>\n",
       "      <td>5</td>\n",
       "      <td>60.0</td>\n",
       "    </tr>\n",
       "    <tr>\n",
       "      <th>3</th>\n",
       "      <td>2024-02-25 00:00:00</td>\n",
       "      <td>Sunday Service</td>\n",
       "      <td>ONE</td>\n",
       "      <td>6</td>\n",
       "      <td>8</td>\n",
       "      <td>75.0</td>\n",
       "    </tr>\n",
       "    <tr>\n",
       "      <th>4</th>\n",
       "      <td>2024-03-01 00:00:00</td>\n",
       "      <td>Cell Group</td>\n",
       "      <td>ONE</td>\n",
       "      <td>9</td>\n",
       "      <td>12</td>\n",
       "      <td>75.0</td>\n",
       "    </tr>\n",
       "    <tr>\n",
       "      <th>5</th>\n",
       "      <td>2024-03-03 00:00:00</td>\n",
       "      <td>Sunday Service</td>\n",
       "      <td>ONE</td>\n",
       "      <td>7</td>\n",
       "      <td>9</td>\n",
       "      <td>78.0</td>\n",
       "    </tr>\n",
       "    <tr>\n",
       "      <th>6</th>\n",
       "      <td>2024-03-08 00:00:00</td>\n",
       "      <td>Others</td>\n",
       "      <td>ONE</td>\n",
       "      <td>7</td>\n",
       "      <td>9</td>\n",
       "      <td>78.0</td>\n",
       "    </tr>\n",
       "    <tr>\n",
       "      <th>7</th>\n",
       "      <td>2024-03-15 00:00:00</td>\n",
       "      <td>Cell Group</td>\n",
       "      <td>ONE</td>\n",
       "      <td>7</td>\n",
       "      <td>9</td>\n",
       "      <td>78.0</td>\n",
       "    </tr>\n",
       "    <tr>\n",
       "      <th>8</th>\n",
       "      <td>2024-03-17 00:00:00</td>\n",
       "      <td>Sunday Service</td>\n",
       "      <td>ONE</td>\n",
       "      <td>6</td>\n",
       "      <td>8</td>\n",
       "      <td>75.0</td>\n",
       "    </tr>\n",
       "    <tr>\n",
       "      <th>9</th>\n",
       "      <td>2024-03-22 00:00:00</td>\n",
       "      <td>Cell Group</td>\n",
       "      <td>ONE</td>\n",
       "      <td>7</td>\n",
       "      <td>10</td>\n",
       "      <td>70.0</td>\n",
       "    </tr>\n",
       "  </tbody>\n",
       "</table>\n",
       "</div>"
      ],
      "text/plain": [
       "         date_attended      event_type cell_group  role  name  avg_percentage\n",
       "0  2024-02-16 00:00:00      Cell Group        ONE     8    11            73.0\n",
       "1  2024-02-18 00:00:00  Sunday Service        ONE     5     7            71.0\n",
       "2  2024-02-23 00:00:00          Others        ONE     3     5            60.0\n",
       "3  2024-02-25 00:00:00  Sunday Service        ONE     6     8            75.0\n",
       "4  2024-03-01 00:00:00      Cell Group        ONE     9    12            75.0\n",
       "5  2024-03-03 00:00:00  Sunday Service        ONE     7     9            78.0\n",
       "6  2024-03-08 00:00:00          Others        ONE     7     9            78.0\n",
       "7  2024-03-15 00:00:00      Cell Group        ONE     7     9            78.0\n",
       "8  2024-03-17 00:00:00  Sunday Service        ONE     6     8            75.0\n",
       "9  2024-03-22 00:00:00      Cell Group        ONE     7    10            70.0"
      ]
     },
     "execution_count": 78,
     "metadata": {},
     "output_type": "execute_result"
    }
   ],
   "source": [
    "cell_group = 'ONE'\n",
    "event_type = 'ALL'\n",
    "attendance_type = 'Present'\n",
    "\n",
    "if cell_group == 'ALL':\n",
    "    cell_group = df['cell_group'].unique()\n",
    "else:\n",
    "    cell_group = [cell_group]\n",
    "\n",
    "if event_type == 'ALL':\n",
    "    event_type = df['event_type'].unique()\n",
    "else:\n",
    "    event_type = [event_type]\n",
    "\n",
    "if attendance_type == 'ALL':\n",
    "    attendance_type = df['attendance_type'].unique()\n",
    "else:\n",
    "    attendance_type = [attendance_type]\n",
    "\n",
    "filtered_df = df[\n",
    "    (df['cell_group'].isin(list(cell_group)))&\n",
    "    (df['event_type'].isin(list(event_type)))&\n",
    "    (df['attendance_type'].isin(list(attendance_type)))\n",
    "]\n",
    "\n",
    "temp = filtered_df.groupby(['date_attended','event_type','cell_group']).agg({'role':lambda x: (x == 'Member').sum(),\n",
    "                                         'name':'count'}).reset_index()\n",
    "temp['avg_percentage'] = round(temp['role']/temp['name']*100.0,0)\n",
    "temp"
   ]
  },
  {
   "cell_type": "code",
   "execution_count": 21,
   "metadata": {},
   "outputs": [
    {
     "data": {
      "text/html": [
       "<div>\n",
       "<style scoped>\n",
       "    .dataframe tbody tr th:only-of-type {\n",
       "        vertical-align: middle;\n",
       "    }\n",
       "\n",
       "    .dataframe tbody tr th {\n",
       "        vertical-align: top;\n",
       "    }\n",
       "\n",
       "    .dataframe thead th {\n",
       "        text-align: right;\n",
       "    }\n",
       "</style>\n",
       "<table border=\"1\" class=\"dataframe\">\n",
       "  <thead>\n",
       "    <tr style=\"text-align: right;\">\n",
       "      <th></th>\n",
       "      <th>date_attended</th>\n",
       "      <th>event_type</th>\n",
       "      <th>cell_group</th>\n",
       "      <th>role</th>\n",
       "    </tr>\n",
       "  </thead>\n",
       "  <tbody>\n",
       "    <tr>\n",
       "      <th>0</th>\n",
       "      <td>2024-02-16 00:00:00</td>\n",
       "      <td>Cell Group</td>\n",
       "      <td>Bouquet</td>\n",
       "      <td>6</td>\n",
       "    </tr>\n",
       "    <tr>\n",
       "      <th>1</th>\n",
       "      <td>2024-02-18 00:00:00</td>\n",
       "      <td>Sunday Service</td>\n",
       "      <td>Bouquet</td>\n",
       "      <td>10</td>\n",
       "    </tr>\n",
       "    <tr>\n",
       "      <th>2</th>\n",
       "      <td>2024-02-23 00:00:00</td>\n",
       "      <td>Others</td>\n",
       "      <td>Bouquet</td>\n",
       "      <td>3</td>\n",
       "    </tr>\n",
       "    <tr>\n",
       "      <th>3</th>\n",
       "      <td>2024-02-25 00:00:00</td>\n",
       "      <td>Sunday Service</td>\n",
       "      <td>Bouquet</td>\n",
       "      <td>5</td>\n",
       "    </tr>\n",
       "    <tr>\n",
       "      <th>4</th>\n",
       "      <td>2024-03-01 00:00:00</td>\n",
       "      <td>Cell Group</td>\n",
       "      <td>Bouquet</td>\n",
       "      <td>6</td>\n",
       "    </tr>\n",
       "    <tr>\n",
       "      <th>5</th>\n",
       "      <td>2024-03-15 00:00:00</td>\n",
       "      <td>Cell Group</td>\n",
       "      <td>Bouquet</td>\n",
       "      <td>7</td>\n",
       "    </tr>\n",
       "    <tr>\n",
       "      <th>6</th>\n",
       "      <td>2024-03-17 00:00:00</td>\n",
       "      <td>Sunday Service</td>\n",
       "      <td>Bouquet</td>\n",
       "      <td>6</td>\n",
       "    </tr>\n",
       "    <tr>\n",
       "      <th>7</th>\n",
       "      <td>2024-03-22 00:00:00</td>\n",
       "      <td>Cell Group</td>\n",
       "      <td>Bouquet</td>\n",
       "      <td>5</td>\n",
       "    </tr>\n",
       "    <tr>\n",
       "      <th>8</th>\n",
       "      <td>2024-03-24 00:00:00</td>\n",
       "      <td>Sunday Service</td>\n",
       "      <td>Bouquet</td>\n",
       "      <td>6</td>\n",
       "    </tr>\n",
       "    <tr>\n",
       "      <th>9</th>\n",
       "      <td>2024-03-29 00:00:00</td>\n",
       "      <td>Others</td>\n",
       "      <td>Bouquet</td>\n",
       "      <td>10</td>\n",
       "    </tr>\n",
       "    <tr>\n",
       "      <th>10</th>\n",
       "      <td>2024-03-31 00:00:00</td>\n",
       "      <td>Sunday Service</td>\n",
       "      <td>Bouquet</td>\n",
       "      <td>11</td>\n",
       "    </tr>\n",
       "    <tr>\n",
       "      <th>11</th>\n",
       "      <td>2024-04-05 00:00:00</td>\n",
       "      <td>Cell Group</td>\n",
       "      <td>Bouquet</td>\n",
       "      <td>4</td>\n",
       "    </tr>\n",
       "  </tbody>\n",
       "</table>\n",
       "</div>"
      ],
      "text/plain": [
       "          date_attended      event_type cell_group  role\n",
       "0   2024-02-16 00:00:00      Cell Group    Bouquet     6\n",
       "1   2024-02-18 00:00:00  Sunday Service    Bouquet    10\n",
       "2   2024-02-23 00:00:00          Others    Bouquet     3\n",
       "3   2024-02-25 00:00:00  Sunday Service    Bouquet     5\n",
       "4   2024-03-01 00:00:00      Cell Group    Bouquet     6\n",
       "5   2024-03-15 00:00:00      Cell Group    Bouquet     7\n",
       "6   2024-03-17 00:00:00  Sunday Service    Bouquet     6\n",
       "7   2024-03-22 00:00:00      Cell Group    Bouquet     5\n",
       "8   2024-03-24 00:00:00  Sunday Service    Bouquet     6\n",
       "9   2024-03-29 00:00:00          Others    Bouquet    10\n",
       "10  2024-03-31 00:00:00  Sunday Service    Bouquet    11\n",
       "11  2024-04-05 00:00:00      Cell Group    Bouquet     4"
      ]
     },
     "execution_count": 21,
     "metadata": {},
     "output_type": "execute_result"
    }
   ],
   "source": [
    "temp = filtered_df.groupby(['date_attended','event_type','cell_group']).agg({'role':lambda x: (x == 'Member').sum()}).reset_index()\n",
    "temp"
   ]
  },
  {
   "cell_type": "code",
   "execution_count": 23,
   "metadata": {},
   "outputs": [
    {
     "data": {
      "text/html": [
       "<div>\n",
       "<style scoped>\n",
       "    .dataframe tbody tr th:only-of-type {\n",
       "        vertical-align: middle;\n",
       "    }\n",
       "\n",
       "    .dataframe tbody tr th {\n",
       "        vertical-align: top;\n",
       "    }\n",
       "\n",
       "    .dataframe thead th {\n",
       "        text-align: right;\n",
       "    }\n",
       "</style>\n",
       "<table border=\"1\" class=\"dataframe\">\n",
       "  <thead>\n",
       "    <tr style=\"text-align: right;\">\n",
       "      <th></th>\n",
       "      <th>name</th>\n",
       "    </tr>\n",
       "    <tr>\n",
       "      <th>cell_group</th>\n",
       "      <th></th>\n",
       "    </tr>\n",
       "  </thead>\n",
       "  <tbody>\n",
       "    <tr>\n",
       "      <th>Bouquet</th>\n",
       "      <td>79</td>\n",
       "    </tr>\n",
       "  </tbody>\n",
       "</table>\n",
       "</div>"
      ],
      "text/plain": [
       "            name\n",
       "cell_group      \n",
       "Bouquet       79"
      ]
     },
     "execution_count": 23,
     "metadata": {},
     "output_type": "execute_result"
    }
   ],
   "source": [
    "filtered_df.groupby(['cell_group']).agg({'name':list,\n",
    "                                         'name':'count'})"
   ]
  },
  {
   "cell_type": "code",
   "execution_count": 91,
   "metadata": {},
   "outputs": [
    {
     "data": {
      "text/html": [
       "<div>\n",
       "<style scoped>\n",
       "    .dataframe tbody tr th:only-of-type {\n",
       "        vertical-align: middle;\n",
       "    }\n",
       "\n",
       "    .dataframe tbody tr th {\n",
       "        vertical-align: top;\n",
       "    }\n",
       "\n",
       "    .dataframe thead th {\n",
       "        text-align: right;\n",
       "    }\n",
       "</style>\n",
       "<table border=\"1\" class=\"dataframe\">\n",
       "  <thead>\n",
       "    <tr style=\"text-align: right;\">\n",
       "      <th></th>\n",
       "      <th>role</th>\n",
       "    </tr>\n",
       "    <tr>\n",
       "      <th>cell_group</th>\n",
       "      <th></th>\n",
       "    </tr>\n",
       "  </thead>\n",
       "  <tbody>\n",
       "    <tr>\n",
       "      <th>Bouquet</th>\n",
       "      <td>16</td>\n",
       "    </tr>\n",
       "    <tr>\n",
       "      <th>Gilead</th>\n",
       "      <td>4</td>\n",
       "    </tr>\n",
       "    <tr>\n",
       "      <th>Kadesh</th>\n",
       "      <td>10</td>\n",
       "    </tr>\n",
       "    <tr>\n",
       "      <th>ONE</th>\n",
       "      <td>18</td>\n",
       "    </tr>\n",
       "  </tbody>\n",
       "</table>\n",
       "</div>"
      ],
      "text/plain": [
       "            role\n",
       "cell_group      \n",
       "Bouquet       16\n",
       "Gilead         4\n",
       "Kadesh        10\n",
       "ONE           18"
      ]
     },
     "execution_count": 91,
     "metadata": {},
     "output_type": "execute_result"
    }
   ],
   "source": [
    "members_df.groupby(['cell_group']).agg({'role':lambda x: (x == 'Member').sum()})"
   ]
  },
  {
   "cell_type": "code",
   "execution_count": 92,
   "metadata": {},
   "outputs": [
    {
     "data": {
      "text/html": [
       "<div>\n",
       "<style scoped>\n",
       "    .dataframe tbody tr th:only-of-type {\n",
       "        vertical-align: middle;\n",
       "    }\n",
       "\n",
       "    .dataframe tbody tr th {\n",
       "        vertical-align: top;\n",
       "    }\n",
       "\n",
       "    .dataframe thead th {\n",
       "        text-align: right;\n",
       "    }\n",
       "</style>\n",
       "<table border=\"1\" class=\"dataframe\">\n",
       "  <thead>\n",
       "    <tr style=\"text-align: right;\">\n",
       "      <th></th>\n",
       "      <th>role</th>\n",
       "    </tr>\n",
       "    <tr>\n",
       "      <th>cell_group</th>\n",
       "      <th></th>\n",
       "    </tr>\n",
       "  </thead>\n",
       "  <tbody>\n",
       "    <tr>\n",
       "      <th>Bouquet</th>\n",
       "      <td>3</td>\n",
       "    </tr>\n",
       "    <tr>\n",
       "      <th>Gilead</th>\n",
       "      <td>3</td>\n",
       "    </tr>\n",
       "    <tr>\n",
       "      <th>Kadesh</th>\n",
       "      <td>3</td>\n",
       "    </tr>\n",
       "    <tr>\n",
       "      <th>ONE</th>\n",
       "      <td>3</td>\n",
       "    </tr>\n",
       "  </tbody>\n",
       "</table>\n",
       "</div>"
      ],
      "text/plain": [
       "            role\n",
       "cell_group      \n",
       "Bouquet        3\n",
       "Gilead         3\n",
       "Kadesh         3\n",
       "ONE            3"
      ]
     },
     "execution_count": 92,
     "metadata": {},
     "output_type": "execute_result"
    }
   ],
   "source": [
    "members_df.groupby(['cell_group']).agg({'role':lambda x: (x == 'Leader').sum()})"
   ]
  },
  {
   "cell_type": "code",
   "execution_count": 94,
   "metadata": {},
   "outputs": [
    {
     "data": {
      "text/html": [
       "<div>\n",
       "<style scoped>\n",
       "    .dataframe tbody tr th:only-of-type {\n",
       "        vertical-align: middle;\n",
       "    }\n",
       "\n",
       "    .dataframe tbody tr th {\n",
       "        vertical-align: top;\n",
       "    }\n",
       "\n",
       "    .dataframe thead th {\n",
       "        text-align: right;\n",
       "    }\n",
       "</style>\n",
       "<table border=\"1\" class=\"dataframe\">\n",
       "  <thead>\n",
       "    <tr style=\"text-align: right;\">\n",
       "      <th></th>\n",
       "      <th>role</th>\n",
       "    </tr>\n",
       "    <tr>\n",
       "      <th>cell_group</th>\n",
       "      <th></th>\n",
       "    </tr>\n",
       "  </thead>\n",
       "  <tbody>\n",
       "    <tr>\n",
       "      <th>Bouquet</th>\n",
       "      <td>7</td>\n",
       "    </tr>\n",
       "    <tr>\n",
       "      <th>Gilead</th>\n",
       "      <td>0</td>\n",
       "    </tr>\n",
       "    <tr>\n",
       "      <th>Kadesh</th>\n",
       "      <td>0</td>\n",
       "    </tr>\n",
       "    <tr>\n",
       "      <th>ONE</th>\n",
       "      <td>1</td>\n",
       "    </tr>\n",
       "  </tbody>\n",
       "</table>\n",
       "</div>"
      ],
      "text/plain": [
       "            role\n",
       "cell_group      \n",
       "Bouquet        7\n",
       "Gilead         0\n",
       "Kadesh         0\n",
       "ONE            1"
      ]
     },
     "execution_count": 94,
     "metadata": {},
     "output_type": "execute_result"
    }
   ],
   "source": [
    "members_df.groupby(['cell_group']).agg({'role':lambda x: (x == 'New Friend').sum()})"
   ]
  },
  {
   "cell_type": "code",
   "execution_count": 93,
   "metadata": {},
   "outputs": [
    {
     "data": {
      "text/html": [
       "<div>\n",
       "<style scoped>\n",
       "    .dataframe tbody tr th:only-of-type {\n",
       "        vertical-align: middle;\n",
       "    }\n",
       "\n",
       "    .dataframe tbody tr th {\n",
       "        vertical-align: top;\n",
       "    }\n",
       "\n",
       "    .dataframe thead th {\n",
       "        text-align: right;\n",
       "    }\n",
       "</style>\n",
       "<table border=\"1\" class=\"dataframe\">\n",
       "  <thead>\n",
       "    <tr style=\"text-align: right;\">\n",
       "      <th></th>\n",
       "      <th>role</th>\n",
       "    </tr>\n",
       "    <tr>\n",
       "      <th>cell_group</th>\n",
       "      <th></th>\n",
       "    </tr>\n",
       "  </thead>\n",
       "  <tbody>\n",
       "    <tr>\n",
       "      <th>Bouquet</th>\n",
       "      <td>26</td>\n",
       "    </tr>\n",
       "    <tr>\n",
       "      <th>Gilead</th>\n",
       "      <td>7</td>\n",
       "    </tr>\n",
       "    <tr>\n",
       "      <th>Kadesh</th>\n",
       "      <td>13</td>\n",
       "    </tr>\n",
       "    <tr>\n",
       "      <th>ONE</th>\n",
       "      <td>22</td>\n",
       "    </tr>\n",
       "  </tbody>\n",
       "</table>\n",
       "</div>"
      ],
      "text/plain": [
       "            role\n",
       "cell_group      \n",
       "Bouquet       26\n",
       "Gilead         7\n",
       "Kadesh        13\n",
       "ONE           22"
      ]
     },
     "execution_count": 93,
     "metadata": {},
     "output_type": "execute_result"
    }
   ],
   "source": [
    "members_df.groupby(['cell_group']).agg({'role':'count'})"
   ]
  },
  {
   "cell_type": "code",
   "execution_count": 89,
   "metadata": {},
   "outputs": [
    {
     "data": {
      "text/html": [
       "<div>\n",
       "<style scoped>\n",
       "    .dataframe tbody tr th:only-of-type {\n",
       "        vertical-align: middle;\n",
       "    }\n",
       "\n",
       "    .dataframe tbody tr th {\n",
       "        vertical-align: top;\n",
       "    }\n",
       "\n",
       "    .dataframe thead th {\n",
       "        text-align: right;\n",
       "    }\n",
       "</style>\n",
       "<table border=\"1\" class=\"dataframe\">\n",
       "  <thead>\n",
       "    <tr style=\"text-align: right;\">\n",
       "      <th></th>\n",
       "      <th>birth_date</th>\n",
       "      <th>cell_group</th>\n",
       "      <th>role</th>\n",
       "      <th>name</th>\n",
       "      <th>telegram_id</th>\n",
       "    </tr>\n",
       "  </thead>\n",
       "  <tbody>\n",
       "    <tr>\n",
       "      <th>0</th>\n",
       "      <td>01-01-2000</td>\n",
       "      <td>Bouquet</td>\n",
       "      <td>Member</td>\n",
       "      <td>Andrew Chen</td>\n",
       "      <td>None</td>\n",
       "    </tr>\n",
       "    <tr>\n",
       "      <th>1</th>\n",
       "      <td>01-01-2000</td>\n",
       "      <td>Gilead</td>\n",
       "      <td>Leader</td>\n",
       "      <td>Matthias Chan</td>\n",
       "      <td>None</td>\n",
       "    </tr>\n",
       "    <tr>\n",
       "      <th>2</th>\n",
       "      <td>01-01-2000</td>\n",
       "      <td>ONE</td>\n",
       "      <td>Member</td>\n",
       "      <td>Jonathan Teo</td>\n",
       "      <td>None</td>\n",
       "    </tr>\n",
       "    <tr>\n",
       "      <th>3</th>\n",
       "      <td>01-01-2000</td>\n",
       "      <td>Bouquet</td>\n",
       "      <td>New Friend</td>\n",
       "      <td>Shin Ying (Chloe’s friend)</td>\n",
       "      <td>None</td>\n",
       "    </tr>\n",
       "    <tr>\n",
       "      <th>4</th>\n",
       "      <td>01-01-2000</td>\n",
       "      <td>ONE</td>\n",
       "      <td>Member</td>\n",
       "      <td>Bryan Yau</td>\n",
       "      <td>None</td>\n",
       "    </tr>\n",
       "    <tr>\n",
       "      <th>...</th>\n",
       "      <td>...</td>\n",
       "      <td>...</td>\n",
       "      <td>...</td>\n",
       "      <td>...</td>\n",
       "      <td>...</td>\n",
       "    </tr>\n",
       "    <tr>\n",
       "      <th>63</th>\n",
       "      <td>01-01-2000</td>\n",
       "      <td>Bouquet</td>\n",
       "      <td>New Friend</td>\n",
       "      <td>Wen Jin (Chloe’s friend)</td>\n",
       "      <td>None</td>\n",
       "    </tr>\n",
       "    <tr>\n",
       "      <th>64</th>\n",
       "      <td>01-01-2000</td>\n",
       "      <td>Bouquet</td>\n",
       "      <td>Member</td>\n",
       "      <td>Jie Wei</td>\n",
       "      <td>None</td>\n",
       "    </tr>\n",
       "    <tr>\n",
       "      <th>65</th>\n",
       "      <td>01-01-2000</td>\n",
       "      <td>ONE</td>\n",
       "      <td>Member</td>\n",
       "      <td>Nikita</td>\n",
       "      <td>None</td>\n",
       "    </tr>\n",
       "    <tr>\n",
       "      <th>66</th>\n",
       "      <td>01-01-2000</td>\n",
       "      <td>Bouquet</td>\n",
       "      <td>New Friend</td>\n",
       "      <td>Seth (Chloe’s friend)</td>\n",
       "      <td>None</td>\n",
       "    </tr>\n",
       "    <tr>\n",
       "      <th>67</th>\n",
       "      <td>01-01-2000</td>\n",
       "      <td>Gilead</td>\n",
       "      <td>Leader</td>\n",
       "      <td>Mark Chua</td>\n",
       "      <td>None</td>\n",
       "    </tr>\n",
       "  </tbody>\n",
       "</table>\n",
       "<p>68 rows × 5 columns</p>\n",
       "</div>"
      ],
      "text/plain": [
       "    birth_date cell_group        role                        name telegram_id\n",
       "0   01-01-2000    Bouquet      Member                 Andrew Chen        None\n",
       "1   01-01-2000     Gilead      Leader               Matthias Chan        None\n",
       "2   01-01-2000        ONE      Member                Jonathan Teo        None\n",
       "3   01-01-2000    Bouquet  New Friend  Shin Ying (Chloe’s friend)        None\n",
       "4   01-01-2000        ONE      Member                   Bryan Yau        None\n",
       "..         ...        ...         ...                         ...         ...\n",
       "63  01-01-2000    Bouquet  New Friend    Wen Jin (Chloe’s friend)        None\n",
       "64  01-01-2000    Bouquet      Member                     Jie Wei        None\n",
       "65  01-01-2000        ONE      Member                      Nikita        None\n",
       "66  01-01-2000    Bouquet  New Friend       Seth (Chloe’s friend)        None\n",
       "67  01-01-2000     Gilead      Leader                   Mark Chua        None\n",
       "\n",
       "[68 rows x 5 columns]"
      ]
     },
     "execution_count": 89,
     "metadata": {},
     "output_type": "execute_result"
    }
   ],
   "source": [
    "members_df"
   ]
  },
  {
   "cell_type": "code",
   "execution_count": null,
   "metadata": {},
   "outputs": [],
   "source": []
  },
  {
   "cell_type": "code",
   "execution_count": null,
   "metadata": {},
   "outputs": [],
   "source": []
  },
  {
   "cell_type": "code",
   "execution_count": null,
   "metadata": {},
   "outputs": [],
   "source": []
  },
  {
   "cell_type": "code",
   "execution_count": null,
   "metadata": {},
   "outputs": [],
   "source": []
  },
  {
   "cell_type": "markdown",
   "metadata": {},
   "source": [
    "import boto3\n",
    "import pandas as pd\n",
    "import numpy as np\n",
    "import creds\n",
    "from dash import Dash, dcc, html, Input, Output\n",
    "import plotly.express as px\n",
    "\n",
    "\n",
    "db_client = boto3.resource('dynamodb',aws_access_key_id=creds.AWS_ACCESS_KEY,aws_secret_access_key=creds.AWS_SECRET_ACCESS_KEY)\n",
    "table = db_client.Table('attendance')\n",
    "response = table.scan()\n",
    "items = response['Items']\n",
    "data = pd.DataFrame(items)\n",
    "\n",
    "df = data.groupby(['event_type','cell_group','date_attended','attendance_type']).agg({'name':'nunique'}).reset_index()\n",
    "\n",
    "colors = {\n",
    "    'background': '#DEDEDE',\n",
    "    'text': '#111111'\n",
    "}\n",
    "\n",
    "app = Dash(__name__)\n",
    "\n",
    "app.layout = html.Div(style={'backgroundColor': colors['background']}, children = [\n",
    "    html.H4('POD Youth Ministry Attendance Dashboard'),\n",
    "\n",
    "    html.Div([\n",
    "\n",
    "        html.Div([\n",
    "            html.P('Select cell group:'),\n",
    "            dcc.Dropdown(\n",
    "                id = 'select_cell_group',\n",
    "                options = ['ALL'] + list(df['cell_group'].unique()),\n",
    "                value = 'ALL',\n",
    "                clearable=False\n",
    "            )\n",
    "        ], style={'width': '48%', 'display': 'inline-block'}),\n",
    "\n",
    "        html.Div([\n",
    "            html.P('Select event type:'),\n",
    "            dcc.Dropdown(\n",
    "                id = 'select_event_type',\n",
    "                options = ['ALL'] + list(df['event_type'].unique()),\n",
    "                value = 'ALL',\n",
    "                clearable=False\n",
    "            )\n",
    "        ], style={'width': '48%', 'float': 'right', 'display': 'inline-block'})\n",
    "\n",
    "    ]),\n",
    "\n",
    "    html.Div([\n",
    "\n",
    "        html.Div([\n",
    "            html.P('Select attendance type:'),\n",
    "            dcc.Dropdown(\n",
    "                id = 'select_attendance_type',\n",
    "                options = ['ALL'] + list(df['attendance_type'].unique()),\n",
    "                value = 'ALL',\n",
    "                clearable=False\n",
    "            )\n",
    "        ], style={'width': '48%', 'display': 'inline-block'}),\n",
    "\n",
    "        html.Div([\n",
    "            html.P('Select month:'),\n",
    "            dcc.Dropdown(\n",
    "                id = 'select_month',\n",
    "                options = ['ALL'] + list(df['event_type'].unique()),\n",
    "                value = 'ALL',\n",
    "                clearable=False\n",
    "            )\n",
    "        ], style={'width': '48%', 'float': 'right', 'display': 'inline-block'})\n",
    "        \n",
    "    ]),\n",
    "\n",
    "    dcc.Graph(id = 'barplot1'),\n",
    "])\n",
    "\n",
    "@app.callback(\n",
    "    Output('barplot1','figure'),\n",
    "    Input('select_cell_group', 'value'),\n",
    "    Input('select_event_type', 'value'),\n",
    "    Input('select_attendance_type', 'value'),\n",
    "    Input('select_month', 'value'),)\n",
    "def display_cell_group(cell_group, event_type, attendance_type, month):\n",
    "    if cell_group == 'ALL':\n",
    "        cell_group = df['cell_group'].unique()\n",
    "    else:\n",
    "        cell_group = [cell_group]\n",
    "\n",
    "    if event_type == 'ALL':\n",
    "        event_type = df['event_type'].unique()\n",
    "    else:\n",
    "        event_type = [event_type]\n",
    "\n",
    "    if attendance_type == 'ALL':\n",
    "        attendance_type = df['attendance_type'].unique()\n",
    "    else:\n",
    "        attendance_type = [attendance_type]\n",
    "    \n",
    "    filtered_df = df[\n",
    "        (df['cell_group'].isin(list(cell_group)))&\n",
    "        (df['event_type'].isin(list(event_type)))&\n",
    "        (df['attendance_type'].isin(list(attendance_type)))\n",
    "    ]\n",
    "\n",
    "    fig = px.bar(filtered_df, x=\"date_attended\",  y = 'name',\n",
    "                 hover_data=['cell_group', 'event_type'], color='event_type',\n",
    "                 text_auto=True)\n",
    "\n",
    "    fig.update_layout(\n",
    "    plot_bgcolor=colors['background'],\n",
    "    paper_bgcolor=colors['background'],\n",
    "    font_color=colors['text'],\n",
    "    xaxis_tickangle=-45\n",
    "    )\n",
    "    \n",
    "    return fig\n",
    "\n",
    "# Run the app\n",
    "if __name__ == '__main__':\n",
    "    app.run(debug=True)"
   ]
  },
  {
   "cell_type": "code",
   "execution_count": 15,
   "metadata": {},
   "outputs": [
    {
     "data": {
      "text/html": [
       "<div>\n",
       "<style scoped>\n",
       "    .dataframe tbody tr th:only-of-type {\n",
       "        vertical-align: middle;\n",
       "    }\n",
       "\n",
       "    .dataframe tbody tr th {\n",
       "        vertical-align: top;\n",
       "    }\n",
       "\n",
       "    .dataframe thead th {\n",
       "        text-align: right;\n",
       "    }\n",
       "</style>\n",
       "<table border=\"1\" class=\"dataframe\">\n",
       "  <thead>\n",
       "    <tr style=\"text-align: right;\">\n",
       "      <th></th>\n",
       "      <th>week_number</th>\n",
       "    </tr>\n",
       "  </thead>\n",
       "  <tbody>\n",
       "    <tr>\n",
       "      <th>0</th>\n",
       "      <td>8</td>\n",
       "    </tr>\n",
       "    <tr>\n",
       "      <th>1</th>\n",
       "      <td>9</td>\n",
       "    </tr>\n",
       "    <tr>\n",
       "      <th>2</th>\n",
       "      <td>10</td>\n",
       "    </tr>\n",
       "    <tr>\n",
       "      <th>3</th>\n",
       "      <td>11</td>\n",
       "    </tr>\n",
       "    <tr>\n",
       "      <th>4</th>\n",
       "      <td>12</td>\n",
       "    </tr>\n",
       "  </tbody>\n",
       "</table>\n",
       "</div>"
      ],
      "text/plain": [
       "   week_number\n",
       "0            8\n",
       "1            9\n",
       "2           10\n",
       "3           11\n",
       "4           12"
      ]
     },
     "execution_count": 15,
     "metadata": {},
     "output_type": "execute_result"
    }
   ],
   "source": [
    "pd.DataFrame(list(range(8,13)), columns = ['week_number'])"
   ]
  },
  {
   "cell_type": "code",
   "execution_count": 16,
   "metadata": {},
   "outputs": [
    {
     "data": {
      "text/html": [
       "\n",
       "        <iframe\n",
       "            width=\"100%\"\n",
       "            height=\"650\"\n",
       "            src=\"http://127.0.0.1:8050/\"\n",
       "            frameborder=\"0\"\n",
       "            allowfullscreen\n",
       "            \n",
       "        ></iframe>\n",
       "        "
      ],
      "text/plain": [
       "<IPython.lib.display.IFrame at 0x7f81695a9cd0>"
      ]
     },
     "metadata": {},
     "output_type": "display_data"
    },
    {
     "name": "stderr",
     "output_type": "stream",
     "text": [
      "/var/folders/2p/zj7y6jln2cx01_2bx3tcsmy80000gn/T/ipykernel_12667/1557997793.py:293: SettingWithCopyWarning:\n",
      "\n",
      "\n",
      "A value is trying to be set on a copy of a slice from a DataFrame.\n",
      "Try using .loc[row_indexer,col_indexer] = value instead\n",
      "\n",
      "See the caveats in the documentation: https://pandas.pydata.org/pandas-docs/stable/user_guide/indexing.html#returning-a-view-versus-a-copy\n",
      "\n",
      "/var/folders/2p/zj7y6jln2cx01_2bx3tcsmy80000gn/T/ipykernel_12667/1557997793.py:293: SettingWithCopyWarning:\n",
      "\n",
      "\n",
      "A value is trying to be set on a copy of a slice from a DataFrame.\n",
      "Try using .loc[row_indexer,col_indexer] = value instead\n",
      "\n",
      "See the caveats in the documentation: https://pandas.pydata.org/pandas-docs/stable/user_guide/indexing.html#returning-a-view-versus-a-copy\n",
      "\n",
      "/var/folders/2p/zj7y6jln2cx01_2bx3tcsmy80000gn/T/ipykernel_12667/1557997793.py:293: SettingWithCopyWarning:\n",
      "\n",
      "\n",
      "A value is trying to be set on a copy of a slice from a DataFrame.\n",
      "Try using .loc[row_indexer,col_indexer] = value instead\n",
      "\n",
      "See the caveats in the documentation: https://pandas.pydata.org/pandas-docs/stable/user_guide/indexing.html#returning-a-view-versus-a-copy\n",
      "\n"
     ]
    }
   ],
   "source": [
    "import boto3\n",
    "import pandas as pd\n",
    "import numpy as np\n",
    "import creds\n",
    "from dash import Dash, dcc, html, Input, Output\n",
    "import plotly.express as px\n",
    "\n",
    "\n",
    "db_client = boto3.resource('dynamodb',aws_access_key_id=creds.AWS_ACCESS_KEY,aws_secret_access_key=creds.AWS_SECRET_ACCESS_KEY)\n",
    "\n",
    "def get_data(table_name, db_client):\n",
    "    data = pd.DataFrame(db_client.Table(table_name).scan()['Items'])\n",
    "    return data\n",
    "\n",
    "attendance = get_data('attendance',db_client)\n",
    "members = get_data('person',db_client)\n",
    "\n",
    "df = attendance[['event_type','cell_group','date_attended']].drop_duplicates().merge(members[['cell_group','role','name']], on = ['cell_group'], how = 'outer')\n",
    "df = df.merge(attendance, on = ['event_type','cell_group','date_attended','name'], how = 'left')\n",
    "df['attendance_type'] = np.where(df['attendance_type'].isna(), 'Absent Invalid', df['attendance_type'])\n",
    "\n",
    "colors = {\n",
    "    'background': '#FFFFFF',\n",
    "    'text': '#111111'\n",
    "}\n",
    "\n",
    "app = Dash(__name__)\n",
    "\n",
    "app.layout = html.Div(style={'backgroundColor': colors['background']}, children = [\n",
    "    \n",
    "    html.Div([\n",
    "\n",
    "        html.H1('POD Youth Ministry Attendance Dashboard')\n",
    "\n",
    "    ], style={\n",
    "        'padding': '5px 10px'\n",
    "    }),\n",
    "\n",
    "    html.Div([\n",
    "\n",
    "        html.Div([\n",
    "            html.P('Select cell group:'),\n",
    "            dcc.Dropdown(\n",
    "                id = 'select_cell_group',\n",
    "                options = ['ALL'] + list(df['cell_group'].unique()),\n",
    "                value = 'ALL',\n",
    "                clearable=False\n",
    "            )\n",
    "        ], style={'width': '48%', 'display': 'inline-block'}),\n",
    "\n",
    "        html.Div([\n",
    "            html.P('Select event type:'),\n",
    "            dcc.Dropdown(\n",
    "                id = 'select_event_type',\n",
    "                options = ['ALL'] + list(df['event_type'].unique()),\n",
    "                value = 'ALL',\n",
    "                clearable=False\n",
    "            )\n",
    "        ], style={'width': '48%', 'float': 'right', 'display': 'inline-block'})\n",
    "\n",
    "    ], style={\n",
    "        'padding': '0px 10px'\n",
    "    }),\n",
    "\n",
    "    html.Div([\n",
    "\n",
    "        html.Div([\n",
    "            html.P('Select attendance type:'),\n",
    "            dcc.Dropdown(\n",
    "                id = 'select_attendance_type',\n",
    "                options = ['ALL'] + list(df['attendance_type'].unique()),\n",
    "                value = 'ALL',\n",
    "                clearable=False\n",
    "            )\n",
    "        ], style={'width': '48%', 'display': 'inline-block'}),\n",
    "\n",
    "        html.Div([\n",
    "            html.P('Select role:'),\n",
    "            dcc.Dropdown(\n",
    "                id = 'select_role',\n",
    "                options = ['ALL'] + list(df['role'].unique()),\n",
    "                value = 'ALL',\n",
    "                clearable=False\n",
    "            )\n",
    "        ], style={'width': '48%', 'float': 'right', 'display': 'inline-block'})\n",
    "        \n",
    "    ], style={\n",
    "        'padding': '20px 10px'\n",
    "    }),\n",
    "\n",
    "    html.Div([html.Hr()], style={\n",
    "        'padding': '10px 10px'\n",
    "    }),\n",
    "\n",
    "    dcc.Graph(id = 'heatmap1'),\n",
    "\n",
    "    html.Div([html.Hr()], style={\n",
    "        'padding': '10px 10px'\n",
    "    }),\n",
    "\n",
    "    html.Div([\n",
    "\n",
    "        html.Div([\n",
    "            dcc.Graph(id = 'table1')\n",
    "        ], style={'width': '48%', 'display': 'inline-block'}),\n",
    "\n",
    "        html.Div([\n",
    "            dcc.Graph(id = 'table2')\n",
    "        ], style={'width': '48%', 'float': 'right', 'display': 'inline-block'})\n",
    "        \n",
    "    ], style={\n",
    "        'padding': '10px 0px'\n",
    "    }),\n",
    "    \n",
    "    dcc.Graph(id = 'barplot1'),\n",
    "\n",
    "    html.Div([html.Hr()], style={\n",
    "        'padding': '10px 10px'\n",
    "    }),\n",
    "\n",
    "    html.Div([\n",
    "\n",
    "        html.Div([\n",
    "            dcc.Graph(id = 'table3')\n",
    "        ], style={'width': '48%', 'display': 'inline-block'}),\n",
    "\n",
    "        html.Div([\n",
    "            dcc.Graph(id = 'table4')\n",
    "        ], style={'width': '48%', 'float': 'right', 'display': 'inline-block'})\n",
    "        \n",
    "    ], style={\n",
    "        'padding': '10px 0px'\n",
    "    }),\n",
    "\n",
    "    dcc.Graph(id = 'barplot2'),\n",
    "])\n",
    "\n",
    "\n",
    "@app.callback(\n",
    "    Output('table1','figure'),\n",
    "    Input('select_cell_group', 'value'),\n",
    "    Input('select_event_type', 'value'),\n",
    "    Input('select_attendance_type', 'value'),\n",
    "    Input('select_role', 'value'),)\n",
    "def display_cell_group(cell_group, event_type, attendance_type, role):\n",
    "    if cell_group == 'ALL':\n",
    "        cell_group = df['cell_group'].unique()\n",
    "    else:\n",
    "        cell_group = [cell_group]\n",
    "\n",
    "    if event_type == 'ALL':\n",
    "        event_type = df['event_type'].unique()\n",
    "    else:\n",
    "        event_type = [event_type]\n",
    "\n",
    "    if attendance_type == 'ALL':\n",
    "        attendance_type = df['attendance_type'].unique()\n",
    "    else:\n",
    "        attendance_type = [attendance_type]\n",
    "\n",
    "    if role == 'ALL':\n",
    "        role = df['role'].unique()\n",
    "    else:\n",
    "        role = [role]\n",
    "\n",
    "    filtered_df = df[\n",
    "        (df['cell_group'].isin(list(cell_group)))&\n",
    "        (df['event_type'].isin(list(event_type)))&\n",
    "        (df['attendance_type'].isin(list(attendance_type)))&\n",
    "        (df['role'].isin(list(role)))\n",
    "    ]\n",
    "\n",
    "    temp = filtered_df.groupby(['date_attended']).agg({'name':'count'}).reset_index()\n",
    "    \n",
    "    x = ['']\n",
    "    y = ['']\n",
    "    z = [[0.0]]\n",
    "\n",
    "    z_text = [[round(temp['name'].mean(),0)]]\n",
    "\n",
    "    fig = px.imshow(z, x=x, y=y, color_continuous_scale='BrBG', aspect = 'auto')#, color_continuous_scale='Viridis', aspect=\"auto\")\n",
    "    fig.update_traces(text=z_text, texttemplate=\"%{text}\")\n",
    "    fig.update_xaxes(side=\"top\")\n",
    "    fig.update_coloraxes(showscale=False)\n",
    "    fig.update_layout(font=dict(size=18))\n",
    "\n",
    "    fig.update_layout(\n",
    "    plot_bgcolor=colors['background'],\n",
    "    paper_bgcolor=colors['background'],\n",
    "    font_color=colors['text'],\n",
    "    xaxis_tickangle=-45,\n",
    "    title_text='Average Attendance',\n",
    "    height = 200\n",
    "    )\n",
    "    \n",
    "    return fig\n",
    "\n",
    "\n",
    "@app.callback(\n",
    "    Output('table2','figure'),\n",
    "    Input('select_cell_group', 'value'),\n",
    "    Input('select_event_type', 'value'),\n",
    "    Input('select_attendance_type', 'value'),\n",
    "    Input('select_role', 'value'),)\n",
    "def display_cell_group(cell_group, event_type, attendance_type, role):\n",
    "    if cell_group == 'ALL':\n",
    "        cell_group = df['cell_group'].unique()\n",
    "    else:\n",
    "        cell_group = [cell_group]\n",
    "\n",
    "    if event_type == 'ALL':\n",
    "        event_type = df['event_type'].unique()\n",
    "    else:\n",
    "        event_type = [event_type]\n",
    "\n",
    "    if attendance_type == 'ALL':\n",
    "        attendance_type = df['attendance_type'].unique()\n",
    "    else:\n",
    "        attendance_type = [attendance_type]\n",
    "\n",
    "    if role == 'ALL':\n",
    "        role = df['role'].unique()\n",
    "    else:\n",
    "        role = [role]\n",
    "\n",
    "    filtered_df = df[\n",
    "        (df['cell_group'].isin(list(cell_group)))&\n",
    "        (df['event_type'].isin(list(event_type)))&\n",
    "        (df['attendance_type'].isin(list(attendance_type)))&\n",
    "        (df['role'].isin(list(role)))\n",
    "    ]\n",
    "\n",
    "    temp = filtered_df.groupby(['date_attended']).agg({'name':'count'}).reset_index().sort_values('date_attended').iloc[-3:,:]\n",
    "    \n",
    "    x = ['']\n",
    "    y = ['']\n",
    "    z = [[0.0]]\n",
    "\n",
    "    z_text = [[round(temp['name'].mean(),0)]]\n",
    "\n",
    "    fig = px.imshow(z, x=x, y=y, color_continuous_scale='BrBG', aspect = 'auto')#, color_continuous_scale='Viridis', aspect=\"auto\")\n",
    "    fig.update_traces(text=z_text, texttemplate=\"%{text}\")\n",
    "    fig.update_xaxes(side=\"top\")\n",
    "    fig.update_coloraxes(showscale=False)\n",
    "    fig.update_layout(font=dict(size=18))\n",
    "\n",
    "    fig.update_layout(\n",
    "    plot_bgcolor=colors['background'],\n",
    "    paper_bgcolor=colors['background'],\n",
    "    font_color=colors['text'],\n",
    "    xaxis_tickangle=-45,\n",
    "    title_text='L3W Average Attendance',\n",
    "    height = 200\n",
    "    )\n",
    "    \n",
    "    return fig\n",
    "\n",
    "\n",
    "@app.callback(\n",
    "    Output('heatmap1','figure'),\n",
    "    Input('select_cell_group', 'value'),\n",
    "    Input('select_event_type', 'value'),\n",
    "    Input('select_attendance_type', 'value'),\n",
    "    Input('select_role', 'value'),)\n",
    "def display_cell_group(cell_group, event_type, attendance_type, role):\n",
    "    if cell_group == 'ALL':\n",
    "        cell_group = df['cell_group'].unique()\n",
    "    else:\n",
    "        cell_group = [cell_group]\n",
    "\n",
    "    if event_type == 'ALL':\n",
    "        event_type = df['event_type'].unique()\n",
    "    else:\n",
    "        event_type = [event_type]\n",
    "\n",
    "    if attendance_type == 'ALL':\n",
    "        attendance_type = df['attendance_type'].unique()\n",
    "    else:\n",
    "        attendance_type = [attendance_type]\n",
    "\n",
    "    if role == 'ALL':\n",
    "        role = df['role'].unique()\n",
    "    else:\n",
    "        role = [role]\n",
    "\n",
    "    filtered_df = df[\n",
    "        (df['cell_group'].isin(list(cell_group)))&\n",
    "        (df['event_type'].isin(list(event_type)))&\n",
    "        (df['attendance_type'].isin(list(attendance_type)))&\n",
    "        (df['role'].isin(list(role)))\n",
    "    ]\n",
    "\n",
    "    filtered_df['week_number'] = pd.to_datetime(filtered_df['date_attended']).dt.isocalendar().week\n",
    "\n",
    "    # test = filtered_df.groupby(['event_type','week_number']).agg({'name':'count'}).reset_index().sort_values('week_number')\n",
    "    test = filtered_df.groupby(['event_type','week_number']).agg({'name':'count'}).reset_index()\n",
    "    skeleton = pd.DataFrame(list(range(test['week_number'].min(),test['week_number'].max())), columns = ['week_number'])\n",
    "    test = skeleton.merge(test, on = 'week_number').sort_values('week_number')\n",
    "\n",
    "    values = test.pivot(index='event_type',columns='week_number',values='name').values\n",
    "    y = test['event_type'].unique()\n",
    "    x = ['CW '+ value for value in test['week_number'].unique().astype(str)]\n",
    "\n",
    "    fig = px.imshow(values, x=x, y=y, color_continuous_scale='BuGn', aspect=\"auto\")\n",
    "    fig.update_traces(text = values, texttemplate=\"%{text}\")\n",
    "    fig.update_xaxes(side=\"top\")\n",
    "\n",
    "    fig.update_layout(\n",
    "    plot_bgcolor=colors['background'],\n",
    "    paper_bgcolor=colors['background'],\n",
    "    font_color=colors['text'],\n",
    "    title={'text': 'Heat Map across Event Types and Week Numbers', 'font': {'size': 24}}\n",
    "    )\n",
    "    \n",
    "    return fig\n",
    "\n",
    "\n",
    "@app.callback(\n",
    "    Output('barplot1','figure'),\n",
    "    Input('select_cell_group', 'value'),\n",
    "    Input('select_event_type', 'value'),\n",
    "    Input('select_attendance_type', 'value'),\n",
    "    Input('select_role', 'value'),)\n",
    "def display_cell_group(cell_group, event_type, attendance_type, role):\n",
    "    if cell_group == 'ALL':\n",
    "        cell_group = df['cell_group'].unique()\n",
    "    else:\n",
    "        cell_group = [cell_group]\n",
    "\n",
    "    if event_type == 'ALL':\n",
    "        event_type = df['event_type'].unique()\n",
    "    else:\n",
    "        event_type = [event_type]\n",
    "\n",
    "    if attendance_type == 'ALL':\n",
    "        attendance_type = df['attendance_type'].unique()\n",
    "    else:\n",
    "        attendance_type = [attendance_type]\n",
    "\n",
    "    if role == 'ALL':\n",
    "        role = df['role'].unique()\n",
    "    else:\n",
    "        role = [role]\n",
    "\n",
    "    filtered_df = df[\n",
    "        (df['cell_group'].isin(list(cell_group)))&\n",
    "        (df['event_type'].isin(list(event_type)))&\n",
    "        (df['attendance_type'].isin(list(attendance_type)))&\n",
    "        (df['role'].isin(list(role)))\n",
    "    ]\n",
    "\n",
    "    denominator_df = df[\n",
    "        (df['cell_group'].isin(list(cell_group)))&\n",
    "        (df['event_type'].isin(list(event_type)))&\n",
    "        (df['role'].isin(list(role)))\n",
    "    ]\n",
    "\n",
    "    temp = filtered_df.groupby(['date_attended','cell_group']).agg({'role':'count',\n",
    "                                                                    'name':','.join}).reset_index()\n",
    "    denom = denominator_df.groupby(['date_attended','cell_group']).agg({'name':'count'}).reset_index()\n",
    "\n",
    "    res = temp.merge(denom, on = ['date_attended','cell_group'], how = 'outer')\n",
    "    res.fillna(0.0, inplace = True)\n",
    "    res['percentage'] = round(res['role']/res['name_y']*100,1)\n",
    "\n",
    "    fig = px.bar(res, x=\"date_attended\",  y = 'role',\n",
    "                 hover_data=['name_x'],\n",
    "                 labels={'role':'Count',\n",
    "                         'date_attended':'Date'},\n",
    "                 text_auto=True,\n",
    "                 color = 'cell_group')\n",
    "    # fig.add_bar(res, x='date_attended', y='percentage')\n",
    "\n",
    "    fig.update_layout(\n",
    "    # plot_bgcolor=colors['background'],\n",
    "    # paper_bgcolor=colors['background'],\n",
    "    font_color=colors['text'],\n",
    "    xaxis_tickangle=-45,\n",
    "    title={'text': 'Attendance by the Dates', 'font': {'size': 24}}\n",
    "    )\n",
    "    \n",
    "    return fig\n",
    "\n",
    "\n",
    "\n",
    "\n",
    "@app.callback(\n",
    "    Output('table3','figure'),\n",
    "    Input('select_cell_group', 'value'),\n",
    "    Input('select_event_type', 'value'),\n",
    "    Input('select_attendance_type', 'value'),\n",
    "    Input('select_role', 'value'),)\n",
    "def display_cell_group(cell_group, event_type, attendance_type, role):\n",
    "    if cell_group == 'ALL':\n",
    "        cell_group = df['cell_group'].unique()\n",
    "    else:\n",
    "        cell_group = [cell_group]\n",
    "\n",
    "    if event_type == 'ALL':\n",
    "        event_type = df['event_type'].unique()\n",
    "    else:\n",
    "        event_type = [event_type]\n",
    "\n",
    "    if attendance_type == 'ALL':\n",
    "        attendance_type = df['attendance_type'].unique()\n",
    "    else:\n",
    "        attendance_type = [attendance_type]\n",
    "\n",
    "    if role == 'ALL':\n",
    "        role = df['role'].unique()\n",
    "    else:\n",
    "        role = [role]\n",
    "\n",
    "    filtered_df = df[\n",
    "        (df['cell_group'].isin(list(cell_group)))&\n",
    "        (df['event_type'].isin(list(event_type)))&\n",
    "        (df['attendance_type'].isin(list(attendance_type)))&\n",
    "        (df['role'].isin(list(role)))\n",
    "    ].copy()\n",
    "\n",
    "    denominator_df = df[\n",
    "        (df['cell_group'].isin(list(cell_group)))&\n",
    "        (df['event_type'].isin(list(event_type)))&\n",
    "        (df['role'].isin(list(role)))\n",
    "    ].copy()\n",
    "\n",
    "    temp = filtered_df.groupby(['date_attended']).agg({'name':'count'}).reset_index()\n",
    "    denom = denominator_df.groupby(['date_attended']).agg({'name':'count'}).reset_index()\n",
    "\n",
    "    res = temp.merge(denom, on = 'date_attended', how = 'outer')\n",
    "    res.fillna(0.0, inplace = True)\n",
    "    res['percentage'] = round(res['name_x']/res['name_y']*100,1)\n",
    "    res['type'] = 'Percent'\n",
    "    \n",
    "    x = ['']\n",
    "    y = ['']\n",
    "    z = [[0.0]]\n",
    "\n",
    "    z_text = [[str(round(res['percentage'].mean(),0)) + '%']]\n",
    "\n",
    "    fig = px.imshow(z, x=x, y=y, color_continuous_scale='BrBG', aspect = 'auto')#, color_continuous_scale='Viridis', aspect=\"auto\")\n",
    "    fig.update_traces(text=z_text, texttemplate=\"%{text}\")\n",
    "    fig.update_xaxes(side=\"top\")\n",
    "    fig.update_coloraxes(showscale=False)\n",
    "    fig.update_layout(font=dict(size=18))\n",
    "\n",
    "    fig.update_layout(\n",
    "    plot_bgcolor=colors['background'],\n",
    "    paper_bgcolor=colors['background'],\n",
    "    font_color=colors['text'],\n",
    "    xaxis_tickangle=-45,\n",
    "    title_text='Average Attendance',\n",
    "    height = 200\n",
    "    )\n",
    "    \n",
    "    return fig\n",
    "\n",
    "\n",
    "\n",
    "@app.callback(\n",
    "    Output('table4','figure'),\n",
    "    Input('select_cell_group', 'value'),\n",
    "    Input('select_event_type', 'value'),\n",
    "    Input('select_attendance_type', 'value'),\n",
    "    Input('select_role', 'value'),)\n",
    "def display_cell_group(cell_group, event_type, attendance_type, role):\n",
    "    if cell_group == 'ALL':\n",
    "        cell_group = df['cell_group'].unique()\n",
    "    else:\n",
    "        cell_group = [cell_group]\n",
    "\n",
    "    if event_type == 'ALL':\n",
    "        event_type = df['event_type'].unique()\n",
    "    else:\n",
    "        event_type = [event_type]\n",
    "\n",
    "    if attendance_type == 'ALL':\n",
    "        attendance_type = df['attendance_type'].unique()\n",
    "    else:\n",
    "        attendance_type = [attendance_type]\n",
    "\n",
    "    if role == 'ALL':\n",
    "        role = df['role'].unique()\n",
    "    else:\n",
    "        role = [role]\n",
    "\n",
    "    filtered_df = df[\n",
    "        (df['cell_group'].isin(list(cell_group)))&\n",
    "        (df['event_type'].isin(list(event_type)))&\n",
    "        (df['attendance_type'].isin(list(attendance_type)))&\n",
    "        (df['role'].isin(list(role)))\n",
    "    ].copy()\n",
    "\n",
    "    denominator_df = df[\n",
    "        (df['cell_group'].isin(list(cell_group)))&\n",
    "        (df['event_type'].isin(list(event_type)))&\n",
    "        (df['role'].isin(list(role)))\n",
    "    ].copy()\n",
    "\n",
    "    temp = filtered_df.groupby(['date_attended']).agg({'name':'count'}).reset_index()\n",
    "    denom = denominator_df.groupby(['date_attended']).agg({'name':'count'}).reset_index()\n",
    "\n",
    "    res = temp.merge(denom, on = 'date_attended', how = 'outer').sort_values('date_attended').iloc[-3:,:]\n",
    "    res.fillna(0.0, inplace = True)\n",
    "    res['percentage'] = round(res['name_x']/res['name_y']*100,1)\n",
    "    res['type'] = 'Percent'\n",
    "    \n",
    "    x = ['']\n",
    "    y = ['']\n",
    "    z = [[0.0]]\n",
    "\n",
    "    z_text = [[str(round(res['percentage'].mean(),0)) + '%']]\n",
    "\n",
    "    fig = px.imshow(z, x=x, y=y, color_continuous_scale='BrBG', aspect = 'auto')#, color_continuous_scale='Viridis', aspect=\"auto\")\n",
    "    fig.update_traces(text=z_text, texttemplate=\"%{text}\")\n",
    "    fig.update_xaxes(side=\"top\")\n",
    "    fig.update_coloraxes(showscale=False)\n",
    "    fig.update_layout(font=dict(size=18))\n",
    "\n",
    "    fig.update_layout(\n",
    "    plot_bgcolor=colors['background'],\n",
    "    paper_bgcolor=colors['background'],\n",
    "    font_color=colors['text'],\n",
    "    xaxis_tickangle=-45,\n",
    "    title_text='Average Attendance',\n",
    "    height = 200\n",
    "    )\n",
    "    \n",
    "    return fig\n",
    "\n",
    "\n",
    "@app.callback(\n",
    "    Output('barplot2','figure'),\n",
    "    Input('select_cell_group', 'value'),\n",
    "    Input('select_event_type', 'value'),\n",
    "    Input('select_attendance_type', 'value'),\n",
    "    Input('select_role', 'value'),)\n",
    "def display_cell_group(cell_group, event_type, attendance_type, role):\n",
    "    if cell_group == 'ALL':\n",
    "        cell_group = df['cell_group'].unique()\n",
    "    else:\n",
    "        cell_group = [cell_group]\n",
    "\n",
    "    if event_type == 'ALL':\n",
    "        event_type = df['event_type'].unique()\n",
    "    else:\n",
    "        event_type = [event_type]\n",
    "\n",
    "    if attendance_type == 'ALL':\n",
    "        attendance_type = df['attendance_type'].unique()\n",
    "    else:\n",
    "        attendance_type = [attendance_type]\n",
    "\n",
    "    if role == 'ALL':\n",
    "        role = df['role'].unique()\n",
    "    else:\n",
    "        role = [role]\n",
    "\n",
    "    filtered_df = df[\n",
    "        (df['cell_group'].isin(list(cell_group)))&\n",
    "        (df['event_type'].isin(list(event_type)))&\n",
    "        (df['attendance_type'].isin(list(attendance_type)))&\n",
    "        (df['role'].isin(list(role)))\n",
    "    ].copy()\n",
    "\n",
    "    denominator_df = df[\n",
    "        (df['cell_group'].isin(list(cell_group)))&\n",
    "        (df['event_type'].isin(list(event_type)))&\n",
    "        (df['role'].isin(list(role)))\n",
    "    ].copy()\n",
    "\n",
    "    temp = filtered_df.groupby(['date_attended']).agg({'name':'count'}).reset_index()\n",
    "    denom = denominator_df.groupby(['date_attended']).agg({'name':'count'}).reset_index()\n",
    "\n",
    "    res = temp.merge(denom, on = 'date_attended', how = 'outer')\n",
    "    res.fillna(0.0, inplace = True)\n",
    "    res['percentage'] = round(res['name_x']/res['name_y']*100,1)\n",
    "    res['type'] = 'Percent'\n",
    "\n",
    "    fig = px.bar(res, x=\"date_attended\",  y = 'percentage',\n",
    "                 hover_data=['date_attended'],\n",
    "                 labels={'percentage':'Percentage',\n",
    "                         'date_attended':'Date'},\n",
    "                 text_auto=True,\n",
    "                 color = 'type')\n",
    "\n",
    "    fig.update_layout(\n",
    "    # plot_bgcolor=colors['background'],\n",
    "    # paper_bgcolor=colors['background'],\n",
    "    font_color=colors['text'],\n",
    "    xaxis_tickangle=-45,\n",
    "    title={'text': 'Attendance Fulfilment (%) by the Dates', 'font': {'size': 24}}\n",
    "    )\n",
    "    \n",
    "    return fig\n",
    "\n",
    "# Run the app\n",
    "if __name__ == '__main__':\n",
    "    app.run(debug=True)"
   ]
  },
  {
   "cell_type": "code",
   "execution_count": 78,
   "metadata": {},
   "outputs": [
    {
     "data": {
      "text/html": [
       "<div>\n",
       "<style scoped>\n",
       "    .dataframe tbody tr th:only-of-type {\n",
       "        vertical-align: middle;\n",
       "    }\n",
       "\n",
       "    .dataframe tbody tr th {\n",
       "        vertical-align: top;\n",
       "    }\n",
       "\n",
       "    .dataframe thead th {\n",
       "        text-align: right;\n",
       "    }\n",
       "</style>\n",
       "<table border=\"1\" class=\"dataframe\">\n",
       "  <thead>\n",
       "    <tr style=\"text-align: right;\">\n",
       "      <th></th>\n",
       "      <th>date_attended</th>\n",
       "      <th>name</th>\n",
       "    </tr>\n",
       "  </thead>\n",
       "  <tbody>\n",
       "    <tr>\n",
       "      <th>0</th>\n",
       "      <td>2024-02-16 00:00:00</td>\n",
       "      <td>6</td>\n",
       "    </tr>\n",
       "    <tr>\n",
       "      <th>1</th>\n",
       "      <td>2024-02-18 00:00:00</td>\n",
       "      <td>10</td>\n",
       "    </tr>\n",
       "    <tr>\n",
       "      <th>2</th>\n",
       "      <td>2024-02-23 00:00:00</td>\n",
       "      <td>3</td>\n",
       "    </tr>\n",
       "    <tr>\n",
       "      <th>3</th>\n",
       "      <td>2024-02-25 00:00:00</td>\n",
       "      <td>5</td>\n",
       "    </tr>\n",
       "    <tr>\n",
       "      <th>4</th>\n",
       "      <td>2024-03-01 00:00:00</td>\n",
       "      <td>6</td>\n",
       "    </tr>\n",
       "    <tr>\n",
       "      <th>5</th>\n",
       "      <td>2024-03-15 00:00:00</td>\n",
       "      <td>7</td>\n",
       "    </tr>\n",
       "    <tr>\n",
       "      <th>6</th>\n",
       "      <td>2024-03-17 00:00:00</td>\n",
       "      <td>6</td>\n",
       "    </tr>\n",
       "    <tr>\n",
       "      <th>7</th>\n",
       "      <td>2024-03-22 00:00:00</td>\n",
       "      <td>5</td>\n",
       "    </tr>\n",
       "    <tr>\n",
       "      <th>8</th>\n",
       "      <td>2024-03-24 00:00:00</td>\n",
       "      <td>6</td>\n",
       "    </tr>\n",
       "    <tr>\n",
       "      <th>9</th>\n",
       "      <td>2024-03-29 00:00:00</td>\n",
       "      <td>10</td>\n",
       "    </tr>\n",
       "    <tr>\n",
       "      <th>10</th>\n",
       "      <td>2024-03-31 00:00:00</td>\n",
       "      <td>11</td>\n",
       "    </tr>\n",
       "  </tbody>\n",
       "</table>\n",
       "</div>"
      ],
      "text/plain": [
       "          date_attended  name\n",
       "0   2024-02-16 00:00:00     6\n",
       "1   2024-02-18 00:00:00    10\n",
       "2   2024-02-23 00:00:00     3\n",
       "3   2024-02-25 00:00:00     5\n",
       "4   2024-03-01 00:00:00     6\n",
       "5   2024-03-15 00:00:00     7\n",
       "6   2024-03-17 00:00:00     6\n",
       "7   2024-03-22 00:00:00     5\n",
       "8   2024-03-24 00:00:00     6\n",
       "9   2024-03-29 00:00:00    10\n",
       "10  2024-03-31 00:00:00    11"
      ]
     },
     "execution_count": 78,
     "metadata": {},
     "output_type": "execute_result"
    }
   ],
   "source": [
    "temp"
   ]
  },
  {
   "cell_type": "code",
   "execution_count": 87,
   "metadata": {},
   "outputs": [
    {
     "data": {
      "text/html": [
       "<div>\n",
       "<style scoped>\n",
       "    .dataframe tbody tr th:only-of-type {\n",
       "        vertical-align: middle;\n",
       "    }\n",
       "\n",
       "    .dataframe tbody tr th {\n",
       "        vertical-align: top;\n",
       "    }\n",
       "\n",
       "    .dataframe thead th {\n",
       "        text-align: right;\n",
       "    }\n",
       "</style>\n",
       "<table border=\"1\" class=\"dataframe\">\n",
       "  <thead>\n",
       "    <tr style=\"text-align: right;\">\n",
       "      <th></th>\n",
       "      <th>event_type</th>\n",
       "      <th>cell_group</th>\n",
       "      <th>date_attended</th>\n",
       "      <th>name</th>\n",
       "      <th>attendance_type</th>\n",
       "    </tr>\n",
       "  </thead>\n",
       "  <tbody>\n",
       "    <tr>\n",
       "      <th>89</th>\n",
       "      <td>Sunday Service</td>\n",
       "      <td>Kadesh</td>\n",
       "      <td>2024-03-31 00:00:00</td>\n",
       "      <td>Asher Tay</td>\n",
       "      <td>Present</td>\n",
       "    </tr>\n",
       "    <tr>\n",
       "      <th>90</th>\n",
       "      <td>Sunday Service</td>\n",
       "      <td>Kadesh</td>\n",
       "      <td>2024-03-31 00:00:00</td>\n",
       "      <td>Caitlin Tan</td>\n",
       "      <td>Present</td>\n",
       "    </tr>\n",
       "    <tr>\n",
       "      <th>95</th>\n",
       "      <td>Sunday Service</td>\n",
       "      <td>Kadesh</td>\n",
       "      <td>2024-03-31 00:00:00</td>\n",
       "      <td>Faith Tan</td>\n",
       "      <td>Present</td>\n",
       "    </tr>\n",
       "    <tr>\n",
       "      <th>98</th>\n",
       "      <td>Cell Group</td>\n",
       "      <td>Kadesh</td>\n",
       "      <td>2024-03-31 00:00:00</td>\n",
       "      <td>Ian Lam</td>\n",
       "      <td>Present</td>\n",
       "    </tr>\n",
       "    <tr>\n",
       "      <th>99</th>\n",
       "      <td>Sunday Service</td>\n",
       "      <td>Kadesh</td>\n",
       "      <td>2024-03-31 00:00:00</td>\n",
       "      <td>Jayden Yoshimura</td>\n",
       "      <td>Absent Valid</td>\n",
       "    </tr>\n",
       "    <tr>\n",
       "      <th>101</th>\n",
       "      <td>Sunday Service</td>\n",
       "      <td>Kadesh</td>\n",
       "      <td>2024-03-31 00:00:00</td>\n",
       "      <td>Joanne Tan</td>\n",
       "      <td>Present</td>\n",
       "    </tr>\n",
       "    <tr>\n",
       "      <th>102</th>\n",
       "      <td>Sunday Service</td>\n",
       "      <td>Kadesh</td>\n",
       "      <td>2024-03-31 00:00:00</td>\n",
       "      <td>Joel Lau</td>\n",
       "      <td>Absent Valid</td>\n",
       "    </tr>\n",
       "    <tr>\n",
       "      <th>103</th>\n",
       "      <td>Sunday Service</td>\n",
       "      <td>Kadesh</td>\n",
       "      <td>2024-03-31 00:00:00</td>\n",
       "      <td>Joette Tan</td>\n",
       "      <td>Present</td>\n",
       "    </tr>\n",
       "    <tr>\n",
       "      <th>104</th>\n",
       "      <td>Sunday Service</td>\n",
       "      <td>Kadesh</td>\n",
       "      <td>2024-03-31 00:00:00</td>\n",
       "      <td>Jolene Tan</td>\n",
       "      <td>Present</td>\n",
       "    </tr>\n",
       "    <tr>\n",
       "      <th>113</th>\n",
       "      <td>Sunday Service</td>\n",
       "      <td>Kadesh</td>\n",
       "      <td>2024-03-31 00:00:00</td>\n",
       "      <td>Ryder Wong</td>\n",
       "      <td>Present</td>\n",
       "    </tr>\n",
       "  </tbody>\n",
       "</table>\n",
       "</div>"
      ],
      "text/plain": [
       "         event_type cell_group        date_attended              name  \\\n",
       "89   Sunday Service     Kadesh  2024-03-31 00:00:00         Asher Tay   \n",
       "90   Sunday Service     Kadesh  2024-03-31 00:00:00       Caitlin Tan   \n",
       "95   Sunday Service     Kadesh  2024-03-31 00:00:00         Faith Tan   \n",
       "98       Cell Group     Kadesh  2024-03-31 00:00:00           Ian Lam   \n",
       "99   Sunday Service     Kadesh  2024-03-31 00:00:00  Jayden Yoshimura   \n",
       "101  Sunday Service     Kadesh  2024-03-31 00:00:00        Joanne Tan   \n",
       "102  Sunday Service     Kadesh  2024-03-31 00:00:00          Joel Lau   \n",
       "103  Sunday Service     Kadesh  2024-03-31 00:00:00        Joette Tan   \n",
       "104  Sunday Service     Kadesh  2024-03-31 00:00:00        Jolene Tan   \n",
       "113  Sunday Service     Kadesh  2024-03-31 00:00:00        Ryder Wong   \n",
       "\n",
       "    attendance_type  \n",
       "89          Present  \n",
       "90          Present  \n",
       "95          Present  \n",
       "98          Present  \n",
       "99     Absent Valid  \n",
       "101         Present  \n",
       "102    Absent Valid  \n",
       "103         Present  \n",
       "104         Present  \n",
       "113         Present  "
      ]
     },
     "execution_count": 87,
     "metadata": {},
     "output_type": "execute_result"
    }
   ],
   "source": [
    "attendance[(attendance['cell_group']=='Kadesh')&(attendance['date_attended']=='2024-03-31 00:00:00')]"
   ]
  },
  {
   "cell_type": "code",
   "execution_count": 1,
   "metadata": {},
   "outputs": [
    {
     "ename": "KeyboardInterrupt",
     "evalue": "",
     "output_type": "error",
     "traceback": [
      "\u001b[0;31m---------------------------------------------------------------------------\u001b[0m",
      "\u001b[0;31mKeyboardInterrupt\u001b[0m                         Traceback (most recent call last)",
      "Cell \u001b[0;32mIn[1], line 9\u001b[0m\n\u001b[1;32m      5\u001b[0m external_stylesheets \u001b[38;5;241m=\u001b[39m [\u001b[38;5;124m'\u001b[39m\u001b[38;5;124mhttps://codepen.io/chriddyp/pen/bWLwgP.css\u001b[39m\u001b[38;5;124m'\u001b[39m]\n\u001b[1;32m      7\u001b[0m app \u001b[38;5;241m=\u001b[39m Dash(\u001b[38;5;18m__name__\u001b[39m, external_stylesheets\u001b[38;5;241m=\u001b[39mexternal_stylesheets)\n\u001b[0;32m----> 9\u001b[0m df \u001b[38;5;241m=\u001b[39m \u001b[43mpd\u001b[49m\u001b[38;5;241;43m.\u001b[39;49m\u001b[43mread_csv\u001b[49m\u001b[43m(\u001b[49m\u001b[38;5;124;43m'\u001b[39;49m\u001b[38;5;124;43mhttps://plotly.github.io/datasets/country_indicators.csv\u001b[39;49m\u001b[38;5;124;43m'\u001b[39;49m\u001b[43m)\u001b[49m\n\u001b[1;32m     12\u001b[0m app\u001b[38;5;241m.\u001b[39mlayout \u001b[38;5;241m=\u001b[39m html\u001b[38;5;241m.\u001b[39mDiv([\n\u001b[1;32m     13\u001b[0m     html\u001b[38;5;241m.\u001b[39mDiv([\n\u001b[1;32m     14\u001b[0m \n\u001b[0;32m   (...)\u001b[0m\n\u001b[1;32m     65\u001b[0m     ), style\u001b[38;5;241m=\u001b[39m{\u001b[38;5;124m'\u001b[39m\u001b[38;5;124mwidth\u001b[39m\u001b[38;5;124m'\u001b[39m: \u001b[38;5;124m'\u001b[39m\u001b[38;5;124m49\u001b[39m\u001b[38;5;124m%\u001b[39m\u001b[38;5;124m'\u001b[39m, \u001b[38;5;124m'\u001b[39m\u001b[38;5;124mpadding\u001b[39m\u001b[38;5;124m'\u001b[39m: \u001b[38;5;124m'\u001b[39m\u001b[38;5;124m0px 20px 20px 20px\u001b[39m\u001b[38;5;124m'\u001b[39m})\n\u001b[1;32m     66\u001b[0m ])\n\u001b[1;32m     69\u001b[0m \u001b[38;5;129m@callback\u001b[39m(\n\u001b[1;32m     70\u001b[0m     Output(\u001b[38;5;124m'\u001b[39m\u001b[38;5;124mcrossfilter-indicator-scatter\u001b[39m\u001b[38;5;124m'\u001b[39m, \u001b[38;5;124m'\u001b[39m\u001b[38;5;124mfigure\u001b[39m\u001b[38;5;124m'\u001b[39m),\n\u001b[1;32m     71\u001b[0m     Input(\u001b[38;5;124m'\u001b[39m\u001b[38;5;124mcrossfilter-xaxis-column\u001b[39m\u001b[38;5;124m'\u001b[39m, \u001b[38;5;124m'\u001b[39m\u001b[38;5;124mvalue\u001b[39m\u001b[38;5;124m'\u001b[39m),\n\u001b[0;32m   (...)\u001b[0m\n\u001b[1;32m     77\u001b[0m                  xaxis_type, yaxis_type,\n\u001b[1;32m     78\u001b[0m                  year_value):\n",
      "File \u001b[0;32m~/Desktop/it_pays_to_learn/Python/PythonPrograms/Chatbot/project-spur-webapp/env/lib/python3.8/site-packages/pandas/io/parsers/readers.py:912\u001b[0m, in \u001b[0;36mread_csv\u001b[0;34m(filepath_or_buffer, sep, delimiter, header, names, index_col, usecols, dtype, engine, converters, true_values, false_values, skipinitialspace, skiprows, skipfooter, nrows, na_values, keep_default_na, na_filter, verbose, skip_blank_lines, parse_dates, infer_datetime_format, keep_date_col, date_parser, date_format, dayfirst, cache_dates, iterator, chunksize, compression, thousands, decimal, lineterminator, quotechar, quoting, doublequote, escapechar, comment, encoding, encoding_errors, dialect, on_bad_lines, delim_whitespace, low_memory, memory_map, float_precision, storage_options, dtype_backend)\u001b[0m\n\u001b[1;32m    899\u001b[0m kwds_defaults \u001b[38;5;241m=\u001b[39m _refine_defaults_read(\n\u001b[1;32m    900\u001b[0m     dialect,\n\u001b[1;32m    901\u001b[0m     delimiter,\n\u001b[0;32m   (...)\u001b[0m\n\u001b[1;32m    908\u001b[0m     dtype_backend\u001b[38;5;241m=\u001b[39mdtype_backend,\n\u001b[1;32m    909\u001b[0m )\n\u001b[1;32m    910\u001b[0m kwds\u001b[38;5;241m.\u001b[39mupdate(kwds_defaults)\n\u001b[0;32m--> 912\u001b[0m \u001b[38;5;28;01mreturn\u001b[39;00m \u001b[43m_read\u001b[49m\u001b[43m(\u001b[49m\u001b[43mfilepath_or_buffer\u001b[49m\u001b[43m,\u001b[49m\u001b[43m \u001b[49m\u001b[43mkwds\u001b[49m\u001b[43m)\u001b[49m\n",
      "File \u001b[0;32m~/Desktop/it_pays_to_learn/Python/PythonPrograms/Chatbot/project-spur-webapp/env/lib/python3.8/site-packages/pandas/io/parsers/readers.py:577\u001b[0m, in \u001b[0;36m_read\u001b[0;34m(filepath_or_buffer, kwds)\u001b[0m\n\u001b[1;32m    574\u001b[0m _validate_names(kwds\u001b[38;5;241m.\u001b[39mget(\u001b[38;5;124m\"\u001b[39m\u001b[38;5;124mnames\u001b[39m\u001b[38;5;124m\"\u001b[39m, \u001b[38;5;28;01mNone\u001b[39;00m))\n\u001b[1;32m    576\u001b[0m \u001b[38;5;66;03m# Create the parser.\u001b[39;00m\n\u001b[0;32m--> 577\u001b[0m parser \u001b[38;5;241m=\u001b[39m \u001b[43mTextFileReader\u001b[49m\u001b[43m(\u001b[49m\u001b[43mfilepath_or_buffer\u001b[49m\u001b[43m,\u001b[49m\u001b[43m \u001b[49m\u001b[38;5;241;43m*\u001b[39;49m\u001b[38;5;241;43m*\u001b[39;49m\u001b[43mkwds\u001b[49m\u001b[43m)\u001b[49m\n\u001b[1;32m    579\u001b[0m \u001b[38;5;28;01mif\u001b[39;00m chunksize \u001b[38;5;129;01mor\u001b[39;00m iterator:\n\u001b[1;32m    580\u001b[0m     \u001b[38;5;28;01mreturn\u001b[39;00m parser\n",
      "File \u001b[0;32m~/Desktop/it_pays_to_learn/Python/PythonPrograms/Chatbot/project-spur-webapp/env/lib/python3.8/site-packages/pandas/io/parsers/readers.py:1407\u001b[0m, in \u001b[0;36mTextFileReader.__init__\u001b[0;34m(self, f, engine, **kwds)\u001b[0m\n\u001b[1;32m   1404\u001b[0m     \u001b[38;5;28mself\u001b[39m\u001b[38;5;241m.\u001b[39moptions[\u001b[38;5;124m\"\u001b[39m\u001b[38;5;124mhas_index_names\u001b[39m\u001b[38;5;124m\"\u001b[39m] \u001b[38;5;241m=\u001b[39m kwds[\u001b[38;5;124m\"\u001b[39m\u001b[38;5;124mhas_index_names\u001b[39m\u001b[38;5;124m\"\u001b[39m]\n\u001b[1;32m   1406\u001b[0m \u001b[38;5;28mself\u001b[39m\u001b[38;5;241m.\u001b[39mhandles: IOHandles \u001b[38;5;241m|\u001b[39m \u001b[38;5;28;01mNone\u001b[39;00m \u001b[38;5;241m=\u001b[39m \u001b[38;5;28;01mNone\u001b[39;00m\n\u001b[0;32m-> 1407\u001b[0m \u001b[38;5;28mself\u001b[39m\u001b[38;5;241m.\u001b[39m_engine \u001b[38;5;241m=\u001b[39m \u001b[38;5;28;43mself\u001b[39;49m\u001b[38;5;241;43m.\u001b[39;49m\u001b[43m_make_engine\u001b[49m\u001b[43m(\u001b[49m\u001b[43mf\u001b[49m\u001b[43m,\u001b[49m\u001b[43m \u001b[49m\u001b[38;5;28;43mself\u001b[39;49m\u001b[38;5;241;43m.\u001b[39;49m\u001b[43mengine\u001b[49m\u001b[43m)\u001b[49m\n",
      "File \u001b[0;32m~/Desktop/it_pays_to_learn/Python/PythonPrograms/Chatbot/project-spur-webapp/env/lib/python3.8/site-packages/pandas/io/parsers/readers.py:1661\u001b[0m, in \u001b[0;36mTextFileReader._make_engine\u001b[0;34m(self, f, engine)\u001b[0m\n\u001b[1;32m   1659\u001b[0m     \u001b[38;5;28;01mif\u001b[39;00m \u001b[38;5;124m\"\u001b[39m\u001b[38;5;124mb\u001b[39m\u001b[38;5;124m\"\u001b[39m \u001b[38;5;129;01mnot\u001b[39;00m \u001b[38;5;129;01min\u001b[39;00m mode:\n\u001b[1;32m   1660\u001b[0m         mode \u001b[38;5;241m+\u001b[39m\u001b[38;5;241m=\u001b[39m \u001b[38;5;124m\"\u001b[39m\u001b[38;5;124mb\u001b[39m\u001b[38;5;124m\"\u001b[39m\n\u001b[0;32m-> 1661\u001b[0m \u001b[38;5;28mself\u001b[39m\u001b[38;5;241m.\u001b[39mhandles \u001b[38;5;241m=\u001b[39m \u001b[43mget_handle\u001b[49m\u001b[43m(\u001b[49m\n\u001b[1;32m   1662\u001b[0m \u001b[43m    \u001b[49m\u001b[43mf\u001b[49m\u001b[43m,\u001b[49m\n\u001b[1;32m   1663\u001b[0m \u001b[43m    \u001b[49m\u001b[43mmode\u001b[49m\u001b[43m,\u001b[49m\n\u001b[1;32m   1664\u001b[0m \u001b[43m    \u001b[49m\u001b[43mencoding\u001b[49m\u001b[38;5;241;43m=\u001b[39;49m\u001b[38;5;28;43mself\u001b[39;49m\u001b[38;5;241;43m.\u001b[39;49m\u001b[43moptions\u001b[49m\u001b[38;5;241;43m.\u001b[39;49m\u001b[43mget\u001b[49m\u001b[43m(\u001b[49m\u001b[38;5;124;43m\"\u001b[39;49m\u001b[38;5;124;43mencoding\u001b[39;49m\u001b[38;5;124;43m\"\u001b[39;49m\u001b[43m,\u001b[49m\u001b[43m \u001b[49m\u001b[38;5;28;43;01mNone\u001b[39;49;00m\u001b[43m)\u001b[49m\u001b[43m,\u001b[49m\n\u001b[1;32m   1665\u001b[0m \u001b[43m    \u001b[49m\u001b[43mcompression\u001b[49m\u001b[38;5;241;43m=\u001b[39;49m\u001b[38;5;28;43mself\u001b[39;49m\u001b[38;5;241;43m.\u001b[39;49m\u001b[43moptions\u001b[49m\u001b[38;5;241;43m.\u001b[39;49m\u001b[43mget\u001b[49m\u001b[43m(\u001b[49m\u001b[38;5;124;43m\"\u001b[39;49m\u001b[38;5;124;43mcompression\u001b[39;49m\u001b[38;5;124;43m\"\u001b[39;49m\u001b[43m,\u001b[49m\u001b[43m \u001b[49m\u001b[38;5;28;43;01mNone\u001b[39;49;00m\u001b[43m)\u001b[49m\u001b[43m,\u001b[49m\n\u001b[1;32m   1666\u001b[0m \u001b[43m    \u001b[49m\u001b[43mmemory_map\u001b[49m\u001b[38;5;241;43m=\u001b[39;49m\u001b[38;5;28;43mself\u001b[39;49m\u001b[38;5;241;43m.\u001b[39;49m\u001b[43moptions\u001b[49m\u001b[38;5;241;43m.\u001b[39;49m\u001b[43mget\u001b[49m\u001b[43m(\u001b[49m\u001b[38;5;124;43m\"\u001b[39;49m\u001b[38;5;124;43mmemory_map\u001b[39;49m\u001b[38;5;124;43m\"\u001b[39;49m\u001b[43m,\u001b[49m\u001b[43m \u001b[49m\u001b[38;5;28;43;01mFalse\u001b[39;49;00m\u001b[43m)\u001b[49m\u001b[43m,\u001b[49m\n\u001b[1;32m   1667\u001b[0m \u001b[43m    \u001b[49m\u001b[43mis_text\u001b[49m\u001b[38;5;241;43m=\u001b[39;49m\u001b[43mis_text\u001b[49m\u001b[43m,\u001b[49m\n\u001b[1;32m   1668\u001b[0m \u001b[43m    \u001b[49m\u001b[43merrors\u001b[49m\u001b[38;5;241;43m=\u001b[39;49m\u001b[38;5;28;43mself\u001b[39;49m\u001b[38;5;241;43m.\u001b[39;49m\u001b[43moptions\u001b[49m\u001b[38;5;241;43m.\u001b[39;49m\u001b[43mget\u001b[49m\u001b[43m(\u001b[49m\u001b[38;5;124;43m\"\u001b[39;49m\u001b[38;5;124;43mencoding_errors\u001b[39;49m\u001b[38;5;124;43m\"\u001b[39;49m\u001b[43m,\u001b[49m\u001b[43m \u001b[49m\u001b[38;5;124;43m\"\u001b[39;49m\u001b[38;5;124;43mstrict\u001b[39;49m\u001b[38;5;124;43m\"\u001b[39;49m\u001b[43m)\u001b[49m\u001b[43m,\u001b[49m\n\u001b[1;32m   1669\u001b[0m \u001b[43m    \u001b[49m\u001b[43mstorage_options\u001b[49m\u001b[38;5;241;43m=\u001b[39;49m\u001b[38;5;28;43mself\u001b[39;49m\u001b[38;5;241;43m.\u001b[39;49m\u001b[43moptions\u001b[49m\u001b[38;5;241;43m.\u001b[39;49m\u001b[43mget\u001b[49m\u001b[43m(\u001b[49m\u001b[38;5;124;43m\"\u001b[39;49m\u001b[38;5;124;43mstorage_options\u001b[39;49m\u001b[38;5;124;43m\"\u001b[39;49m\u001b[43m,\u001b[49m\u001b[43m \u001b[49m\u001b[38;5;28;43;01mNone\u001b[39;49;00m\u001b[43m)\u001b[49m\u001b[43m,\u001b[49m\n\u001b[1;32m   1670\u001b[0m \u001b[43m\u001b[49m\u001b[43m)\u001b[49m\n\u001b[1;32m   1671\u001b[0m \u001b[38;5;28;01massert\u001b[39;00m \u001b[38;5;28mself\u001b[39m\u001b[38;5;241m.\u001b[39mhandles \u001b[38;5;129;01mis\u001b[39;00m \u001b[38;5;129;01mnot\u001b[39;00m \u001b[38;5;28;01mNone\u001b[39;00m\n\u001b[1;32m   1672\u001b[0m f \u001b[38;5;241m=\u001b[39m \u001b[38;5;28mself\u001b[39m\u001b[38;5;241m.\u001b[39mhandles\u001b[38;5;241m.\u001b[39mhandle\n",
      "File \u001b[0;32m~/Desktop/it_pays_to_learn/Python/PythonPrograms/Chatbot/project-spur-webapp/env/lib/python3.8/site-packages/pandas/io/common.py:716\u001b[0m, in \u001b[0;36mget_handle\u001b[0;34m(path_or_buf, mode, encoding, compression, memory_map, is_text, errors, storage_options)\u001b[0m\n\u001b[1;32m    713\u001b[0m     codecs\u001b[38;5;241m.\u001b[39mlookup_error(errors)\n\u001b[1;32m    715\u001b[0m \u001b[38;5;66;03m# open URLs\u001b[39;00m\n\u001b[0;32m--> 716\u001b[0m ioargs \u001b[38;5;241m=\u001b[39m \u001b[43m_get_filepath_or_buffer\u001b[49m\u001b[43m(\u001b[49m\n\u001b[1;32m    717\u001b[0m \u001b[43m    \u001b[49m\u001b[43mpath_or_buf\u001b[49m\u001b[43m,\u001b[49m\n\u001b[1;32m    718\u001b[0m \u001b[43m    \u001b[49m\u001b[43mencoding\u001b[49m\u001b[38;5;241;43m=\u001b[39;49m\u001b[43mencoding\u001b[49m\u001b[43m,\u001b[49m\n\u001b[1;32m    719\u001b[0m \u001b[43m    \u001b[49m\u001b[43mcompression\u001b[49m\u001b[38;5;241;43m=\u001b[39;49m\u001b[43mcompression\u001b[49m\u001b[43m,\u001b[49m\n\u001b[1;32m    720\u001b[0m \u001b[43m    \u001b[49m\u001b[43mmode\u001b[49m\u001b[38;5;241;43m=\u001b[39;49m\u001b[43mmode\u001b[49m\u001b[43m,\u001b[49m\n\u001b[1;32m    721\u001b[0m \u001b[43m    \u001b[49m\u001b[43mstorage_options\u001b[49m\u001b[38;5;241;43m=\u001b[39;49m\u001b[43mstorage_options\u001b[49m\u001b[43m,\u001b[49m\n\u001b[1;32m    722\u001b[0m \u001b[43m\u001b[49m\u001b[43m)\u001b[49m\n\u001b[1;32m    724\u001b[0m handle \u001b[38;5;241m=\u001b[39m ioargs\u001b[38;5;241m.\u001b[39mfilepath_or_buffer\n\u001b[1;32m    725\u001b[0m handles: \u001b[38;5;28mlist\u001b[39m[BaseBuffer]\n",
      "File \u001b[0;32m~/Desktop/it_pays_to_learn/Python/PythonPrograms/Chatbot/project-spur-webapp/env/lib/python3.8/site-packages/pandas/io/common.py:373\u001b[0m, in \u001b[0;36m_get_filepath_or_buffer\u001b[0;34m(filepath_or_buffer, encoding, compression, mode, storage_options)\u001b[0m\n\u001b[1;32m    370\u001b[0m         \u001b[38;5;28;01mif\u001b[39;00m content_encoding \u001b[38;5;241m==\u001b[39m \u001b[38;5;124m\"\u001b[39m\u001b[38;5;124mgzip\u001b[39m\u001b[38;5;124m\"\u001b[39m:\n\u001b[1;32m    371\u001b[0m             \u001b[38;5;66;03m# Override compression based on Content-Encoding header\u001b[39;00m\n\u001b[1;32m    372\u001b[0m             compression \u001b[38;5;241m=\u001b[39m {\u001b[38;5;124m\"\u001b[39m\u001b[38;5;124mmethod\u001b[39m\u001b[38;5;124m\"\u001b[39m: \u001b[38;5;124m\"\u001b[39m\u001b[38;5;124mgzip\u001b[39m\u001b[38;5;124m\"\u001b[39m}\n\u001b[0;32m--> 373\u001b[0m         reader \u001b[38;5;241m=\u001b[39m BytesIO(\u001b[43mreq\u001b[49m\u001b[38;5;241;43m.\u001b[39;49m\u001b[43mread\u001b[49m\u001b[43m(\u001b[49m\u001b[43m)\u001b[49m)\n\u001b[1;32m    374\u001b[0m     \u001b[38;5;28;01mreturn\u001b[39;00m IOArgs(\n\u001b[1;32m    375\u001b[0m         filepath_or_buffer\u001b[38;5;241m=\u001b[39mreader,\n\u001b[1;32m    376\u001b[0m         encoding\u001b[38;5;241m=\u001b[39mencoding,\n\u001b[0;32m   (...)\u001b[0m\n\u001b[1;32m    379\u001b[0m         mode\u001b[38;5;241m=\u001b[39mfsspec_mode,\n\u001b[1;32m    380\u001b[0m     )\n\u001b[1;32m    382\u001b[0m \u001b[38;5;28;01mif\u001b[39;00m is_fsspec_url(filepath_or_buffer):\n",
      "File \u001b[0;32m/Library/Frameworks/Python.framework/Versions/3.8/lib/python3.8/http/client.py:467\u001b[0m, in \u001b[0;36mHTTPResponse.read\u001b[0;34m(self, amt)\u001b[0m\n\u001b[1;32m    465\u001b[0m \u001b[38;5;28;01melse\u001b[39;00m:\n\u001b[1;32m    466\u001b[0m     \u001b[38;5;28;01mtry\u001b[39;00m:\n\u001b[0;32m--> 467\u001b[0m         s \u001b[38;5;241m=\u001b[39m \u001b[38;5;28;43mself\u001b[39;49m\u001b[38;5;241;43m.\u001b[39;49m\u001b[43m_safe_read\u001b[49m\u001b[43m(\u001b[49m\u001b[38;5;28;43mself\u001b[39;49m\u001b[38;5;241;43m.\u001b[39;49m\u001b[43mlength\u001b[49m\u001b[43m)\u001b[49m\n\u001b[1;32m    468\u001b[0m     \u001b[38;5;28;01mexcept\u001b[39;00m IncompleteRead:\n\u001b[1;32m    469\u001b[0m         \u001b[38;5;28mself\u001b[39m\u001b[38;5;241m.\u001b[39m_close_conn()\n",
      "File \u001b[0;32m/Library/Frameworks/Python.framework/Versions/3.8/lib/python3.8/http/client.py:608\u001b[0m, in \u001b[0;36mHTTPResponse._safe_read\u001b[0;34m(self, amt)\u001b[0m\n\u001b[1;32m    601\u001b[0m \u001b[38;5;28;01mdef\u001b[39;00m \u001b[38;5;21m_safe_read\u001b[39m(\u001b[38;5;28mself\u001b[39m, amt):\n\u001b[1;32m    602\u001b[0m \u001b[38;5;250m    \u001b[39m\u001b[38;5;124;03m\"\"\"Read the number of bytes requested.\u001b[39;00m\n\u001b[1;32m    603\u001b[0m \n\u001b[1;32m    604\u001b[0m \u001b[38;5;124;03m    This function should be used when <amt> bytes \"should\" be present for\u001b[39;00m\n\u001b[1;32m    605\u001b[0m \u001b[38;5;124;03m    reading. If the bytes are truly not available (due to EOF), then the\u001b[39;00m\n\u001b[1;32m    606\u001b[0m \u001b[38;5;124;03m    IncompleteRead exception can be used to detect the problem.\u001b[39;00m\n\u001b[1;32m    607\u001b[0m \u001b[38;5;124;03m    \"\"\"\u001b[39;00m\n\u001b[0;32m--> 608\u001b[0m     data \u001b[38;5;241m=\u001b[39m \u001b[38;5;28;43mself\u001b[39;49m\u001b[38;5;241;43m.\u001b[39;49m\u001b[43mfp\u001b[49m\u001b[38;5;241;43m.\u001b[39;49m\u001b[43mread\u001b[49m\u001b[43m(\u001b[49m\u001b[43mamt\u001b[49m\u001b[43m)\u001b[49m\n\u001b[1;32m    609\u001b[0m     \u001b[38;5;28;01mif\u001b[39;00m \u001b[38;5;28mlen\u001b[39m(data) \u001b[38;5;241m<\u001b[39m amt:\n\u001b[1;32m    610\u001b[0m         \u001b[38;5;28;01mraise\u001b[39;00m IncompleteRead(data, amt\u001b[38;5;241m-\u001b[39m\u001b[38;5;28mlen\u001b[39m(data))\n",
      "File \u001b[0;32m/Library/Frameworks/Python.framework/Versions/3.8/lib/python3.8/socket.py:669\u001b[0m, in \u001b[0;36mSocketIO.readinto\u001b[0;34m(self, b)\u001b[0m\n\u001b[1;32m    667\u001b[0m \u001b[38;5;28;01mwhile\u001b[39;00m \u001b[38;5;28;01mTrue\u001b[39;00m:\n\u001b[1;32m    668\u001b[0m     \u001b[38;5;28;01mtry\u001b[39;00m:\n\u001b[0;32m--> 669\u001b[0m         \u001b[38;5;28;01mreturn\u001b[39;00m \u001b[38;5;28;43mself\u001b[39;49m\u001b[38;5;241;43m.\u001b[39;49m\u001b[43m_sock\u001b[49m\u001b[38;5;241;43m.\u001b[39;49m\u001b[43mrecv_into\u001b[49m\u001b[43m(\u001b[49m\u001b[43mb\u001b[49m\u001b[43m)\u001b[49m\n\u001b[1;32m    670\u001b[0m     \u001b[38;5;28;01mexcept\u001b[39;00m timeout:\n\u001b[1;32m    671\u001b[0m         \u001b[38;5;28mself\u001b[39m\u001b[38;5;241m.\u001b[39m_timeout_occurred \u001b[38;5;241m=\u001b[39m \u001b[38;5;28;01mTrue\u001b[39;00m\n",
      "File \u001b[0;32m/Library/Frameworks/Python.framework/Versions/3.8/lib/python3.8/ssl.py:1241\u001b[0m, in \u001b[0;36mSSLSocket.recv_into\u001b[0;34m(self, buffer, nbytes, flags)\u001b[0m\n\u001b[1;32m   1237\u001b[0m     \u001b[38;5;28;01mif\u001b[39;00m flags \u001b[38;5;241m!=\u001b[39m \u001b[38;5;241m0\u001b[39m:\n\u001b[1;32m   1238\u001b[0m         \u001b[38;5;28;01mraise\u001b[39;00m \u001b[38;5;167;01mValueError\u001b[39;00m(\n\u001b[1;32m   1239\u001b[0m           \u001b[38;5;124m\"\u001b[39m\u001b[38;5;124mnon-zero flags not allowed in calls to recv_into() on \u001b[39m\u001b[38;5;132;01m%s\u001b[39;00m\u001b[38;5;124m\"\u001b[39m \u001b[38;5;241m%\u001b[39m\n\u001b[1;32m   1240\u001b[0m           \u001b[38;5;28mself\u001b[39m\u001b[38;5;241m.\u001b[39m\u001b[38;5;18m__class__\u001b[39m)\n\u001b[0;32m-> 1241\u001b[0m     \u001b[38;5;28;01mreturn\u001b[39;00m \u001b[38;5;28;43mself\u001b[39;49m\u001b[38;5;241;43m.\u001b[39;49m\u001b[43mread\u001b[49m\u001b[43m(\u001b[49m\u001b[43mnbytes\u001b[49m\u001b[43m,\u001b[49m\u001b[43m \u001b[49m\u001b[43mbuffer\u001b[49m\u001b[43m)\u001b[49m\n\u001b[1;32m   1242\u001b[0m \u001b[38;5;28;01melse\u001b[39;00m:\n\u001b[1;32m   1243\u001b[0m     \u001b[38;5;28;01mreturn\u001b[39;00m \u001b[38;5;28msuper\u001b[39m()\u001b[38;5;241m.\u001b[39mrecv_into(buffer, nbytes, flags)\n",
      "File \u001b[0;32m/Library/Frameworks/Python.framework/Versions/3.8/lib/python3.8/ssl.py:1099\u001b[0m, in \u001b[0;36mSSLSocket.read\u001b[0;34m(self, len, buffer)\u001b[0m\n\u001b[1;32m   1097\u001b[0m \u001b[38;5;28;01mtry\u001b[39;00m:\n\u001b[1;32m   1098\u001b[0m     \u001b[38;5;28;01mif\u001b[39;00m buffer \u001b[38;5;129;01mis\u001b[39;00m \u001b[38;5;129;01mnot\u001b[39;00m \u001b[38;5;28;01mNone\u001b[39;00m:\n\u001b[0;32m-> 1099\u001b[0m         \u001b[38;5;28;01mreturn\u001b[39;00m \u001b[38;5;28;43mself\u001b[39;49m\u001b[38;5;241;43m.\u001b[39;49m\u001b[43m_sslobj\u001b[49m\u001b[38;5;241;43m.\u001b[39;49m\u001b[43mread\u001b[49m\u001b[43m(\u001b[49m\u001b[38;5;28;43mlen\u001b[39;49m\u001b[43m,\u001b[49m\u001b[43m \u001b[49m\u001b[43mbuffer\u001b[49m\u001b[43m)\u001b[49m\n\u001b[1;32m   1100\u001b[0m     \u001b[38;5;28;01melse\u001b[39;00m:\n\u001b[1;32m   1101\u001b[0m         \u001b[38;5;28;01mreturn\u001b[39;00m \u001b[38;5;28mself\u001b[39m\u001b[38;5;241m.\u001b[39m_sslobj\u001b[38;5;241m.\u001b[39mread(\u001b[38;5;28mlen\u001b[39m)\n",
      "\u001b[0;31mKeyboardInterrupt\u001b[0m: "
     ]
    }
   ],
   "source": [
    "from dash import Dash, html, dcc, Input, Output, callback\n",
    "import pandas as pd\n",
    "import plotly.express as px\n",
    "\n",
    "external_stylesheets = ['https://codepen.io/chriddyp/pen/bWLwgP.css']\n",
    "\n",
    "app = Dash(__name__, external_stylesheets=external_stylesheets)\n",
    "\n",
    "df = pd.read_csv('https://plotly.github.io/datasets/country_indicators.csv')\n",
    "\n",
    "\n",
    "app.layout = html.Div([\n",
    "    html.Div([\n",
    "\n",
    "        html.Div([\n",
    "            dcc.Dropdown(\n",
    "                df['Indicator Name'].unique(),\n",
    "                'Fertility rate, total (births per woman)',\n",
    "                id='crossfilter-xaxis-column',\n",
    "            ),\n",
    "            dcc.RadioItems(\n",
    "                ['Linear', 'Log'],\n",
    "                'Linear',\n",
    "                id='crossfilter-xaxis-type',\n",
    "                labelStyle={'display': 'inline-block', 'marginTop': '5px'}\n",
    "            )\n",
    "        ],\n",
    "        style={'width': '49%', 'display': 'inline-block'}),\n",
    "\n",
    "        html.Div([\n",
    "            dcc.Dropdown(\n",
    "                df['Indicator Name'].unique(),\n",
    "                'Life expectancy at birth, total (years)',\n",
    "                id='crossfilter-yaxis-column'\n",
    "            ),\n",
    "            dcc.RadioItems(\n",
    "                ['Linear', 'Log'],\n",
    "                'Linear',\n",
    "                id='crossfilter-yaxis-type',\n",
    "                labelStyle={'display': 'inline-block', 'marginTop': '5px'}\n",
    "            )\n",
    "        ], style={'width': '49%', 'float': 'right', 'display': 'inline-block'})\n",
    "    ], style={\n",
    "        'padding': '10px 5px'\n",
    "    }),\n",
    "\n",
    "    html.Div([\n",
    "        dcc.Graph(\n",
    "            id='crossfilter-indicator-scatter',\n",
    "            hoverData={'points': [{'customdata': 'Japan'}]}\n",
    "        )\n",
    "    ], style={'width': '49%', 'display': 'inline-block', 'padding': '0 20'}),\n",
    "    html.Div([\n",
    "        dcc.Graph(id='x-time-series'),\n",
    "        dcc.Graph(id='y-time-series'),\n",
    "    ], style={'display': 'inline-block', 'width': '49%'}),\n",
    "\n",
    "    html.Div(dcc.Slider(\n",
    "        df['Year'].min(),\n",
    "        df['Year'].max(),\n",
    "        step=None,\n",
    "        id='crossfilter-year--slider',\n",
    "        value=df['Year'].max(),\n",
    "        marks={str(year): str(year) for year in df['Year'].unique()}\n",
    "    ), style={'width': '49%', 'padding': '0px 20px 20px 20px'})\n",
    "])\n",
    "\n",
    "\n",
    "@callback(\n",
    "    Output('crossfilter-indicator-scatter', 'figure'),\n",
    "    Input('crossfilter-xaxis-column', 'value'),\n",
    "    Input('crossfilter-yaxis-column', 'value'),\n",
    "    Input('crossfilter-xaxis-type', 'value'),\n",
    "    Input('crossfilter-yaxis-type', 'value'),\n",
    "    Input('crossfilter-year--slider', 'value'))\n",
    "def update_graph(xaxis_column_name, yaxis_column_name,\n",
    "                 xaxis_type, yaxis_type,\n",
    "                 year_value):\n",
    "    dff = df[df['Year'] == year_value]\n",
    "\n",
    "    fig = px.scatter(x=dff[dff['Indicator Name'] == xaxis_column_name]['Value'],\n",
    "            y=dff[dff['Indicator Name'] == yaxis_column_name]['Value'],\n",
    "            hover_name=dff[dff['Indicator Name'] == yaxis_column_name]['Country Name']\n",
    "            )\n",
    "\n",
    "    fig.update_traces(customdata=dff[dff['Indicator Name'] == yaxis_column_name]['Country Name'])\n",
    "\n",
    "    fig.update_xaxes(title=xaxis_column_name, type='linear' if xaxis_type == 'Linear' else 'log')\n",
    "\n",
    "    fig.update_yaxes(title=yaxis_column_name, type='linear' if yaxis_type == 'Linear' else 'log')\n",
    "\n",
    "    fig.update_layout(margin={'l': 40, 'b': 40, 't': 10, 'r': 0}, hovermode='closest')\n",
    "\n",
    "    return fig\n",
    "\n",
    "\n",
    "def create_time_series(dff, axis_type, title):\n",
    "\n",
    "    fig = px.scatter(dff, x='Year', y='Value')\n",
    "\n",
    "    fig.update_traces(mode='lines+markers')\n",
    "\n",
    "    fig.update_xaxes(showgrid=False)\n",
    "\n",
    "    fig.update_yaxes(type='linear' if axis_type == 'Linear' else 'log')\n",
    "\n",
    "    fig.add_annotation(x=0, y=0.85, xanchor='left', yanchor='bottom',\n",
    "                       xref='paper', yref='paper', showarrow=False, align='left',\n",
    "                       text=title)\n",
    "\n",
    "    fig.update_layout(height=225, margin={'l': 20, 'b': 30, 'r': 10, 't': 10})\n",
    "\n",
    "    return fig\n",
    "\n",
    "\n",
    "@callback(\n",
    "    Output('x-time-series', 'figure'),\n",
    "    Input('crossfilter-indicator-scatter', 'hoverData'),\n",
    "    Input('crossfilter-xaxis-column', 'value'),\n",
    "    Input('crossfilter-xaxis-type', 'value'))\n",
    "def update_x_timeseries(hoverData, xaxis_column_name, axis_type):\n",
    "    country_name = hoverData['points'][0]['customdata']\n",
    "    dff = df[df['Country Name'] == country_name]\n",
    "    dff = dff[dff['Indicator Name'] == xaxis_column_name]\n",
    "    title = '<b>{}</b><br>{}'.format(country_name, xaxis_column_name)\n",
    "    return create_time_series(dff, axis_type, title)\n",
    "\n",
    "\n",
    "@callback(\n",
    "    Output('y-time-series', 'figure'),\n",
    "    Input('crossfilter-indicator-scatter', 'hoverData'),\n",
    "    Input('crossfilter-yaxis-column', 'value'),\n",
    "    Input('crossfilter-yaxis-type', 'value'))\n",
    "def update_y_timeseries(hoverData, yaxis_column_name, axis_type):\n",
    "    dff = df[df['Country Name'] == hoverData['points'][0]['customdata']]\n",
    "    dff = dff[dff['Indicator Name'] == yaxis_column_name]\n",
    "    return create_time_series(dff, axis_type, yaxis_column_name)\n",
    "\n",
    "\n",
    "if __name__ == '__main__':\n",
    "    app.run(debug=True)\n"
   ]
  },
  {
   "cell_type": "code",
   "execution_count": null,
   "metadata": {},
   "outputs": [],
   "source": []
  }
 ],
 "metadata": {
  "kernelspec": {
   "display_name": "env",
   "language": "python",
   "name": "python3"
  },
  "language_info": {
   "codemirror_mode": {
    "name": "ipython",
    "version": 3
   },
   "file_extension": ".py",
   "mimetype": "text/x-python",
   "name": "python",
   "nbconvert_exporter": "python",
   "pygments_lexer": "ipython3",
   "version": "3.8.2"
  }
 },
 "nbformat": 4,
 "nbformat_minor": 2
}
